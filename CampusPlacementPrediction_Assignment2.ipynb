{
  "nbformat": 4,
  "nbformat_minor": 0,
  "metadata": {
    "colab": {
      "provenance": []
    },
    "kernelspec": {
      "name": "python3",
      "display_name": "Python 3"
    },
    "language_info": {
      "name": "python"
    }
  },
  "cells": [
    {
      "cell_type": "code",
      "source": [
        "\n",
        "!pip install xgboost==1.7.5"
      ],
      "metadata": {
        "colab": {
          "base_uri": "https://localhost:8080/"
        },
        "id": "G4ZfJfMQuGBW",
        "outputId": "7f41f46f-f0fa-4eac-ca49-6cd204c3c50a"
      },
      "execution_count": 1,
      "outputs": [
        {
          "output_type": "stream",
          "name": "stdout",
          "text": [
            "Collecting xgboost==1.7.5\n",
            "  Downloading xgboost-1.7.5-py3-none-manylinux2014_x86_64.whl.metadata (1.9 kB)\n",
            "Requirement already satisfied: numpy in /usr/local/lib/python3.10/dist-packages (from xgboost==1.7.5) (1.26.4)\n",
            "Requirement already satisfied: scipy in /usr/local/lib/python3.10/dist-packages (from xgboost==1.7.5) (1.13.1)\n",
            "Downloading xgboost-1.7.5-py3-none-manylinux2014_x86_64.whl (200.3 MB)\n",
            "\u001b[2K   \u001b[90m━━━━━━━━━━━━━━━━━━━━━━━━━━━━━━━━━━━━━━━━\u001b[0m \u001b[32m200.3/200.3 MB\u001b[0m \u001b[31m3.5 MB/s\u001b[0m eta \u001b[36m0:00:00\u001b[0m\n",
            "\u001b[?25hInstalling collected packages: xgboost\n",
            "  Attempting uninstall: xgboost\n",
            "    Found existing installation: xgboost 2.1.2\n",
            "    Uninstalling xgboost-2.1.2:\n",
            "      Successfully uninstalled xgboost-2.1.2\n",
            "Successfully installed xgboost-1.7.5\n"
          ]
        }
      ]
    },
    {
      "cell_type": "code",
      "execution_count": 74,
      "metadata": {
        "id": "OoO7T2x-tm1U"
      },
      "outputs": [],
      "source": [
        "\n",
        "import pandas as pd\n",
        "import numpy as np\n",
        "import matplotlib.pyplot as plt\n",
        "import seaborn as sns\n",
        "from sklearn.model_selection import train_test_split, GridSearchCV\n",
        "from sklearn.compose import ColumnTransformer\n",
        "from sklearn.preprocessing import LabelEncoder, StandardScaler\n",
        "from sklearn.ensemble import RandomForestClassifier, VotingClassifier\n",
        "from sklearn.linear_model import LogisticRegression\n",
        "from sklearn.tree import DecisionTreeClassifier\n",
        "from sklearn.svm import SVC\n",
        "from sklearn.metrics import accuracy_score, precision_score, recall_score, f1_score, confusion_matrix, classification_report\n",
        "from xgboost import XGBClassifier\n",
        "\n",
        "import warnings\n",
        "warnings.filterwarnings('ignore')"
      ]
    },
    {
      "cell_type": "code",
      "source": [
        "# Loading the data\n",
        "train_data = pd.read_csv(\"train.csv\")\n",
        "test_data = pd.read_csv(\"test.csv\")\n",
        "sample_submission = pd.read_csv(\"SampleSubmission.csv\")\n",
        "\n",
        "# Displaying first few rows to understand structure\n",
        "train_data.head()"
      ],
      "metadata": {
        "colab": {
          "base_uri": "https://localhost:8080/",
          "height": 206
        },
        "id": "NVOva0iC5bDI",
        "outputId": "61b0c547-943c-432d-fb34-00406447a905"
      },
      "execution_count": 3,
      "outputs": [
        {
          "output_type": "execute_result",
          "data": {
            "text/plain": [
              "   sl_no  gender  ssc_p    ssc_b  hsc_p    hsc_b     hsc_s  degree_p  \\\n",
              "0      1       0  67.00   Others  91.00   Others  Commerce     58.00   \n",
              "1      2       0  79.33  Central  78.33   Others   Science     77.48   \n",
              "2      3       0  65.00  Central  68.00  Central      Arts     64.00   \n",
              "3      4       0  56.00  Central  52.00  Central   Science     52.00   \n",
              "4      5       0  85.80  Central  73.60  Central  Commerce     73.30   \n",
              "\n",
              "    degree_t workex  etest_p specialisation  mba_p      status    salary  \n",
              "0   Sci&Tech     No     55.0         Mkt&HR  58.80      Placed  270000.0  \n",
              "1   Sci&Tech    Yes     86.5        Mkt&Fin  66.28      Placed  200000.0  \n",
              "2  Comm&Mgmt     No     75.0        Mkt&Fin  57.80      Placed  250000.0  \n",
              "3   Sci&Tech     No     66.0         Mkt&HR  59.43  Not Placed       NaN  \n",
              "4  Comm&Mgmt     No     96.8        Mkt&Fin  55.50      Placed  425000.0  "
            ],
            "text/html": [
              "\n",
              "  <div id=\"df-d5f1d2f3-a427-4ec5-901c-9f472d70c589\" class=\"colab-df-container\">\n",
              "    <div>\n",
              "<style scoped>\n",
              "    .dataframe tbody tr th:only-of-type {\n",
              "        vertical-align: middle;\n",
              "    }\n",
              "\n",
              "    .dataframe tbody tr th {\n",
              "        vertical-align: top;\n",
              "    }\n",
              "\n",
              "    .dataframe thead th {\n",
              "        text-align: right;\n",
              "    }\n",
              "</style>\n",
              "<table border=\"1\" class=\"dataframe\">\n",
              "  <thead>\n",
              "    <tr style=\"text-align: right;\">\n",
              "      <th></th>\n",
              "      <th>sl_no</th>\n",
              "      <th>gender</th>\n",
              "      <th>ssc_p</th>\n",
              "      <th>ssc_b</th>\n",
              "      <th>hsc_p</th>\n",
              "      <th>hsc_b</th>\n",
              "      <th>hsc_s</th>\n",
              "      <th>degree_p</th>\n",
              "      <th>degree_t</th>\n",
              "      <th>workex</th>\n",
              "      <th>etest_p</th>\n",
              "      <th>specialisation</th>\n",
              "      <th>mba_p</th>\n",
              "      <th>status</th>\n",
              "      <th>salary</th>\n",
              "    </tr>\n",
              "  </thead>\n",
              "  <tbody>\n",
              "    <tr>\n",
              "      <th>0</th>\n",
              "      <td>1</td>\n",
              "      <td>0</td>\n",
              "      <td>67.00</td>\n",
              "      <td>Others</td>\n",
              "      <td>91.00</td>\n",
              "      <td>Others</td>\n",
              "      <td>Commerce</td>\n",
              "      <td>58.00</td>\n",
              "      <td>Sci&amp;Tech</td>\n",
              "      <td>No</td>\n",
              "      <td>55.0</td>\n",
              "      <td>Mkt&amp;HR</td>\n",
              "      <td>58.80</td>\n",
              "      <td>Placed</td>\n",
              "      <td>270000.0</td>\n",
              "    </tr>\n",
              "    <tr>\n",
              "      <th>1</th>\n",
              "      <td>2</td>\n",
              "      <td>0</td>\n",
              "      <td>79.33</td>\n",
              "      <td>Central</td>\n",
              "      <td>78.33</td>\n",
              "      <td>Others</td>\n",
              "      <td>Science</td>\n",
              "      <td>77.48</td>\n",
              "      <td>Sci&amp;Tech</td>\n",
              "      <td>Yes</td>\n",
              "      <td>86.5</td>\n",
              "      <td>Mkt&amp;Fin</td>\n",
              "      <td>66.28</td>\n",
              "      <td>Placed</td>\n",
              "      <td>200000.0</td>\n",
              "    </tr>\n",
              "    <tr>\n",
              "      <th>2</th>\n",
              "      <td>3</td>\n",
              "      <td>0</td>\n",
              "      <td>65.00</td>\n",
              "      <td>Central</td>\n",
              "      <td>68.00</td>\n",
              "      <td>Central</td>\n",
              "      <td>Arts</td>\n",
              "      <td>64.00</td>\n",
              "      <td>Comm&amp;Mgmt</td>\n",
              "      <td>No</td>\n",
              "      <td>75.0</td>\n",
              "      <td>Mkt&amp;Fin</td>\n",
              "      <td>57.80</td>\n",
              "      <td>Placed</td>\n",
              "      <td>250000.0</td>\n",
              "    </tr>\n",
              "    <tr>\n",
              "      <th>3</th>\n",
              "      <td>4</td>\n",
              "      <td>0</td>\n",
              "      <td>56.00</td>\n",
              "      <td>Central</td>\n",
              "      <td>52.00</td>\n",
              "      <td>Central</td>\n",
              "      <td>Science</td>\n",
              "      <td>52.00</td>\n",
              "      <td>Sci&amp;Tech</td>\n",
              "      <td>No</td>\n",
              "      <td>66.0</td>\n",
              "      <td>Mkt&amp;HR</td>\n",
              "      <td>59.43</td>\n",
              "      <td>Not Placed</td>\n",
              "      <td>NaN</td>\n",
              "    </tr>\n",
              "    <tr>\n",
              "      <th>4</th>\n",
              "      <td>5</td>\n",
              "      <td>0</td>\n",
              "      <td>85.80</td>\n",
              "      <td>Central</td>\n",
              "      <td>73.60</td>\n",
              "      <td>Central</td>\n",
              "      <td>Commerce</td>\n",
              "      <td>73.30</td>\n",
              "      <td>Comm&amp;Mgmt</td>\n",
              "      <td>No</td>\n",
              "      <td>96.8</td>\n",
              "      <td>Mkt&amp;Fin</td>\n",
              "      <td>55.50</td>\n",
              "      <td>Placed</td>\n",
              "      <td>425000.0</td>\n",
              "    </tr>\n",
              "  </tbody>\n",
              "</table>\n",
              "</div>\n",
              "    <div class=\"colab-df-buttons\">\n",
              "\n",
              "  <div class=\"colab-df-container\">\n",
              "    <button class=\"colab-df-convert\" onclick=\"convertToInteractive('df-d5f1d2f3-a427-4ec5-901c-9f472d70c589')\"\n",
              "            title=\"Convert this dataframe to an interactive table.\"\n",
              "            style=\"display:none;\">\n",
              "\n",
              "  <svg xmlns=\"http://www.w3.org/2000/svg\" height=\"24px\" viewBox=\"0 -960 960 960\">\n",
              "    <path d=\"M120-120v-720h720v720H120Zm60-500h600v-160H180v160Zm220 220h160v-160H400v160Zm0 220h160v-160H400v160ZM180-400h160v-160H180v160Zm440 0h160v-160H620v160ZM180-180h160v-160H180v160Zm440 0h160v-160H620v160Z\"/>\n",
              "  </svg>\n",
              "    </button>\n",
              "\n",
              "  <style>\n",
              "    .colab-df-container {\n",
              "      display:flex;\n",
              "      gap: 12px;\n",
              "    }\n",
              "\n",
              "    .colab-df-convert {\n",
              "      background-color: #E8F0FE;\n",
              "      border: none;\n",
              "      border-radius: 50%;\n",
              "      cursor: pointer;\n",
              "      display: none;\n",
              "      fill: #1967D2;\n",
              "      height: 32px;\n",
              "      padding: 0 0 0 0;\n",
              "      width: 32px;\n",
              "    }\n",
              "\n",
              "    .colab-df-convert:hover {\n",
              "      background-color: #E2EBFA;\n",
              "      box-shadow: 0px 1px 2px rgba(60, 64, 67, 0.3), 0px 1px 3px 1px rgba(60, 64, 67, 0.15);\n",
              "      fill: #174EA6;\n",
              "    }\n",
              "\n",
              "    .colab-df-buttons div {\n",
              "      margin-bottom: 4px;\n",
              "    }\n",
              "\n",
              "    [theme=dark] .colab-df-convert {\n",
              "      background-color: #3B4455;\n",
              "      fill: #D2E3FC;\n",
              "    }\n",
              "\n",
              "    [theme=dark] .colab-df-convert:hover {\n",
              "      background-color: #434B5C;\n",
              "      box-shadow: 0px 1px 3px 1px rgba(0, 0, 0, 0.15);\n",
              "      filter: drop-shadow(0px 1px 2px rgba(0, 0, 0, 0.3));\n",
              "      fill: #FFFFFF;\n",
              "    }\n",
              "  </style>\n",
              "\n",
              "    <script>\n",
              "      const buttonEl =\n",
              "        document.querySelector('#df-d5f1d2f3-a427-4ec5-901c-9f472d70c589 button.colab-df-convert');\n",
              "      buttonEl.style.display =\n",
              "        google.colab.kernel.accessAllowed ? 'block' : 'none';\n",
              "\n",
              "      async function convertToInteractive(key) {\n",
              "        const element = document.querySelector('#df-d5f1d2f3-a427-4ec5-901c-9f472d70c589');\n",
              "        const dataTable =\n",
              "          await google.colab.kernel.invokeFunction('convertToInteractive',\n",
              "                                                    [key], {});\n",
              "        if (!dataTable) return;\n",
              "\n",
              "        const docLinkHtml = 'Like what you see? Visit the ' +\n",
              "          '<a target=\"_blank\" href=https://colab.research.google.com/notebooks/data_table.ipynb>data table notebook</a>'\n",
              "          + ' to learn more about interactive tables.';\n",
              "        element.innerHTML = '';\n",
              "        dataTable['output_type'] = 'display_data';\n",
              "        await google.colab.output.renderOutput(dataTable, element);\n",
              "        const docLink = document.createElement('div');\n",
              "        docLink.innerHTML = docLinkHtml;\n",
              "        element.appendChild(docLink);\n",
              "      }\n",
              "    </script>\n",
              "  </div>\n",
              "\n",
              "\n",
              "<div id=\"df-b7c7af97-58f3-4585-9824-3a6593d22d40\">\n",
              "  <button class=\"colab-df-quickchart\" onclick=\"quickchart('df-b7c7af97-58f3-4585-9824-3a6593d22d40')\"\n",
              "            title=\"Suggest charts\"\n",
              "            style=\"display:none;\">\n",
              "\n",
              "<svg xmlns=\"http://www.w3.org/2000/svg\" height=\"24px\"viewBox=\"0 0 24 24\"\n",
              "     width=\"24px\">\n",
              "    <g>\n",
              "        <path d=\"M19 3H5c-1.1 0-2 .9-2 2v14c0 1.1.9 2 2 2h14c1.1 0 2-.9 2-2V5c0-1.1-.9-2-2-2zM9 17H7v-7h2v7zm4 0h-2V7h2v10zm4 0h-2v-4h2v4z\"/>\n",
              "    </g>\n",
              "</svg>\n",
              "  </button>\n",
              "\n",
              "<style>\n",
              "  .colab-df-quickchart {\n",
              "      --bg-color: #E8F0FE;\n",
              "      --fill-color: #1967D2;\n",
              "      --hover-bg-color: #E2EBFA;\n",
              "      --hover-fill-color: #174EA6;\n",
              "      --disabled-fill-color: #AAA;\n",
              "      --disabled-bg-color: #DDD;\n",
              "  }\n",
              "\n",
              "  [theme=dark] .colab-df-quickchart {\n",
              "      --bg-color: #3B4455;\n",
              "      --fill-color: #D2E3FC;\n",
              "      --hover-bg-color: #434B5C;\n",
              "      --hover-fill-color: #FFFFFF;\n",
              "      --disabled-bg-color: #3B4455;\n",
              "      --disabled-fill-color: #666;\n",
              "  }\n",
              "\n",
              "  .colab-df-quickchart {\n",
              "    background-color: var(--bg-color);\n",
              "    border: none;\n",
              "    border-radius: 50%;\n",
              "    cursor: pointer;\n",
              "    display: none;\n",
              "    fill: var(--fill-color);\n",
              "    height: 32px;\n",
              "    padding: 0;\n",
              "    width: 32px;\n",
              "  }\n",
              "\n",
              "  .colab-df-quickchart:hover {\n",
              "    background-color: var(--hover-bg-color);\n",
              "    box-shadow: 0 1px 2px rgba(60, 64, 67, 0.3), 0 1px 3px 1px rgba(60, 64, 67, 0.15);\n",
              "    fill: var(--button-hover-fill-color);\n",
              "  }\n",
              "\n",
              "  .colab-df-quickchart-complete:disabled,\n",
              "  .colab-df-quickchart-complete:disabled:hover {\n",
              "    background-color: var(--disabled-bg-color);\n",
              "    fill: var(--disabled-fill-color);\n",
              "    box-shadow: none;\n",
              "  }\n",
              "\n",
              "  .colab-df-spinner {\n",
              "    border: 2px solid var(--fill-color);\n",
              "    border-color: transparent;\n",
              "    border-bottom-color: var(--fill-color);\n",
              "    animation:\n",
              "      spin 1s steps(1) infinite;\n",
              "  }\n",
              "\n",
              "  @keyframes spin {\n",
              "    0% {\n",
              "      border-color: transparent;\n",
              "      border-bottom-color: var(--fill-color);\n",
              "      border-left-color: var(--fill-color);\n",
              "    }\n",
              "    20% {\n",
              "      border-color: transparent;\n",
              "      border-left-color: var(--fill-color);\n",
              "      border-top-color: var(--fill-color);\n",
              "    }\n",
              "    30% {\n",
              "      border-color: transparent;\n",
              "      border-left-color: var(--fill-color);\n",
              "      border-top-color: var(--fill-color);\n",
              "      border-right-color: var(--fill-color);\n",
              "    }\n",
              "    40% {\n",
              "      border-color: transparent;\n",
              "      border-right-color: var(--fill-color);\n",
              "      border-top-color: var(--fill-color);\n",
              "    }\n",
              "    60% {\n",
              "      border-color: transparent;\n",
              "      border-right-color: var(--fill-color);\n",
              "    }\n",
              "    80% {\n",
              "      border-color: transparent;\n",
              "      border-right-color: var(--fill-color);\n",
              "      border-bottom-color: var(--fill-color);\n",
              "    }\n",
              "    90% {\n",
              "      border-color: transparent;\n",
              "      border-bottom-color: var(--fill-color);\n",
              "    }\n",
              "  }\n",
              "</style>\n",
              "\n",
              "  <script>\n",
              "    async function quickchart(key) {\n",
              "      const quickchartButtonEl =\n",
              "        document.querySelector('#' + key + ' button');\n",
              "      quickchartButtonEl.disabled = true;  // To prevent multiple clicks.\n",
              "      quickchartButtonEl.classList.add('colab-df-spinner');\n",
              "      try {\n",
              "        const charts = await google.colab.kernel.invokeFunction(\n",
              "            'suggestCharts', [key], {});\n",
              "      } catch (error) {\n",
              "        console.error('Error during call to suggestCharts:', error);\n",
              "      }\n",
              "      quickchartButtonEl.classList.remove('colab-df-spinner');\n",
              "      quickchartButtonEl.classList.add('colab-df-quickchart-complete');\n",
              "    }\n",
              "    (() => {\n",
              "      let quickchartButtonEl =\n",
              "        document.querySelector('#df-b7c7af97-58f3-4585-9824-3a6593d22d40 button');\n",
              "      quickchartButtonEl.style.display =\n",
              "        google.colab.kernel.accessAllowed ? 'block' : 'none';\n",
              "    })();\n",
              "  </script>\n",
              "</div>\n",
              "\n",
              "    </div>\n",
              "  </div>\n"
            ],
            "application/vnd.google.colaboratory.intrinsic+json": {
              "type": "dataframe",
              "variable_name": "train_data",
              "summary": "{\n  \"name\": \"train_data\",\n  \"rows\": 215,\n  \"fields\": [\n    {\n      \"column\": \"sl_no\",\n      \"properties\": {\n        \"dtype\": \"number\",\n        \"std\": 62,\n        \"min\": 1,\n        \"max\": 215,\n        \"num_unique_values\": 215,\n        \"samples\": [\n          201,\n          213,\n          139\n        ],\n        \"semantic_type\": \"\",\n        \"description\": \"\"\n      }\n    },\n    {\n      \"column\": \"gender\",\n      \"properties\": {\n        \"dtype\": \"number\",\n        \"std\": 0,\n        \"min\": 0,\n        \"max\": 1,\n        \"num_unique_values\": 2,\n        \"samples\": [\n          1,\n          0\n        ],\n        \"semantic_type\": \"\",\n        \"description\": \"\"\n      }\n    },\n    {\n      \"column\": \"ssc_p\",\n      \"properties\": {\n        \"dtype\": \"number\",\n        \"std\": 10.827205398231452,\n        \"min\": 40.89,\n        \"max\": 89.4,\n        \"num_unique_values\": 103,\n        \"samples\": [\n          74.0,\n          73.96\n        ],\n        \"semantic_type\": \"\",\n        \"description\": \"\"\n      }\n    },\n    {\n      \"column\": \"ssc_b\",\n      \"properties\": {\n        \"dtype\": \"category\",\n        \"num_unique_values\": 2,\n        \"samples\": [\n          \"Central\",\n          \"Others\"\n        ],\n        \"semantic_type\": \"\",\n        \"description\": \"\"\n      }\n    },\n    {\n      \"column\": \"hsc_p\",\n      \"properties\": {\n        \"dtype\": \"number\",\n        \"std\": 10.89750915750298,\n        \"min\": 37.0,\n        \"max\": 97.7,\n        \"num_unique_values\": 97,\n        \"samples\": [\n          82.0,\n          73.2\n        ],\n        \"semantic_type\": \"\",\n        \"description\": \"\"\n      }\n    },\n    {\n      \"column\": \"hsc_b\",\n      \"properties\": {\n        \"dtype\": \"category\",\n        \"num_unique_values\": 2,\n        \"samples\": [\n          \"Central\",\n          \"Others\"\n        ],\n        \"semantic_type\": \"\",\n        \"description\": \"\"\n      }\n    },\n    {\n      \"column\": \"hsc_s\",\n      \"properties\": {\n        \"dtype\": \"category\",\n        \"num_unique_values\": 3,\n        \"samples\": [\n          \"Commerce\",\n          \"Science\"\n        ],\n        \"semantic_type\": \"\",\n        \"description\": \"\"\n      }\n    },\n    {\n      \"column\": \"degree_p\",\n      \"properties\": {\n        \"dtype\": \"number\",\n        \"std\": 7.358743287339439,\n        \"min\": 50.0,\n        \"max\": 91.0,\n        \"num_unique_values\": 89,\n        \"samples\": [\n          71.72,\n          76.0\n        ],\n        \"semantic_type\": \"\",\n        \"description\": \"\"\n      }\n    },\n    {\n      \"column\": \"degree_t\",\n      \"properties\": {\n        \"dtype\": \"category\",\n        \"num_unique_values\": 3,\n        \"samples\": [\n          \"Sci&Tech\",\n          \"Comm&Mgmt\"\n        ],\n        \"semantic_type\": \"\",\n        \"description\": \"\"\n      }\n    },\n    {\n      \"column\": \"workex\",\n      \"properties\": {\n        \"dtype\": \"category\",\n        \"num_unique_values\": 2,\n        \"samples\": [\n          \"Yes\",\n          \"No\"\n        ],\n        \"semantic_type\": \"\",\n        \"description\": \"\"\n      }\n    },\n    {\n      \"column\": \"etest_p\",\n      \"properties\": {\n        \"dtype\": \"number\",\n        \"std\": 13.275956401653835,\n        \"min\": 50.0,\n        \"max\": 98.0,\n        \"num_unique_values\": 100,\n        \"samples\": [\n          93.4,\n          69.0\n        ],\n        \"semantic_type\": \"\",\n        \"description\": \"\"\n      }\n    },\n    {\n      \"column\": \"specialisation\",\n      \"properties\": {\n        \"dtype\": \"category\",\n        \"num_unique_values\": 2,\n        \"samples\": [\n          \"Mkt&Fin\",\n          \"Mkt&HR\"\n        ],\n        \"semantic_type\": \"\",\n        \"description\": \"\"\n      }\n    },\n    {\n      \"column\": \"mba_p\",\n      \"properties\": {\n        \"dtype\": \"number\",\n        \"std\": 5.8333845806838,\n        \"min\": 51.21,\n        \"max\": 77.89,\n        \"num_unique_values\": 205,\n        \"samples\": [\n          64.66,\n          52.21\n        ],\n        \"semantic_type\": \"\",\n        \"description\": \"\"\n      }\n    },\n    {\n      \"column\": \"status\",\n      \"properties\": {\n        \"dtype\": \"category\",\n        \"num_unique_values\": 2,\n        \"samples\": [\n          \"Not Placed\",\n          \"Placed\"\n        ],\n        \"semantic_type\": \"\",\n        \"description\": \"\"\n      }\n    },\n    {\n      \"column\": \"salary\",\n      \"properties\": {\n        \"dtype\": \"number\",\n        \"std\": 93457.45241958875,\n        \"min\": 200000.0,\n        \"max\": 940000.0,\n        \"num_unique_values\": 45,\n        \"samples\": [\n          255000.0,\n          336000.0\n        ],\n        \"semantic_type\": \"\",\n        \"description\": \"\"\n      }\n    }\n  ]\n}"
            }
          },
          "metadata": {},
          "execution_count": 3
        }
      ]
    },
    {
      "cell_type": "code",
      "source": [
        "# Now I'm going to move my target variable to the end to make my code cleaner especially when accessing feature columns versus the target during model training.\n",
        "\n",
        "df = train_data\n",
        "\n",
        "cols = df.columns.tolist()        # Get a list of all columns\n",
        "col_to_move = cols[13]            # Get the 14th column (index 13)\n",
        "cols.remove(col_to_move)          # Remove it from its current position\n",
        "cols.append(col_to_move)          # Append it to the end\n",
        "df = df[cols]                     # Reassign the DataFrame with the new column order\n",
        "\n",
        "# Display the updated DataFrame structure to verify changes\n",
        "print(df.head())"
      ],
      "metadata": {
        "colab": {
          "base_uri": "https://localhost:8080/"
        },
        "id": "v0jeG4gH5q1s",
        "outputId": "5b3ea41a-7d4d-4a9d-f220-081132707a18"
      },
      "execution_count": 4,
      "outputs": [
        {
          "output_type": "stream",
          "name": "stdout",
          "text": [
            "   sl_no  gender  ssc_p    ssc_b  hsc_p    hsc_b     hsc_s  degree_p  \\\n",
            "0      1       0  67.00   Others  91.00   Others  Commerce     58.00   \n",
            "1      2       0  79.33  Central  78.33   Others   Science     77.48   \n",
            "2      3       0  65.00  Central  68.00  Central      Arts     64.00   \n",
            "3      4       0  56.00  Central  52.00  Central   Science     52.00   \n",
            "4      5       0  85.80  Central  73.60  Central  Commerce     73.30   \n",
            "\n",
            "    degree_t workex  etest_p specialisation  mba_p    salary      status  \n",
            "0   Sci&Tech     No     55.0         Mkt&HR  58.80  270000.0      Placed  \n",
            "1   Sci&Tech    Yes     86.5        Mkt&Fin  66.28  200000.0      Placed  \n",
            "2  Comm&Mgmt     No     75.0        Mkt&Fin  57.80  250000.0      Placed  \n",
            "3   Sci&Tech     No     66.0         Mkt&HR  59.43       NaN  Not Placed  \n",
            "4  Comm&Mgmt     No     96.8        Mkt&Fin  55.50  425000.0      Placed  \n"
          ]
        }
      ]
    },
    {
      "cell_type": "markdown",
      "source": [
        "I plan to remove the first column, which serves as a unique identifier for individuals in the dataset, as it does not contribute any meaningful information to the model.\n"
      ],
      "metadata": {
        "id": "VNfqWHIxAoql"
      }
    },
    {
      "cell_type": "code",
      "source": [
        "# Drop the first column\n",
        "df = df.drop(df.columns[0], axis=1)\n",
        "\n",
        "# Verify that the column has been removed\n",
        "print(df.head())"
      ],
      "metadata": {
        "colab": {
          "base_uri": "https://localhost:8080/"
        },
        "id": "8Sk7UStq51sl",
        "outputId": "58e0bb0f-05a5-486a-b79c-9d689832f046"
      },
      "execution_count": 5,
      "outputs": [
        {
          "output_type": "stream",
          "name": "stdout",
          "text": [
            "   gender  ssc_p    ssc_b  hsc_p    hsc_b     hsc_s  degree_p   degree_t  \\\n",
            "0       0  67.00   Others  91.00   Others  Commerce     58.00   Sci&Tech   \n",
            "1       0  79.33  Central  78.33   Others   Science     77.48   Sci&Tech   \n",
            "2       0  65.00  Central  68.00  Central      Arts     64.00  Comm&Mgmt   \n",
            "3       0  56.00  Central  52.00  Central   Science     52.00   Sci&Tech   \n",
            "4       0  85.80  Central  73.60  Central  Commerce     73.30  Comm&Mgmt   \n",
            "\n",
            "  workex  etest_p specialisation  mba_p    salary      status  \n",
            "0     No     55.0         Mkt&HR  58.80  270000.0      Placed  \n",
            "1    Yes     86.5        Mkt&Fin  66.28  200000.0      Placed  \n",
            "2     No     75.0        Mkt&Fin  57.80  250000.0      Placed  \n",
            "3     No     66.0         Mkt&HR  59.43       NaN  Not Placed  \n",
            "4     No     96.8        Mkt&Fin  55.50  425000.0      Placed  \n"
          ]
        }
      ]
    },
    {
      "cell_type": "markdown",
      "source": [
        "# **EXPLORATORY DATA ANALYSIS**"
      ],
      "metadata": {
        "id": "mKY7ho2aBT4l"
      }
    },
    {
      "cell_type": "code",
      "source": [
        "# Step 1: Check the first few rows of the data\n",
        "print(df.head())"
      ],
      "metadata": {
        "colab": {
          "base_uri": "https://localhost:8080/"
        },
        "id": "f9mF84zlBgN5",
        "outputId": "66718d1d-5333-4e00-cc86-0f44e25e59d4"
      },
      "execution_count": 6,
      "outputs": [
        {
          "output_type": "stream",
          "name": "stdout",
          "text": [
            "   gender  ssc_p    ssc_b  hsc_p    hsc_b     hsc_s  degree_p   degree_t  \\\n",
            "0       0  67.00   Others  91.00   Others  Commerce     58.00   Sci&Tech   \n",
            "1       0  79.33  Central  78.33   Others   Science     77.48   Sci&Tech   \n",
            "2       0  65.00  Central  68.00  Central      Arts     64.00  Comm&Mgmt   \n",
            "3       0  56.00  Central  52.00  Central   Science     52.00   Sci&Tech   \n",
            "4       0  85.80  Central  73.60  Central  Commerce     73.30  Comm&Mgmt   \n",
            "\n",
            "  workex  etest_p specialisation  mba_p    salary      status  \n",
            "0     No     55.0         Mkt&HR  58.80  270000.0      Placed  \n",
            "1    Yes     86.5        Mkt&Fin  66.28  200000.0      Placed  \n",
            "2     No     75.0        Mkt&Fin  57.80  250000.0      Placed  \n",
            "3     No     66.0         Mkt&HR  59.43       NaN  Not Placed  \n",
            "4     No     96.8        Mkt&Fin  55.50  425000.0      Placed  \n"
          ]
        }
      ]
    },
    {
      "cell_type": "code",
      "source": [
        "df.info()\n"
      ],
      "metadata": {
        "colab": {
          "base_uri": "https://localhost:8080/"
        },
        "id": "1ts5Yn3iI3k2",
        "outputId": "f5a63aea-3f9a-4966-c3b2-8457fe971ad0"
      },
      "execution_count": 7,
      "outputs": [
        {
          "output_type": "stream",
          "name": "stdout",
          "text": [
            "<class 'pandas.core.frame.DataFrame'>\n",
            "RangeIndex: 215 entries, 0 to 214\n",
            "Data columns (total 14 columns):\n",
            " #   Column          Non-Null Count  Dtype  \n",
            "---  ------          --------------  -----  \n",
            " 0   gender          215 non-null    int64  \n",
            " 1   ssc_p           215 non-null    float64\n",
            " 2   ssc_b           215 non-null    object \n",
            " 3   hsc_p           215 non-null    float64\n",
            " 4   hsc_b           215 non-null    object \n",
            " 5   hsc_s           215 non-null    object \n",
            " 6   degree_p        215 non-null    float64\n",
            " 7   degree_t        215 non-null    object \n",
            " 8   workex          215 non-null    object \n",
            " 9   etest_p         215 non-null    float64\n",
            " 10  specialisation  215 non-null    object \n",
            " 11  mba_p           215 non-null    float64\n",
            " 12  salary          148 non-null    float64\n",
            " 13  status          215 non-null    object \n",
            "dtypes: float64(6), int64(1), object(7)\n",
            "memory usage: 23.6+ KB\n"
          ]
        }
      ]
    },
    {
      "cell_type": "code",
      "source": [
        "df.columns"
      ],
      "metadata": {
        "colab": {
          "base_uri": "https://localhost:8080/"
        },
        "id": "-R5Y3Gk4T4IJ",
        "outputId": "32797737-13ea-4e11-dbdf-11679c94536d"
      },
      "execution_count": 8,
      "outputs": [
        {
          "output_type": "execute_result",
          "data": {
            "text/plain": [
              "Index(['gender', 'ssc_p', 'ssc_b', 'hsc_p', 'hsc_b', 'hsc_s', 'degree_p',\n",
              "       'degree_t', 'workex', 'etest_p', 'specialisation', 'mba_p', 'salary',\n",
              "       'status'],\n",
              "      dtype='object')"
            ]
          },
          "metadata": {},
          "execution_count": 8
        }
      ]
    },
    {
      "cell_type": "code",
      "source": [
        "\n",
        "for col in df.columns:\n",
        "    if df[col].dtype != 'object':  # Check if the column is numerical\n",
        "        plt.figure(figsize=(5, 3))  # Adjust the figure size to make the plots smaller\n",
        "        sns.distplot(df[col], kde=True, color='coral')  # Display density instead of count\n",
        "        plt.title(f'Distribution of {col}')\n",
        "        plt.tight_layout()  # Adjust layout for better spacing\n",
        "        plt.show()\n"
      ],
      "metadata": {
        "colab": {
          "base_uri": "https://localhost:8080/",
          "height": 1000
        },
        "id": "Y2aX8W8OJHm2",
        "outputId": "fdbd0e20-c029-49f7-dbea-c5e27179b9bd"
      },
      "execution_count": 9,
      "outputs": [
        {
          "output_type": "display_data",
          "data": {
            "text/plain": [
              "<Figure size 500x300 with 1 Axes>"
            ],
            "image/png": "[encoded data removed]"
          },
          "metadata": {}
        },
        {
          "output_type": "display_data",
          "data": {
            "text/plain": [
              "<Figure size 500x300 with 1 Axes>"
            ],
            "image/png": "[encoded data removed]"
          },
          "metadata": {}
        },
        {
          "output_type": "display_data",
          "data": {
            "text/plain": [
              "<Figure size 500x300 with 1 Axes>"
            ],
            "image/png": "[encoded data removed]"
          },
          "metadata": {}
        },
        {
          "output_type": "display_data",
          "data": {
            "text/plain": [
              "<Figure size 500x300 with 1 Axes>"
            ],
            "image/png": "[encoded data removed]"
          },
          "metadata": {}
        },
        {
          "output_type": "display_data",
          "data": {
            "text/plain": [
              "<Figure size 500x300 with 1 Axes>"
            ],
            "image/png": "[encoded data removed]"
          },
          "metadata": {}
        },
        {
          "output_type": "display_data",
          "data": {
            "text/plain": [
              "<Figure size 500x300 with 1 Axes>"
            ],
            "image/png": "[encoded data removed]"
          },
          "metadata": {}
        },
        {
          "output_type": "display_data",
          "data": {
            "text/plain": [
              "<Figure size 500x300 with 1 Axes>"
            ],
            "image/png": "[encoded data removed]"
          },
          "metadata": {}
        }
      ]
    },
    {
      "cell_type": "markdown",
      "source": [
        "Most of the columns shows a bell-shaped distribution, indicating that the data is symmetrically distributed around a central value. However, the salary column stands out as it is right-skewed. This means that while most salaries are concentrated on the lower end, there are some higher salaries that pull the average up, resulting in an asymmetric distribution."
      ],
      "metadata": {
        "id": "uoXXEvEgOjHb"
      }
    },
    {
      "cell_type": "code",
      "source": [
        "#Checking distribution of categorical variables\n",
        "for colum in df.columns:\n",
        "    if df[colum].dtype == 'object':  # Check if the column is categorical\n",
        "        plt.figure(figsize=(8,4))  # Set smaller figure size for the plots\n",
        "        plt.subplot(1,2,1)  # Create the first subplot in a 1x2 grid\n",
        "        plt.bar(df[colum].value_counts().index, df[colum].value_counts(), label='status')  # Bar plot for value counts\n",
        "        plt.title(colum)  # Title for the first subplot\n",
        "        plt.subplot(1,2,2)  # Create the second subplot in a 1x2 grid\n",
        "        sns.countplot(x=colum, hue='status', data=df)  # Count plot, with hue based on the 'status' column\n",
        "        plt.title(colum)  # Title for the second subplot\n",
        "        plt.tight_layout()  # Adjust layout to prevent overlap\n",
        "        plt.show()  # Show the plots"
      ],
      "metadata": {
        "colab": {
          "base_uri": "https://localhost:8080/",
          "height": 1000
        },
        "id": "bo1iv01rLnyx",
        "outputId": "2f2bcbc8-47d0-4fc1-a4d6-e57a74404fef"
      },
      "execution_count": 10,
      "outputs": [
        {
          "output_type": "display_data",
          "data": {
            "text/plain": [
              "<Figure size 800x400 with 2 Axes>"
            ],
            "image/png": "[encoded data removed]"
          },
          "metadata": {}
        },
        {
          "output_type": "display_data",
          "data": {
            "text/plain": [
              "<Figure size 800x400 with 2 Axes>"
            ],
            "image/png": "[encoded data removed]"
          },
          "metadata": {}
        },
        {
          "output_type": "display_data",
          "data": {
            "text/plain": [
              "<Figure size 800x400 with 2 Axes>"
            ],
            "image/png": "[encoded data removed]"
          },
          "metadata": {}
        },
        {
          "output_type": "display_data",
          "data": {
            "text/plain": [
              "<Figure size 800x400 with 2 Axes>"
            ],
            "image/png": "[encoded data removed]"
          },
          "metadata": {}
        },
        {
          "output_type": "display_data",
          "data": {
            "text/plain": [
              "<Figure size 800x400 with 2 Axes>"
            ],
            "image/png": "[encoded data removed]"
          },
          "metadata": {}
        },
        {
          "output_type": "display_data",
          "data": {
            "text/plain": [
              "<Figure size 800x400 with 2 Axes>"
            ],
            "image/png": "[encoded data removed]"
          },
          "metadata": {}
        },
        {
          "output_type": "display_data",
          "data": {
            "text/plain": [
              "<Figure size 800x400 with 2 Axes>"
            ],
            "image/png": "[encoded data removed]"
          },
          "metadata": {}
        }
      ]
    },
    {
      "cell_type": "markdown",
      "source": [
        "The categorical variables indicate a clear trend where the ratio of placed to not placed students is typically 2:1. This means that for every 2 students who secure placement, there is 1 who does not. However, there are a few notable exceptions:\n",
        "\n",
        "-In the specialization category, the Mkt&HR specialization has a nearly equal distribution between placed and not placed students. On the other hand, the Mkt&Fin specialization shows a ratio of about 4:1, indicating that for every 4 students placed, there is only 1 who is not.\n",
        "\n",
        "-Interestingly, students with other degrees show a higher number of those not placed compared to those who are placed, which is unusual for this dataset. A similar situation occurs within the Arts category, where the number of placed and not placed students is about the same.\n",
        "\n",
        "Overall, the dataset displays a significant imbalance, with many more students placed than those who are not.\n"
      ],
      "metadata": {
        "id": "kFy5hZ-ZOJan"
      }
    },
    {
      "cell_type": "markdown",
      "source": [
        "**Now, I'm going to verify how many students got placed:**\n"
      ],
      "metadata": {
        "id": "3LBmSkFXUq5K"
      }
    },
    {
      "cell_type": "code",
      "source": [
        "df['status'].unique()"
      ],
      "metadata": {
        "colab": {
          "base_uri": "https://localhost:8080/"
        },
        "id": "xfX3gEAWOh1b",
        "outputId": "bffce9aa-acc6-4f87-f060-8c93dff55028"
      },
      "execution_count": 11,
      "outputs": [
        {
          "output_type": "execute_result",
          "data": {
            "text/plain": [
              "array(['Placed', 'Not Placed'], dtype=object)"
            ]
          },
          "metadata": {},
          "execution_count": 11
        }
      ]
    },
    {
      "cell_type": "code",
      "source": [
        "df['status'].value_counts()"
      ],
      "metadata": {
        "colab": {
          "base_uri": "https://localhost:8080/",
          "height": 178
        },
        "id": "U822UQE9U4J_",
        "outputId": "96e490fa-d047-417f-ff7c-8305bc9fd748"
      },
      "execution_count": 12,
      "outputs": [
        {
          "output_type": "execute_result",
          "data": {
            "text/plain": [
              "status\n",
              "Placed        148\n",
              "Not Placed     67\n",
              "Name: count, dtype: int64"
            ],
            "text/html": [
              "<div>\n",
              "<style scoped>\n",
              "    .dataframe tbody tr th:only-of-type {\n",
              "        vertical-align: middle;\n",
              "    }\n",
              "\n",
              "    .dataframe tbody tr th {\n",
              "        vertical-align: top;\n",
              "    }\n",
              "\n",
              "    .dataframe thead th {\n",
              "        text-align: right;\n",
              "    }\n",
              "</style>\n",
              "<table border=\"1\" class=\"dataframe\">\n",
              "  <thead>\n",
              "    <tr style=\"text-align: right;\">\n",
              "      <th></th>\n",
              "      <th>count</th>\n",
              "    </tr>\n",
              "    <tr>\n",
              "      <th>status</th>\n",
              "      <th></th>\n",
              "    </tr>\n",
              "  </thead>\n",
              "  <tbody>\n",
              "    <tr>\n",
              "      <th>Placed</th>\n",
              "      <td>148</td>\n",
              "    </tr>\n",
              "    <tr>\n",
              "      <th>Not Placed</th>\n",
              "      <td>67</td>\n",
              "    </tr>\n",
              "  </tbody>\n",
              "</table>\n",
              "</div><br><label><b>dtype:</b> int64</label>"
            ]
          },
          "metadata": {},
          "execution_count": 12
        }
      ]
    },
    {
      "cell_type": "markdown",
      "source": [
        "**Encoding**"
      ],
      "metadata": {
        "id": "vCezTx6H04zc"
      }
    },
    {
      "cell_type": "code",
      "source": [
        "{column: list(df[column].unique()) for column in df.select_dtypes('object').columns}"
      ],
      "metadata": {
        "colab": {
          "base_uri": "https://localhost:8080/"
        },
        "id": "QHKCwQV8U-ms",
        "outputId": "6966ae2e-694d-43d6-97b7-1736aac41c40"
      },
      "execution_count": 13,
      "outputs": [
        {
          "output_type": "execute_result",
          "data": {
            "text/plain": [
              "{'ssc_b': ['Others', 'Central'],\n",
              " 'hsc_b': ['Others', 'Central'],\n",
              " 'hsc_s': ['Commerce', 'Science', 'Arts'],\n",
              " 'degree_t': ['Sci&Tech', 'Comm&Mgmt', 'Others'],\n",
              " 'workex': ['No', 'Yes'],\n",
              " 'specialisation': ['Mkt&HR', 'Mkt&Fin'],\n",
              " 'status': ['Placed', 'Not Placed']}"
            ]
          },
          "metadata": {},
          "execution_count": 13
        }
      ]
    },
    {
      "cell_type": "markdown",
      "source": [
        "Here are shown the values that are in each categorical column. Two columns contain three categories each, while the remaining columns have two categories. As a result, the columns with two categories will be encoded using label encoding, and those with three categories will be processed with one-hot encoding. To ensure the correct labels are assigned, I will manually encode the target variable first, following the specified order.\n"
      ],
      "metadata": {
        "id": "Oi4vzDfpXkDF"
      }
    },
    {
      "cell_type": "code",
      "source": [
        "df['status'] = df['status'].map({'Placed': 1, 'Not Placed': 0})"
      ],
      "metadata": {
        "id": "G5dSm5JzdGSL"
      },
      "execution_count": 14,
      "outputs": []
    },
    {
      "cell_type": "code",
      "source": [
        "from sklearn.preprocessing import LabelEncoder  # Import LabelEncoder from sklearn\n",
        "label_encoder = LabelEncoder()  # Initialize the LabelEncoder instance\n",
        "\n",
        "# Loop through each column in the DataFrame\n",
        "for colum in df.columns:\n",
        "    if df[colum].dtype == 'object':  # Check if the column is of object (categorical) data type\n",
        "        if df[colum].nunique() == 2:  # Check if the column has exactly two unique values\n",
        "            df[colum] = label_encoder.fit_transform(df[colum])  # Apply LabelEncoder to map values to 0 and 1"
      ],
      "metadata": {
        "id": "6R3TYBfjqwHU"
      },
      "execution_count": 15,
      "outputs": []
    },
    {
      "cell_type": "code",
      "source": [
        "df.head()"
      ],
      "metadata": {
        "colab": {
          "base_uri": "https://localhost:8080/",
          "height": 206
        },
        "id": "ZCrnYa8mrEKy",
        "outputId": "4a886e62-decf-4fa7-b744-52f406cf6e09"
      },
      "execution_count": 16,
      "outputs": [
        {
          "output_type": "execute_result",
          "data": {
            "text/plain": [
              "   gender  ssc_p  ssc_b  hsc_p  hsc_b     hsc_s  degree_p   degree_t  workex  \\\n",
              "0       0  67.00      1  91.00      1  Commerce     58.00   Sci&Tech       0   \n",
              "1       0  79.33      0  78.33      1   Science     77.48   Sci&Tech       1   \n",
              "2       0  65.00      0  68.00      0      Arts     64.00  Comm&Mgmt       0   \n",
              "3       0  56.00      0  52.00      0   Science     52.00   Sci&Tech       0   \n",
              "4       0  85.80      0  73.60      0  Commerce     73.30  Comm&Mgmt       0   \n",
              "\n",
              "   etest_p  specialisation  mba_p    salary  status  \n",
              "0     55.0               1  58.80  270000.0       1  \n",
              "1     86.5               0  66.28  200000.0       1  \n",
              "2     75.0               0  57.80  250000.0       1  \n",
              "3     66.0               1  59.43       NaN       0  \n",
              "4     96.8               0  55.50  425000.0       1  "
            ],
            "text/html": [
              "\n",
              "  <div id=\"df-149cec1a-a9a8-4e5a-9c95-5463d3670ba4\" class=\"colab-df-container\">\n",
              "    <div>\n",
              "<style scoped>\n",
              "    .dataframe tbody tr th:only-of-type {\n",
              "        vertical-align: middle;\n",
              "    }\n",
              "\n",
              "    .dataframe tbody tr th {\n",
              "        vertical-align: top;\n",
              "    }\n",
              "\n",
              "    .dataframe thead th {\n",
              "        text-align: right;\n",
              "    }\n",
              "</style>\n",
              "<table border=\"1\" class=\"dataframe\">\n",
              "  <thead>\n",
              "    <tr style=\"text-align: right;\">\n",
              "      <th></th>\n",
              "      <th>gender</th>\n",
              "      <th>ssc_p</th>\n",
              "      <th>ssc_b</th>\n",
              "      <th>hsc_p</th>\n",
              "      <th>hsc_b</th>\n",
              "      <th>hsc_s</th>\n",
              "      <th>degree_p</th>\n",
              "      <th>degree_t</th>\n",
              "      <th>workex</th>\n",
              "      <th>etest_p</th>\n",
              "      <th>specialisation</th>\n",
              "      <th>mba_p</th>\n",
              "      <th>salary</th>\n",
              "      <th>status</th>\n",
              "    </tr>\n",
              "  </thead>\n",
              "  <tbody>\n",
              "    <tr>\n",
              "      <th>0</th>\n",
              "      <td>0</td>\n",
              "      <td>67.00</td>\n",
              "      <td>1</td>\n",
              "      <td>91.00</td>\n",
              "      <td>1</td>\n",
              "      <td>Commerce</td>\n",
              "      <td>58.00</td>\n",
              "      <td>Sci&amp;Tech</td>\n",
              "      <td>0</td>\n",
              "      <td>55.0</td>\n",
              "      <td>1</td>\n",
              "      <td>58.80</td>\n",
              "      <td>270000.0</td>\n",
              "      <td>1</td>\n",
              "    </tr>\n",
              "    <tr>\n",
              "      <th>1</th>\n",
              "      <td>0</td>\n",
              "      <td>79.33</td>\n",
              "      <td>0</td>\n",
              "      <td>78.33</td>\n",
              "      <td>1</td>\n",
              "      <td>Science</td>\n",
              "      <td>77.48</td>\n",
              "      <td>Sci&amp;Tech</td>\n",
              "      <td>1</td>\n",
              "      <td>86.5</td>\n",
              "      <td>0</td>\n",
              "      <td>66.28</td>\n",
              "      <td>200000.0</td>\n",
              "      <td>1</td>\n",
              "    </tr>\n",
              "    <tr>\n",
              "      <th>2</th>\n",
              "      <td>0</td>\n",
              "      <td>65.00</td>\n",
              "      <td>0</td>\n",
              "      <td>68.00</td>\n",
              "      <td>0</td>\n",
              "      <td>Arts</td>\n",
              "      <td>64.00</td>\n",
              "      <td>Comm&amp;Mgmt</td>\n",
              "      <td>0</td>\n",
              "      <td>75.0</td>\n",
              "      <td>0</td>\n",
              "      <td>57.80</td>\n",
              "      <td>250000.0</td>\n",
              "      <td>1</td>\n",
              "    </tr>\n",
              "    <tr>\n",
              "      <th>3</th>\n",
              "      <td>0</td>\n",
              "      <td>56.00</td>\n",
              "      <td>0</td>\n",
              "      <td>52.00</td>\n",
              "      <td>0</td>\n",
              "      <td>Science</td>\n",
              "      <td>52.00</td>\n",
              "      <td>Sci&amp;Tech</td>\n",
              "      <td>0</td>\n",
              "      <td>66.0</td>\n",
              "      <td>1</td>\n",
              "      <td>59.43</td>\n",
              "      <td>NaN</td>\n",
              "      <td>0</td>\n",
              "    </tr>\n",
              "    <tr>\n",
              "      <th>4</th>\n",
              "      <td>0</td>\n",
              "      <td>85.80</td>\n",
              "      <td>0</td>\n",
              "      <td>73.60</td>\n",
              "      <td>0</td>\n",
              "      <td>Commerce</td>\n",
              "      <td>73.30</td>\n",
              "      <td>Comm&amp;Mgmt</td>\n",
              "      <td>0</td>\n",
              "      <td>96.8</td>\n",
              "      <td>0</td>\n",
              "      <td>55.50</td>\n",
              "      <td>425000.0</td>\n",
              "      <td>1</td>\n",
              "    </tr>\n",
              "  </tbody>\n",
              "</table>\n",
              "</div>\n",
              "    <div class=\"colab-df-buttons\">\n",
              "\n",
              "  <div class=\"colab-df-container\">\n",
              "    <button class=\"colab-df-convert\" onclick=\"convertToInteractive('df-149cec1a-a9a8-4e5a-9c95-5463d3670ba4')\"\n",
              "            title=\"Convert this dataframe to an interactive table.\"\n",
              "            style=\"display:none;\">\n",
              "\n",
              "  <svg xmlns=\"http://www.w3.org/2000/svg\" height=\"24px\" viewBox=\"0 -960 960 960\">\n",
              "    <path d=\"M120-120v-720h720v720H120Zm60-500h600v-160H180v160Zm220 220h160v-160H400v160Zm0 220h160v-160H400v160ZM180-400h160v-160H180v160Zm440 0h160v-160H620v160ZM180-180h160v-160H180v160Zm440 0h160v-160H620v160Z\"/>\n",
              "  </svg>\n",
              "    </button>\n",
              "\n",
              "  <style>\n",
              "    .colab-df-container {\n",
              "      display:flex;\n",
              "      gap: 12px;\n",
              "    }\n",
              "\n",
              "    .colab-df-convert {\n",
              "      background-color: #E8F0FE;\n",
              "      border: none;\n",
              "      border-radius: 50%;\n",
              "      cursor: pointer;\n",
              "      display: none;\n",
              "      fill: #1967D2;\n",
              "      height: 32px;\n",
              "      padding: 0 0 0 0;\n",
              "      width: 32px;\n",
              "    }\n",
              "\n",
              "    .colab-df-convert:hover {\n",
              "      background-color: #E2EBFA;\n",
              "      box-shadow: 0px 1px 2px rgba(60, 64, 67, 0.3), 0px 1px 3px 1px rgba(60, 64, 67, 0.15);\n",
              "      fill: #174EA6;\n",
              "    }\n",
              "\n",
              "    .colab-df-buttons div {\n",
              "      margin-bottom: 4px;\n",
              "    }\n",
              "\n",
              "    [theme=dark] .colab-df-convert {\n",
              "      background-color: #3B4455;\n",
              "      fill: #D2E3FC;\n",
              "    }\n",
              "\n",
              "    [theme=dark] .colab-df-convert:hover {\n",
              "      background-color: #434B5C;\n",
              "      box-shadow: 0px 1px 3px 1px rgba(0, 0, 0, 0.15);\n",
              "      filter: drop-shadow(0px 1px 2px rgba(0, 0, 0, 0.3));\n",
              "      fill: #FFFFFF;\n",
              "    }\n",
              "  </style>\n",
              "\n",
              "    <script>\n",
              "      const buttonEl =\n",
              "        document.querySelector('#df-149cec1a-a9a8-4e5a-9c95-5463d3670ba4 button.colab-df-convert');\n",
              "      buttonEl.style.display =\n",
              "        google.colab.kernel.accessAllowed ? 'block' : 'none';\n",
              "\n",
              "      async function convertToInteractive(key) {\n",
              "        const element = document.querySelector('#df-149cec1a-a9a8-4e5a-9c95-5463d3670ba4');\n",
              "        const dataTable =\n",
              "          await google.colab.kernel.invokeFunction('convertToInteractive',\n",
              "                                                    [key], {});\n",
              "        if (!dataTable) return;\n",
              "\n",
              "        const docLinkHtml = 'Like what you see? Visit the ' +\n",
              "          '<a target=\"_blank\" href=https://colab.research.google.com/notebooks/data_table.ipynb>data table notebook</a>'\n",
              "          + ' to learn more about interactive tables.';\n",
              "        element.innerHTML = '';\n",
              "        dataTable['output_type'] = 'display_data';\n",
              "        await google.colab.output.renderOutput(dataTable, element);\n",
              "        const docLink = document.createElement('div');\n",
              "        docLink.innerHTML = docLinkHtml;\n",
              "        element.appendChild(docLink);\n",
              "      }\n",
              "    </script>\n",
              "  </div>\n",
              "\n",
              "\n",
              "<div id=\"df-e8cc55d1-39ad-4499-a9b6-9edc6b6a2a2e\">\n",
              "  <button class=\"colab-df-quickchart\" onclick=\"quickchart('df-e8cc55d1-39ad-4499-a9b6-9edc6b6a2a2e')\"\n",
              "            title=\"Suggest charts\"\n",
              "            style=\"display:none;\">\n",
              "\n",
              "<svg xmlns=\"http://www.w3.org/2000/svg\" height=\"24px\"viewBox=\"0 0 24 24\"\n",
              "     width=\"24px\">\n",
              "    <g>\n",
              "        <path d=\"M19 3H5c-1.1 0-2 .9-2 2v14c0 1.1.9 2 2 2h14c1.1 0 2-.9 2-2V5c0-1.1-.9-2-2-2zM9 17H7v-7h2v7zm4 0h-2V7h2v10zm4 0h-2v-4h2v4z\"/>\n",
              "    </g>\n",
              "</svg>\n",
              "  </button>\n",
              "\n",
              "<style>\n",
              "  .colab-df-quickchart {\n",
              "      --bg-color: #E8F0FE;\n",
              "      --fill-color: #1967D2;\n",
              "      --hover-bg-color: #E2EBFA;\n",
              "      --hover-fill-color: #174EA6;\n",
              "      --disabled-fill-color: #AAA;\n",
              "      --disabled-bg-color: #DDD;\n",
              "  }\n",
              "\n",
              "  [theme=dark] .colab-df-quickchart {\n",
              "      --bg-color: #3B4455;\n",
              "      --fill-color: #D2E3FC;\n",
              "      --hover-bg-color: #434B5C;\n",
              "      --hover-fill-color: #FFFFFF;\n",
              "      --disabled-bg-color: #3B4455;\n",
              "      --disabled-fill-color: #666;\n",
              "  }\n",
              "\n",
              "  .colab-df-quickchart {\n",
              "    background-color: var(--bg-color);\n",
              "    border: none;\n",
              "    border-radius: 50%;\n",
              "    cursor: pointer;\n",
              "    display: none;\n",
              "    fill: var(--fill-color);\n",
              "    height: 32px;\n",
              "    padding: 0;\n",
              "    width: 32px;\n",
              "  }\n",
              "\n",
              "  .colab-df-quickchart:hover {\n",
              "    background-color: var(--hover-bg-color);\n",
              "    box-shadow: 0 1px 2px rgba(60, 64, 67, 0.3), 0 1px 3px 1px rgba(60, 64, 67, 0.15);\n",
              "    fill: var(--button-hover-fill-color);\n",
              "  }\n",
              "\n",
              "  .colab-df-quickchart-complete:disabled,\n",
              "  .colab-df-quickchart-complete:disabled:hover {\n",
              "    background-color: var(--disabled-bg-color);\n",
              "    fill: var(--disabled-fill-color);\n",
              "    box-shadow: none;\n",
              "  }\n",
              "\n",
              "  .colab-df-spinner {\n",
              "    border: 2px solid var(--fill-color);\n",
              "    border-color: transparent;\n",
              "    border-bottom-color: var(--fill-color);\n",
              "    animation:\n",
              "      spin 1s steps(1) infinite;\n",
              "  }\n",
              "\n",
              "  @keyframes spin {\n",
              "    0% {\n",
              "      border-color: transparent;\n",
              "      border-bottom-color: var(--fill-color);\n",
              "      border-left-color: var(--fill-color);\n",
              "    }\n",
              "    20% {\n",
              "      border-color: transparent;\n",
              "      border-left-color: var(--fill-color);\n",
              "      border-top-color: var(--fill-color);\n",
              "    }\n",
              "    30% {\n",
              "      border-color: transparent;\n",
              "      border-left-color: var(--fill-color);\n",
              "      border-top-color: var(--fill-color);\n",
              "      border-right-color: var(--fill-color);\n",
              "    }\n",
              "    40% {\n",
              "      border-color: transparent;\n",
              "      border-right-color: var(--fill-color);\n",
              "      border-top-color: var(--fill-color);\n",
              "    }\n",
              "    60% {\n",
              "      border-color: transparent;\n",
              "      border-right-color: var(--fill-color);\n",
              "    }\n",
              "    80% {\n",
              "      border-color: transparent;\n",
              "      border-right-color: var(--fill-color);\n",
              "      border-bottom-color: var(--fill-color);\n",
              "    }\n",
              "    90% {\n",
              "      border-color: transparent;\n",
              "      border-bottom-color: var(--fill-color);\n",
              "    }\n",
              "  }\n",
              "</style>\n",
              "\n",
              "  <script>\n",
              "    async function quickchart(key) {\n",
              "      const quickchartButtonEl =\n",
              "        document.querySelector('#' + key + ' button');\n",
              "      quickchartButtonEl.disabled = true;  // To prevent multiple clicks.\n",
              "      quickchartButtonEl.classList.add('colab-df-spinner');\n",
              "      try {\n",
              "        const charts = await google.colab.kernel.invokeFunction(\n",
              "            'suggestCharts', [key], {});\n",
              "      } catch (error) {\n",
              "        console.error('Error during call to suggestCharts:', error);\n",
              "      }\n",
              "      quickchartButtonEl.classList.remove('colab-df-spinner');\n",
              "      quickchartButtonEl.classList.add('colab-df-quickchart-complete');\n",
              "    }\n",
              "    (() => {\n",
              "      let quickchartButtonEl =\n",
              "        document.querySelector('#df-e8cc55d1-39ad-4499-a9b6-9edc6b6a2a2e button');\n",
              "      quickchartButtonEl.style.display =\n",
              "        google.colab.kernel.accessAllowed ? 'block' : 'none';\n",
              "    })();\n",
              "  </script>\n",
              "</div>\n",
              "\n",
              "    </div>\n",
              "  </div>\n"
            ],
            "application/vnd.google.colaboratory.intrinsic+json": {
              "type": "dataframe",
              "variable_name": "df",
              "summary": "{\n  \"name\": \"df\",\n  \"rows\": 215,\n  \"fields\": [\n    {\n      \"column\": \"gender\",\n      \"properties\": {\n        \"dtype\": \"number\",\n        \"std\": 0,\n        \"min\": 0,\n        \"max\": 1,\n        \"num_unique_values\": 2,\n        \"samples\": [\n          1,\n          0\n        ],\n        \"semantic_type\": \"\",\n        \"description\": \"\"\n      }\n    },\n    {\n      \"column\": \"ssc_p\",\n      \"properties\": {\n        \"dtype\": \"number\",\n        \"std\": 10.827205398231452,\n        \"min\": 40.89,\n        \"max\": 89.4,\n        \"num_unique_values\": 103,\n        \"samples\": [\n          74.0,\n          73.96\n        ],\n        \"semantic_type\": \"\",\n        \"description\": \"\"\n      }\n    },\n    {\n      \"column\": \"ssc_b\",\n      \"properties\": {\n        \"dtype\": \"number\",\n        \"std\": 0,\n        \"min\": 0,\n        \"max\": 1,\n        \"num_unique_values\": 2,\n        \"samples\": [\n          0,\n          1\n        ],\n        \"semantic_type\": \"\",\n        \"description\": \"\"\n      }\n    },\n    {\n      \"column\": \"hsc_p\",\n      \"properties\": {\n        \"dtype\": \"number\",\n        \"std\": 10.89750915750298,\n        \"min\": 37.0,\n        \"max\": 97.7,\n        \"num_unique_values\": 97,\n        \"samples\": [\n          82.0,\n          73.2\n        ],\n        \"semantic_type\": \"\",\n        \"description\": \"\"\n      }\n    },\n    {\n      \"column\": \"hsc_b\",\n      \"properties\": {\n        \"dtype\": \"number\",\n        \"std\": 0,\n        \"min\": 0,\n        \"max\": 1,\n        \"num_unique_values\": 2,\n        \"samples\": [\n          0,\n          1\n        ],\n        \"semantic_type\": \"\",\n        \"description\": \"\"\n      }\n    },\n    {\n      \"column\": \"hsc_s\",\n      \"properties\": {\n        \"dtype\": \"category\",\n        \"num_unique_values\": 3,\n        \"samples\": [\n          \"Commerce\",\n          \"Science\"\n        ],\n        \"semantic_type\": \"\",\n        \"description\": \"\"\n      }\n    },\n    {\n      \"column\": \"degree_p\",\n      \"properties\": {\n        \"dtype\": \"number\",\n        \"std\": 7.358743287339439,\n        \"min\": 50.0,\n        \"max\": 91.0,\n        \"num_unique_values\": 89,\n        \"samples\": [\n          71.72,\n          76.0\n        ],\n        \"semantic_type\": \"\",\n        \"description\": \"\"\n      }\n    },\n    {\n      \"column\": \"degree_t\",\n      \"properties\": {\n        \"dtype\": \"category\",\n        \"num_unique_values\": 3,\n        \"samples\": [\n          \"Sci&Tech\",\n          \"Comm&Mgmt\"\n        ],\n        \"semantic_type\": \"\",\n        \"description\": \"\"\n      }\n    },\n    {\n      \"column\": \"workex\",\n      \"properties\": {\n        \"dtype\": \"number\",\n        \"std\": 0,\n        \"min\": 0,\n        \"max\": 1,\n        \"num_unique_values\": 2,\n        \"samples\": [\n          1,\n          0\n        ],\n        \"semantic_type\": \"\",\n        \"description\": \"\"\n      }\n    },\n    {\n      \"column\": \"etest_p\",\n      \"properties\": {\n        \"dtype\": \"number\",\n        \"std\": 13.275956401653835,\n        \"min\": 50.0,\n        \"max\": 98.0,\n        \"num_unique_values\": 100,\n        \"samples\": [\n          93.4,\n          69.0\n        ],\n        \"semantic_type\": \"\",\n        \"description\": \"\"\n      }\n    },\n    {\n      \"column\": \"specialisation\",\n      \"properties\": {\n        \"dtype\": \"number\",\n        \"std\": 0,\n        \"min\": 0,\n        \"max\": 1,\n        \"num_unique_values\": 2,\n        \"samples\": [\n          0,\n          1\n        ],\n        \"semantic_type\": \"\",\n        \"description\": \"\"\n      }\n    },\n    {\n      \"column\": \"mba_p\",\n      \"properties\": {\n        \"dtype\": \"number\",\n        \"std\": 5.8333845806838,\n        \"min\": 51.21,\n        \"max\": 77.89,\n        \"num_unique_values\": 205,\n        \"samples\": [\n          64.66,\n          52.21\n        ],\n        \"semantic_type\": \"\",\n        \"description\": \"\"\n      }\n    },\n    {\n      \"column\": \"salary\",\n      \"properties\": {\n        \"dtype\": \"number\",\n        \"std\": 93457.45241958875,\n        \"min\": 200000.0,\n        \"max\": 940000.0,\n        \"num_unique_values\": 45,\n        \"samples\": [\n          255000.0,\n          336000.0\n        ],\n        \"semantic_type\": \"\",\n        \"description\": \"\"\n      }\n    },\n    {\n      \"column\": \"status\",\n      \"properties\": {\n        \"dtype\": \"number\",\n        \"std\": 0,\n        \"min\": 0,\n        \"max\": 1,\n        \"num_unique_values\": 2,\n        \"samples\": [\n          0,\n          1\n        ],\n        \"semantic_type\": \"\",\n        \"description\": \"\"\n      }\n    }\n  ]\n}"
            }
          },
          "metadata": {},
          "execution_count": 16
        }
      ]
    },
    {
      "cell_type": "code",
      "source": [
        "# Importing OneHotEncoder from sklearn\n",
        "from sklearn.preprocessing import OneHotEncoder\n",
        "\n",
        "# Initialize the OneHotEncoder with sparse_output=False to return a dense matrix\n",
        "one_hot_encoder = OneHotEncoder(sparse_output=False)\n",
        "\n",
        "# List to store the names of columns to be encoded\n",
        "columns_to_encode = []\n",
        "\n",
        "# Loop through each column in the dataframe\n",
        "for column in df.columns:\n",
        "    # Check if the column is categorical (object type) and has 3 unique categories\n",
        "    if df[column].dtype == 'object' and df[column].nunique() == 3:\n",
        "        # Append the column name to the list if it meets the condition\n",
        "        columns_to_encode.append(column)\n",
        "\n",
        "# Apply OneHotEncoding to the selected columns\n",
        "encoded_data = one_hot_encoder.fit_transform(df[columns_to_encode])\n",
        "\n",
        "# Create a new DataFrame with the encoded columns\n",
        "encoded_df = pd.DataFrame(encoded_data, columns=one_hot_encoder.get_feature_names_out(columns_to_encode))\n",
        "\n",
        "# Concatenate the encoded columns back to the original dataframe\n",
        "df = pd.concat([df, encoded_df], axis=1)"
      ],
      "metadata": {
        "id": "qMpT389Jss-v"
      },
      "execution_count": 17,
      "outputs": []
    },
    {
      "cell_type": "code",
      "source": [
        "df.head()"
      ],
      "metadata": {
        "colab": {
          "base_uri": "https://localhost:8080/",
          "height": 226
        },
        "id": "662QFI5-tXWo",
        "outputId": "8d0d3144-b629-425b-d79e-e644a029d9de"
      },
      "execution_count": 18,
      "outputs": [
        {
          "output_type": "execute_result",
          "data": {
            "text/plain": [
              "   gender  ssc_p  ssc_b  hsc_p  hsc_b     hsc_s  degree_p   degree_t  workex  \\\n",
              "0       0  67.00      1  91.00      1  Commerce     58.00   Sci&Tech       0   \n",
              "1       0  79.33      0  78.33      1   Science     77.48   Sci&Tech       1   \n",
              "2       0  65.00      0  68.00      0      Arts     64.00  Comm&Mgmt       0   \n",
              "3       0  56.00      0  52.00      0   Science     52.00   Sci&Tech       0   \n",
              "4       0  85.80      0  73.60      0  Commerce     73.30  Comm&Mgmt       0   \n",
              "\n",
              "   etest_p  specialisation  mba_p    salary  status  hsc_s_Arts  \\\n",
              "0     55.0               1  58.80  270000.0       1         0.0   \n",
              "1     86.5               0  66.28  200000.0       1         0.0   \n",
              "2     75.0               0  57.80  250000.0       1         1.0   \n",
              "3     66.0               1  59.43       NaN       0         0.0   \n",
              "4     96.8               0  55.50  425000.0       1         0.0   \n",
              "\n",
              "   hsc_s_Commerce  hsc_s_Science  degree_t_Comm&Mgmt  degree_t_Others  \\\n",
              "0             1.0            0.0                 0.0              0.0   \n",
              "1             0.0            1.0                 0.0              0.0   \n",
              "2             0.0            0.0                 1.0              0.0   \n",
              "3             0.0            1.0                 0.0              0.0   \n",
              "4             1.0            0.0                 1.0              0.0   \n",
              "\n",
              "   degree_t_Sci&Tech  \n",
              "0                1.0  \n",
              "1                1.0  \n",
              "2                0.0  \n",
              "3                1.0  \n",
              "4                0.0  "
            ],
            "text/html": [
              "\n",
              "  <div id=\"df-0bbc1a7f-a175-43e6-9cc0-0d6ee2d42a2b\" class=\"colab-df-container\">\n",
              "    <div>\n",
              "<style scoped>\n",
              "    .dataframe tbody tr th:only-of-type {\n",
              "        vertical-align: middle;\n",
              "    }\n",
              "\n",
              "    .dataframe tbody tr th {\n",
              "        vertical-align: top;\n",
              "    }\n",
              "\n",
              "    .dataframe thead th {\n",
              "        text-align: right;\n",
              "    }\n",
              "</style>\n",
              "<table border=\"1\" class=\"dataframe\">\n",
              "  <thead>\n",
              "    <tr style=\"text-align: right;\">\n",
              "      <th></th>\n",
              "      <th>gender</th>\n",
              "      <th>ssc_p</th>\n",
              "      <th>ssc_b</th>\n",
              "      <th>hsc_p</th>\n",
              "      <th>hsc_b</th>\n",
              "      <th>hsc_s</th>\n",
              "      <th>degree_p</th>\n",
              "      <th>degree_t</th>\n",
              "      <th>workex</th>\n",
              "      <th>etest_p</th>\n",
              "      <th>specialisation</th>\n",
              "      <th>mba_p</th>\n",
              "      <th>salary</th>\n",
              "      <th>status</th>\n",
              "      <th>hsc_s_Arts</th>\n",
              "      <th>hsc_s_Commerce</th>\n",
              "      <th>hsc_s_Science</th>\n",
              "      <th>degree_t_Comm&amp;Mgmt</th>\n",
              "      <th>degree_t_Others</th>\n",
              "      <th>degree_t_Sci&amp;Tech</th>\n",
              "    </tr>\n",
              "  </thead>\n",
              "  <tbody>\n",
              "    <tr>\n",
              "      <th>0</th>\n",
              "      <td>0</td>\n",
              "      <td>67.00</td>\n",
              "      <td>1</td>\n",
              "      <td>91.00</td>\n",
              "      <td>1</td>\n",
              "      <td>Commerce</td>\n",
              "      <td>58.00</td>\n",
              "      <td>Sci&amp;Tech</td>\n",
              "      <td>0</td>\n",
              "      <td>55.0</td>\n",
              "      <td>1</td>\n",
              "      <td>58.80</td>\n",
              "      <td>270000.0</td>\n",
              "      <td>1</td>\n",
              "      <td>0.0</td>\n",
              "      <td>1.0</td>\n",
              "      <td>0.0</td>\n",
              "      <td>0.0</td>\n",
              "      <td>0.0</td>\n",
              "      <td>1.0</td>\n",
              "    </tr>\n",
              "    <tr>\n",
              "      <th>1</th>\n",
              "      <td>0</td>\n",
              "      <td>79.33</td>\n",
              "      <td>0</td>\n",
              "      <td>78.33</td>\n",
              "      <td>1</td>\n",
              "      <td>Science</td>\n",
              "      <td>77.48</td>\n",
              "      <td>Sci&amp;Tech</td>\n",
              "      <td>1</td>\n",
              "      <td>86.5</td>\n",
              "      <td>0</td>\n",
              "      <td>66.28</td>\n",
              "      <td>200000.0</td>\n",
              "      <td>1</td>\n",
              "      <td>0.0</td>\n",
              "      <td>0.0</td>\n",
              "      <td>1.0</td>\n",
              "      <td>0.0</td>\n",
              "      <td>0.0</td>\n",
              "      <td>1.0</td>\n",
              "    </tr>\n",
              "    <tr>\n",
              "      <th>2</th>\n",
              "      <td>0</td>\n",
              "      <td>65.00</td>\n",
              "      <td>0</td>\n",
              "      <td>68.00</td>\n",
              "      <td>0</td>\n",
              "      <td>Arts</td>\n",
              "      <td>64.00</td>\n",
              "      <td>Comm&amp;Mgmt</td>\n",
              "      <td>0</td>\n",
              "      <td>75.0</td>\n",
              "      <td>0</td>\n",
              "      <td>57.80</td>\n",
              "      <td>250000.0</td>\n",
              "      <td>1</td>\n",
              "      <td>1.0</td>\n",
              "      <td>0.0</td>\n",
              "      <td>0.0</td>\n",
              "      <td>1.0</td>\n",
              "      <td>0.0</td>\n",
              "      <td>0.0</td>\n",
              "    </tr>\n",
              "    <tr>\n",
              "      <th>3</th>\n",
              "      <td>0</td>\n",
              "      <td>56.00</td>\n",
              "      <td>0</td>\n",
              "      <td>52.00</td>\n",
              "      <td>0</td>\n",
              "      <td>Science</td>\n",
              "      <td>52.00</td>\n",
              "      <td>Sci&amp;Tech</td>\n",
              "      <td>0</td>\n",
              "      <td>66.0</td>\n",
              "      <td>1</td>\n",
              "      <td>59.43</td>\n",
              "      <td>NaN</td>\n",
              "      <td>0</td>\n",
              "      <td>0.0</td>\n",
              "      <td>0.0</td>\n",
              "      <td>1.0</td>\n",
              "      <td>0.0</td>\n",
              "      <td>0.0</td>\n",
              "      <td>1.0</td>\n",
              "    </tr>\n",
              "    <tr>\n",
              "      <th>4</th>\n",
              "      <td>0</td>\n",
              "      <td>85.80</td>\n",
              "      <td>0</td>\n",
              "      <td>73.60</td>\n",
              "      <td>0</td>\n",
              "      <td>Commerce</td>\n",
              "      <td>73.30</td>\n",
              "      <td>Comm&amp;Mgmt</td>\n",
              "      <td>0</td>\n",
              "      <td>96.8</td>\n",
              "      <td>0</td>\n",
              "      <td>55.50</td>\n",
              "      <td>425000.0</td>\n",
              "      <td>1</td>\n",
              "      <td>0.0</td>\n",
              "      <td>1.0</td>\n",
              "      <td>0.0</td>\n",
              "      <td>1.0</td>\n",
              "      <td>0.0</td>\n",
              "      <td>0.0</td>\n",
              "    </tr>\n",
              "  </tbody>\n",
              "</table>\n",
              "</div>\n",
              "    <div class=\"colab-df-buttons\">\n",
              "\n",
              "  <div class=\"colab-df-container\">\n",
              "    <button class=\"colab-df-convert\" onclick=\"convertToInteractive('df-0bbc1a7f-a175-43e6-9cc0-0d6ee2d42a2b')\"\n",
              "            title=\"Convert this dataframe to an interactive table.\"\n",
              "            style=\"display:none;\">\n",
              "\n",
              "  <svg xmlns=\"http://www.w3.org/2000/svg\" height=\"24px\" viewBox=\"0 -960 960 960\">\n",
              "    <path d=\"M120-120v-720h720v720H120Zm60-500h600v-160H180v160Zm220 220h160v-160H400v160Zm0 220h160v-160H400v160ZM180-400h160v-160H180v160Zm440 0h160v-160H620v160ZM180-180h160v-160H180v160Zm440 0h160v-160H620v160Z\"/>\n",
              "  </svg>\n",
              "    </button>\n",
              "\n",
              "  <style>\n",
              "    .colab-df-container {\n",
              "      display:flex;\n",
              "      gap: 12px;\n",
              "    }\n",
              "\n",
              "    .colab-df-convert {\n",
              "      background-color: #E8F0FE;\n",
              "      border: none;\n",
              "      border-radius: 50%;\n",
              "      cursor: pointer;\n",
              "      display: none;\n",
              "      fill: #1967D2;\n",
              "      height: 32px;\n",
              "      padding: 0 0 0 0;\n",
              "      width: 32px;\n",
              "    }\n",
              "\n",
              "    .colab-df-convert:hover {\n",
              "      background-color: #E2EBFA;\n",
              "      box-shadow: 0px 1px 2px rgba(60, 64, 67, 0.3), 0px 1px 3px 1px rgba(60, 64, 67, 0.15);\n",
              "      fill: #174EA6;\n",
              "    }\n",
              "\n",
              "    .colab-df-buttons div {\n",
              "      margin-bottom: 4px;\n",
              "    }\n",
              "\n",
              "    [theme=dark] .colab-df-convert {\n",
              "      background-color: #3B4455;\n",
              "      fill: #D2E3FC;\n",
              "    }\n",
              "\n",
              "    [theme=dark] .colab-df-convert:hover {\n",
              "      background-color: #434B5C;\n",
              "      box-shadow: 0px 1px 3px 1px rgba(0, 0, 0, 0.15);\n",
              "      filter: drop-shadow(0px 1px 2px rgba(0, 0, 0, 0.3));\n",
              "      fill: #FFFFFF;\n",
              "    }\n",
              "  </style>\n",
              "\n",
              "    <script>\n",
              "      const buttonEl =\n",
              "        document.querySelector('#df-0bbc1a7f-a175-43e6-9cc0-0d6ee2d42a2b button.colab-df-convert');\n",
              "      buttonEl.style.display =\n",
              "        google.colab.kernel.accessAllowed ? 'block' : 'none';\n",
              "\n",
              "      async function convertToInteractive(key) {\n",
              "        const element = document.querySelector('#df-0bbc1a7f-a175-43e6-9cc0-0d6ee2d42a2b');\n",
              "        const dataTable =\n",
              "          await google.colab.kernel.invokeFunction('convertToInteractive',\n",
              "                                                    [key], {});\n",
              "        if (!dataTable) return;\n",
              "\n",
              "        const docLinkHtml = 'Like what you see? Visit the ' +\n",
              "          '<a target=\"_blank\" href=https://colab.research.google.com/notebooks/data_table.ipynb>data table notebook</a>'\n",
              "          + ' to learn more about interactive tables.';\n",
              "        element.innerHTML = '';\n",
              "        dataTable['output_type'] = 'display_data';\n",
              "        await google.colab.output.renderOutput(dataTable, element);\n",
              "        const docLink = document.createElement('div');\n",
              "        docLink.innerHTML = docLinkHtml;\n",
              "        element.appendChild(docLink);\n",
              "      }\n",
              "    </script>\n",
              "  </div>\n",
              "\n",
              "\n",
              "<div id=\"df-659b0c80-c93f-4ce5-88d4-efab7c5a5769\">\n",
              "  <button class=\"colab-df-quickchart\" onclick=\"quickchart('df-659b0c80-c93f-4ce5-88d4-efab7c5a5769')\"\n",
              "            title=\"Suggest charts\"\n",
              "            style=\"display:none;\">\n",
              "\n",
              "<svg xmlns=\"http://www.w3.org/2000/svg\" height=\"24px\"viewBox=\"0 0 24 24\"\n",
              "     width=\"24px\">\n",
              "    <g>\n",
              "        <path d=\"M19 3H5c-1.1 0-2 .9-2 2v14c0 1.1.9 2 2 2h14c1.1 0 2-.9 2-2V5c0-1.1-.9-2-2-2zM9 17H7v-7h2v7zm4 0h-2V7h2v10zm4 0h-2v-4h2v4z\"/>\n",
              "    </g>\n",
              "</svg>\n",
              "  </button>\n",
              "\n",
              "<style>\n",
              "  .colab-df-quickchart {\n",
              "      --bg-color: #E8F0FE;\n",
              "      --fill-color: #1967D2;\n",
              "      --hover-bg-color: #E2EBFA;\n",
              "      --hover-fill-color: #174EA6;\n",
              "      --disabled-fill-color: #AAA;\n",
              "      --disabled-bg-color: #DDD;\n",
              "  }\n",
              "\n",
              "  [theme=dark] .colab-df-quickchart {\n",
              "      --bg-color: #3B4455;\n",
              "      --fill-color: #D2E3FC;\n",
              "      --hover-bg-color: #434B5C;\n",
              "      --hover-fill-color: #FFFFFF;\n",
              "      --disabled-bg-color: #3B4455;\n",
              "      --disabled-fill-color: #666;\n",
              "  }\n",
              "\n",
              "  .colab-df-quickchart {\n",
              "    background-color: var(--bg-color);\n",
              "    border: none;\n",
              "    border-radius: 50%;\n",
              "    cursor: pointer;\n",
              "    display: none;\n",
              "    fill: var(--fill-color);\n",
              "    height: 32px;\n",
              "    padding: 0;\n",
              "    width: 32px;\n",
              "  }\n",
              "\n",
              "  .colab-df-quickchart:hover {\n",
              "    background-color: var(--hover-bg-color);\n",
              "    box-shadow: 0 1px 2px rgba(60, 64, 67, 0.3), 0 1px 3px 1px rgba(60, 64, 67, 0.15);\n",
              "    fill: var(--button-hover-fill-color);\n",
              "  }\n",
              "\n",
              "  .colab-df-quickchart-complete:disabled,\n",
              "  .colab-df-quickchart-complete:disabled:hover {\n",
              "    background-color: var(--disabled-bg-color);\n",
              "    fill: var(--disabled-fill-color);\n",
              "    box-shadow: none;\n",
              "  }\n",
              "\n",
              "  .colab-df-spinner {\n",
              "    border: 2px solid var(--fill-color);\n",
              "    border-color: transparent;\n",
              "    border-bottom-color: var(--fill-color);\n",
              "    animation:\n",
              "      spin 1s steps(1) infinite;\n",
              "  }\n",
              "\n",
              "  @keyframes spin {\n",
              "    0% {\n",
              "      border-color: transparent;\n",
              "      border-bottom-color: var(--fill-color);\n",
              "      border-left-color: var(--fill-color);\n",
              "    }\n",
              "    20% {\n",
              "      border-color: transparent;\n",
              "      border-left-color: var(--fill-color);\n",
              "      border-top-color: var(--fill-color);\n",
              "    }\n",
              "    30% {\n",
              "      border-color: transparent;\n",
              "      border-left-color: var(--fill-color);\n",
              "      border-top-color: var(--fill-color);\n",
              "      border-right-color: var(--fill-color);\n",
              "    }\n",
              "    40% {\n",
              "      border-color: transparent;\n",
              "      border-right-color: var(--fill-color);\n",
              "      border-top-color: var(--fill-color);\n",
              "    }\n",
              "    60% {\n",
              "      border-color: transparent;\n",
              "      border-right-color: var(--fill-color);\n",
              "    }\n",
              "    80% {\n",
              "      border-color: transparent;\n",
              "      border-right-color: var(--fill-color);\n",
              "      border-bottom-color: var(--fill-color);\n",
              "    }\n",
              "    90% {\n",
              "      border-color: transparent;\n",
              "      border-bottom-color: var(--fill-color);\n",
              "    }\n",
              "  }\n",
              "</style>\n",
              "\n",
              "  <script>\n",
              "    async function quickchart(key) {\n",
              "      const quickchartButtonEl =\n",
              "        document.querySelector('#' + key + ' button');\n",
              "      quickchartButtonEl.disabled = true;  // To prevent multiple clicks.\n",
              "      quickchartButtonEl.classList.add('colab-df-spinner');\n",
              "      try {\n",
              "        const charts = await google.colab.kernel.invokeFunction(\n",
              "            'suggestCharts', [key], {});\n",
              "      } catch (error) {\n",
              "        console.error('Error during call to suggestCharts:', error);\n",
              "      }\n",
              "      quickchartButtonEl.classList.remove('colab-df-spinner');\n",
              "      quickchartButtonEl.classList.add('colab-df-quickchart-complete');\n",
              "    }\n",
              "    (() => {\n",
              "      let quickchartButtonEl =\n",
              "        document.querySelector('#df-659b0c80-c93f-4ce5-88d4-efab7c5a5769 button');\n",
              "      quickchartButtonEl.style.display =\n",
              "        google.colab.kernel.accessAllowed ? 'block' : 'none';\n",
              "    })();\n",
              "  </script>\n",
              "</div>\n",
              "\n",
              "    </div>\n",
              "  </div>\n"
            ],
            "application/vnd.google.colaboratory.intrinsic+json": {
              "type": "dataframe",
              "variable_name": "df",
              "summary": "{\n  \"name\": \"df\",\n  \"rows\": 215,\n  \"fields\": [\n    {\n      \"column\": \"gender\",\n      \"properties\": {\n        \"dtype\": \"number\",\n        \"std\": 0,\n        \"min\": 0,\n        \"max\": 1,\n        \"num_unique_values\": 2,\n        \"samples\": [\n          1,\n          0\n        ],\n        \"semantic_type\": \"\",\n        \"description\": \"\"\n      }\n    },\n    {\n      \"column\": \"ssc_p\",\n      \"properties\": {\n        \"dtype\": \"number\",\n        \"std\": 10.827205398231452,\n        \"min\": 40.89,\n        \"max\": 89.4,\n        \"num_unique_values\": 103,\n        \"samples\": [\n          74.0,\n          73.96\n        ],\n        \"semantic_type\": \"\",\n        \"description\": \"\"\n      }\n    },\n    {\n      \"column\": \"ssc_b\",\n      \"properties\": {\n        \"dtype\": \"number\",\n        \"std\": 0,\n        \"min\": 0,\n        \"max\": 1,\n        \"num_unique_values\": 2,\n        \"samples\": [\n          0,\n          1\n        ],\n        \"semantic_type\": \"\",\n        \"description\": \"\"\n      }\n    },\n    {\n      \"column\": \"hsc_p\",\n      \"properties\": {\n        \"dtype\": \"number\",\n        \"std\": 10.89750915750298,\n        \"min\": 37.0,\n        \"max\": 97.7,\n        \"num_unique_values\": 97,\n        \"samples\": [\n          82.0,\n          73.2\n        ],\n        \"semantic_type\": \"\",\n        \"description\": \"\"\n      }\n    },\n    {\n      \"column\": \"hsc_b\",\n      \"properties\": {\n        \"dtype\": \"number\",\n        \"std\": 0,\n        \"min\": 0,\n        \"max\": 1,\n        \"num_unique_values\": 2,\n        \"samples\": [\n          0,\n          1\n        ],\n        \"semantic_type\": \"\",\n        \"description\": \"\"\n      }\n    },\n    {\n      \"column\": \"hsc_s\",\n      \"properties\": {\n        \"dtype\": \"category\",\n        \"num_unique_values\": 3,\n        \"samples\": [\n          \"Commerce\",\n          \"Science\"\n        ],\n        \"semantic_type\": \"\",\n        \"description\": \"\"\n      }\n    },\n    {\n      \"column\": \"degree_p\",\n      \"properties\": {\n        \"dtype\": \"number\",\n        \"std\": 7.358743287339439,\n        \"min\": 50.0,\n        \"max\": 91.0,\n        \"num_unique_values\": 89,\n        \"samples\": [\n          71.72,\n          76.0\n        ],\n        \"semantic_type\": \"\",\n        \"description\": \"\"\n      }\n    },\n    {\n      \"column\": \"degree_t\",\n      \"properties\": {\n        \"dtype\": \"category\",\n        \"num_unique_values\": 3,\n        \"samples\": [\n          \"Sci&Tech\",\n          \"Comm&Mgmt\"\n        ],\n        \"semantic_type\": \"\",\n        \"description\": \"\"\n      }\n    },\n    {\n      \"column\": \"workex\",\n      \"properties\": {\n        \"dtype\": \"number\",\n        \"std\": 0,\n        \"min\": 0,\n        \"max\": 1,\n        \"num_unique_values\": 2,\n        \"samples\": [\n          1,\n          0\n        ],\n        \"semantic_type\": \"\",\n        \"description\": \"\"\n      }\n    },\n    {\n      \"column\": \"etest_p\",\n      \"properties\": {\n        \"dtype\": \"number\",\n        \"std\": 13.275956401653835,\n        \"min\": 50.0,\n        \"max\": 98.0,\n        \"num_unique_values\": 100,\n        \"samples\": [\n          93.4,\n          69.0\n        ],\n        \"semantic_type\": \"\",\n        \"description\": \"\"\n      }\n    },\n    {\n      \"column\": \"specialisation\",\n      \"properties\": {\n        \"dtype\": \"number\",\n        \"std\": 0,\n        \"min\": 0,\n        \"max\": 1,\n        \"num_unique_values\": 2,\n        \"samples\": [\n          0,\n          1\n        ],\n        \"semantic_type\": \"\",\n        \"description\": \"\"\n      }\n    },\n    {\n      \"column\": \"mba_p\",\n      \"properties\": {\n        \"dtype\": \"number\",\n        \"std\": 5.8333845806838,\n        \"min\": 51.21,\n        \"max\": 77.89,\n        \"num_unique_values\": 205,\n        \"samples\": [\n          64.66,\n          52.21\n        ],\n        \"semantic_type\": \"\",\n        \"description\": \"\"\n      }\n    },\n    {\n      \"column\": \"salary\",\n      \"properties\": {\n        \"dtype\": \"number\",\n        \"std\": 93457.45241958875,\n        \"min\": 200000.0,\n        \"max\": 940000.0,\n        \"num_unique_values\": 45,\n        \"samples\": [\n          255000.0,\n          336000.0\n        ],\n        \"semantic_type\": \"\",\n        \"description\": \"\"\n      }\n    },\n    {\n      \"column\": \"status\",\n      \"properties\": {\n        \"dtype\": \"number\",\n        \"std\": 0,\n        \"min\": 0,\n        \"max\": 1,\n        \"num_unique_values\": 2,\n        \"samples\": [\n          0,\n          1\n        ],\n        \"semantic_type\": \"\",\n        \"description\": \"\"\n      }\n    },\n    {\n      \"column\": \"hsc_s_Arts\",\n      \"properties\": {\n        \"dtype\": \"number\",\n        \"std\": 0.2208438500063645,\n        \"min\": 0.0,\n        \"max\": 1.0,\n        \"num_unique_values\": 2,\n        \"samples\": [\n          1.0,\n          0.0\n        ],\n        \"semantic_type\": \"\",\n        \"description\": \"\"\n      }\n    },\n    {\n      \"column\": \"hsc_s_Commerce\",\n      \"properties\": {\n        \"dtype\": \"number\",\n        \"std\": 0.5005104979226244,\n        \"min\": 0.0,\n        \"max\": 1.0,\n        \"num_unique_values\": 2,\n        \"samples\": [\n          0.0,\n          1.0\n        ],\n        \"semantic_type\": \"\",\n        \"description\": \"\"\n      }\n    },\n    {\n      \"column\": \"hsc_s_Science\",\n      \"properties\": {\n        \"dtype\": \"number\",\n        \"std\": 0.49522826290940186,\n        \"min\": 0.0,\n        \"max\": 1.0,\n        \"num_unique_values\": 2,\n        \"samples\": [\n          1.0,\n          0.0\n        ],\n        \"semantic_type\": \"\",\n        \"description\": \"\"\n      }\n    },\n    {\n      \"column\": \"degree_t_Comm&Mgmt\",\n      \"properties\": {\n        \"dtype\": \"number\",\n        \"std\": 0.46968523127162476,\n        \"min\": 0.0,\n        \"max\": 1.0,\n        \"num_unique_values\": 2,\n        \"samples\": [\n          1.0,\n          0.0\n        ],\n        \"semantic_type\": \"\",\n        \"description\": \"\"\n      }\n    },\n    {\n      \"column\": \"degree_t_Others\",\n      \"properties\": {\n        \"dtype\": \"number\",\n        \"std\": 0.22084385000636447,\n        \"min\": 0.0,\n        \"max\": 1.0,\n        \"num_unique_values\": 2,\n        \"samples\": [\n          1.0,\n          0.0\n        ],\n        \"semantic_type\": \"\",\n        \"description\": \"\"\n      }\n    },\n    {\n      \"column\": \"degree_t_Sci&Tech\",\n      \"properties\": {\n        \"dtype\": \"number\",\n        \"std\": 0.4472621924678279,\n        \"min\": 0.0,\n        \"max\": 1.0,\n        \"num_unique_values\": 2,\n        \"samples\": [\n          0.0,\n          1.0\n        ],\n        \"semantic_type\": \"\",\n        \"description\": \"\"\n      }\n    }\n  ]\n}"
            }
          },
          "metadata": {},
          "execution_count": 18
        }
      ]
    },
    {
      "cell_type": "markdown",
      "source": [
        "**Checking null values in the dataset**"
      ],
      "metadata": {
        "id": "uoNDUNNwfqah"
      }
    },
    {
      "cell_type": "code",
      "source": [
        "df.isnull().sum()"
      ],
      "metadata": {
        "colab": {
          "base_uri": "https://localhost:8080/",
          "height": 711
        },
        "id": "WNKMKINGf4PI",
        "outputId": "16351ce5-6d6f-44f8-94f3-2bfa9984d9a7"
      },
      "execution_count": 19,
      "outputs": [
        {
          "output_type": "execute_result",
          "data": {
            "text/plain": [
              "gender                 0\n",
              "ssc_p                  0\n",
              "ssc_b                  0\n",
              "hsc_p                  0\n",
              "hsc_b                  0\n",
              "hsc_s                  0\n",
              "degree_p               0\n",
              "degree_t               0\n",
              "workex                 0\n",
              "etest_p                0\n",
              "specialisation         0\n",
              "mba_p                  0\n",
              "salary                67\n",
              "status                 0\n",
              "hsc_s_Arts             0\n",
              "hsc_s_Commerce         0\n",
              "hsc_s_Science          0\n",
              "degree_t_Comm&Mgmt     0\n",
              "degree_t_Others        0\n",
              "degree_t_Sci&Tech      0\n",
              "dtype: int64"
            ],
            "text/html": [
              "<div>\n",
              "<style scoped>\n",
              "    .dataframe tbody tr th:only-of-type {\n",
              "        vertical-align: middle;\n",
              "    }\n",
              "\n",
              "    .dataframe tbody tr th {\n",
              "        vertical-align: top;\n",
              "    }\n",
              "\n",
              "    .dataframe thead th {\n",
              "        text-align: right;\n",
              "    }\n",
              "</style>\n",
              "<table border=\"1\" class=\"dataframe\">\n",
              "  <thead>\n",
              "    <tr style=\"text-align: right;\">\n",
              "      <th></th>\n",
              "      <th>0</th>\n",
              "    </tr>\n",
              "  </thead>\n",
              "  <tbody>\n",
              "    <tr>\n",
              "      <th>gender</th>\n",
              "      <td>0</td>\n",
              "    </tr>\n",
              "    <tr>\n",
              "      <th>ssc_p</th>\n",
              "      <td>0</td>\n",
              "    </tr>\n",
              "    <tr>\n",
              "      <th>ssc_b</th>\n",
              "      <td>0</td>\n",
              "    </tr>\n",
              "    <tr>\n",
              "      <th>hsc_p</th>\n",
              "      <td>0</td>\n",
              "    </tr>\n",
              "    <tr>\n",
              "      <th>hsc_b</th>\n",
              "      <td>0</td>\n",
              "    </tr>\n",
              "    <tr>\n",
              "      <th>hsc_s</th>\n",
              "      <td>0</td>\n",
              "    </tr>\n",
              "    <tr>\n",
              "      <th>degree_p</th>\n",
              "      <td>0</td>\n",
              "    </tr>\n",
              "    <tr>\n",
              "      <th>degree_t</th>\n",
              "      <td>0</td>\n",
              "    </tr>\n",
              "    <tr>\n",
              "      <th>workex</th>\n",
              "      <td>0</td>\n",
              "    </tr>\n",
              "    <tr>\n",
              "      <th>etest_p</th>\n",
              "      <td>0</td>\n",
              "    </tr>\n",
              "    <tr>\n",
              "      <th>specialisation</th>\n",
              "      <td>0</td>\n",
              "    </tr>\n",
              "    <tr>\n",
              "      <th>mba_p</th>\n",
              "      <td>0</td>\n",
              "    </tr>\n",
              "    <tr>\n",
              "      <th>salary</th>\n",
              "      <td>67</td>\n",
              "    </tr>\n",
              "    <tr>\n",
              "      <th>status</th>\n",
              "      <td>0</td>\n",
              "    </tr>\n",
              "    <tr>\n",
              "      <th>hsc_s_Arts</th>\n",
              "      <td>0</td>\n",
              "    </tr>\n",
              "    <tr>\n",
              "      <th>hsc_s_Commerce</th>\n",
              "      <td>0</td>\n",
              "    </tr>\n",
              "    <tr>\n",
              "      <th>hsc_s_Science</th>\n",
              "      <td>0</td>\n",
              "    </tr>\n",
              "    <tr>\n",
              "      <th>degree_t_Comm&amp;Mgmt</th>\n",
              "      <td>0</td>\n",
              "    </tr>\n",
              "    <tr>\n",
              "      <th>degree_t_Others</th>\n",
              "      <td>0</td>\n",
              "    </tr>\n",
              "    <tr>\n",
              "      <th>degree_t_Sci&amp;Tech</th>\n",
              "      <td>0</td>\n",
              "    </tr>\n",
              "  </tbody>\n",
              "</table>\n",
              "</div><br><label><b>dtype:</b> int64</label>"
            ]
          },
          "metadata": {},
          "execution_count": 19
        }
      ]
    },
    {
      "cell_type": "markdown",
      "source": [
        "There are 67 null values in the colum named 'salary'.\n",
        "\n",
        "It is evident that all entries with null values in the salary column correspond to students who are not placed. Given the imbalance in the dataset, it's important to retain these records instead of discarding them. Therefore, I will use target imputation to estimate the missing salary values based on the salaries associated with the degree column.\n"
      ],
      "metadata": {
        "id": "qCg7N2atgspS"
      }
    },
    {
      "cell_type": "code",
      "source": [
        "print('Not placed with Null salary: ', df[(df['salary'].isnull()) & (df['status'] == 0)].shape[0])\n",
        "print('Placed with Null salary: ', df[(df['salary'].isnull()) & (df['status'] == 1)].shape[0])\n",
        ""
      ],
      "metadata": {
        "colab": {
          "base_uri": "https://localhost:8080/"
        },
        "id": "Cxu8dW8yij7R",
        "outputId": "2981b66d-5b67-4354-aa1e-ec16c741ebfb"
      },
      "execution_count": 20,
      "outputs": [
        {
          "output_type": "stream",
          "name": "stdout",
          "text": [
            "Not placed with Null salary:  67\n",
            "Placed with Null salary:  0\n"
          ]
        }
      ]
    },
    {
      "cell_type": "markdown",
      "source": [
        "In the context of this dataset, the status column typically represents the target variable indicating whether an individual has been placed. It is crucial to drop this column before splitting the dataset into training and testing sets to avoid data leakage, which occurs when information from the target variable influences the training process. This ensures that the model is trained solely on the features and can generalize to unseen data, leading to valid performance assessments. By keeping the status column separate, we maintain the integrity of the model evaluation."
      ],
      "metadata": {
        "id": "UpOt2KAiuIlU"
      }
    },
    {
      "cell_type": "code",
      "source": [
        "X = df.drop('status', axis=1)\n",
        "y = df['status']\n",
        "\n",
        "X_train, X_test, y_train, y_test = train_test_split(X, y, test_size=0.3, random_state=42)"
      ],
      "metadata": {
        "id": "81EIQaUruR5q"
      },
      "execution_count": 21,
      "outputs": []
    },
    {
      "cell_type": "code",
      "source": [
        "\n",
        "X_train.head()"
      ],
      "metadata": {
        "colab": {
          "base_uri": "https://localhost:8080/",
          "height": 226
        },
        "id": "Ar4V_-TiuWdX",
        "outputId": "c3a50993-2f4f-4685-b9d3-6f69a89abd84"
      },
      "execution_count": 22,
      "outputs": [
        {
          "output_type": "execute_result",
          "data": {
            "text/plain": [
              "     gender  ssc_p  ssc_b  hsc_p  hsc_b     hsc_s  degree_p   degree_t  \\\n",
              "198       1   67.0      0   70.0      0  Commerce      65.0     Others   \n",
              "82        0   63.0      0   67.0      0  Commerce      74.0  Comm&Mgmt   \n",
              "65        0   54.0      1   47.0      1   Science      57.0  Comm&Mgmt   \n",
              "109       0   52.0      0   63.0      1   Science      65.0   Sci&Tech   \n",
              "182       0   52.0      1   65.0      1      Arts      57.0     Others   \n",
              "\n",
              "     workex  etest_p  specialisation  mba_p  salary  hsc_s_Arts  \\\n",
              "198       0    88.00               1  71.96     NaN         0.0   \n",
              "82        0    82.00               0  60.44     NaN         0.0   \n",
              "65        0    89.69               1  57.10     NaN         0.0   \n",
              "109       1    86.00               1  56.09     NaN         0.0   \n",
              "182       1    75.00               0  59.81     NaN         1.0   \n",
              "\n",
              "     hsc_s_Commerce  hsc_s_Science  degree_t_Comm&Mgmt  degree_t_Others  \\\n",
              "198             1.0            0.0                 0.0              1.0   \n",
              "82              1.0            0.0                 1.0              0.0   \n",
              "65              0.0            1.0                 1.0              0.0   \n",
              "109             0.0            1.0                 0.0              0.0   \n",
              "182             0.0            0.0                 0.0              1.0   \n",
              "\n",
              "     degree_t_Sci&Tech  \n",
              "198                0.0  \n",
              "82                 0.0  \n",
              "65                 0.0  \n",
              "109                1.0  \n",
              "182                0.0  "
            ],
            "text/html": [
              "\n",
              "  <div id=\"df-76f9938f-81a8-46ad-baff-ed17356ef9c6\" class=\"colab-df-container\">\n",
              "    <div>\n",
              "<style scoped>\n",
              "    .dataframe tbody tr th:only-of-type {\n",
              "        vertical-align: middle;\n",
              "    }\n",
              "\n",
              "    .dataframe tbody tr th {\n",
              "        vertical-align: top;\n",
              "    }\n",
              "\n",
              "    .dataframe thead th {\n",
              "        text-align: right;\n",
              "    }\n",
              "</style>\n",
              "<table border=\"1\" class=\"dataframe\">\n",
              "  <thead>\n",
              "    <tr style=\"text-align: right;\">\n",
              "      <th></th>\n",
              "      <th>gender</th>\n",
              "      <th>ssc_p</th>\n",
              "      <th>ssc_b</th>\n",
              "      <th>hsc_p</th>\n",
              "      <th>hsc_b</th>\n",
              "      <th>hsc_s</th>\n",
              "      <th>degree_p</th>\n",
              "      <th>degree_t</th>\n",
              "      <th>workex</th>\n",
              "      <th>etest_p</th>\n",
              "      <th>specialisation</th>\n",
              "      <th>mba_p</th>\n",
              "      <th>salary</th>\n",
              "      <th>hsc_s_Arts</th>\n",
              "      <th>hsc_s_Commerce</th>\n",
              "      <th>hsc_s_Science</th>\n",
              "      <th>degree_t_Comm&amp;Mgmt</th>\n",
              "      <th>degree_t_Others</th>\n",
              "      <th>degree_t_Sci&amp;Tech</th>\n",
              "    </tr>\n",
              "  </thead>\n",
              "  <tbody>\n",
              "    <tr>\n",
              "      <th>198</th>\n",
              "      <td>1</td>\n",
              "      <td>67.0</td>\n",
              "      <td>0</td>\n",
              "      <td>70.0</td>\n",
              "      <td>0</td>\n",
              "      <td>Commerce</td>\n",
              "      <td>65.0</td>\n",
              "      <td>Others</td>\n",
              "      <td>0</td>\n",
              "      <td>88.00</td>\n",
              "      <td>1</td>\n",
              "      <td>71.96</td>\n",
              "      <td>NaN</td>\n",
              "      <td>0.0</td>\n",
              "      <td>1.0</td>\n",
              "      <td>0.0</td>\n",
              "      <td>0.0</td>\n",
              "      <td>1.0</td>\n",
              "      <td>0.0</td>\n",
              "    </tr>\n",
              "    <tr>\n",
              "      <th>82</th>\n",
              "      <td>0</td>\n",
              "      <td>63.0</td>\n",
              "      <td>0</td>\n",
              "      <td>67.0</td>\n",
              "      <td>0</td>\n",
              "      <td>Commerce</td>\n",
              "      <td>74.0</td>\n",
              "      <td>Comm&amp;Mgmt</td>\n",
              "      <td>0</td>\n",
              "      <td>82.00</td>\n",
              "      <td>0</td>\n",
              "      <td>60.44</td>\n",
              "      <td>NaN</td>\n",
              "      <td>0.0</td>\n",
              "      <td>1.0</td>\n",
              "      <td>0.0</td>\n",
              "      <td>1.0</td>\n",
              "      <td>0.0</td>\n",
              "      <td>0.0</td>\n",
              "    </tr>\n",
              "    <tr>\n",
              "      <th>65</th>\n",
              "      <td>0</td>\n",
              "      <td>54.0</td>\n",
              "      <td>1</td>\n",
              "      <td>47.0</td>\n",
              "      <td>1</td>\n",
              "      <td>Science</td>\n",
              "      <td>57.0</td>\n",
              "      <td>Comm&amp;Mgmt</td>\n",
              "      <td>0</td>\n",
              "      <td>89.69</td>\n",
              "      <td>1</td>\n",
              "      <td>57.10</td>\n",
              "      <td>NaN</td>\n",
              "      <td>0.0</td>\n",
              "      <td>0.0</td>\n",
              "      <td>1.0</td>\n",
              "      <td>1.0</td>\n",
              "      <td>0.0</td>\n",
              "      <td>0.0</td>\n",
              "    </tr>\n",
              "    <tr>\n",
              "      <th>109</th>\n",
              "      <td>0</td>\n",
              "      <td>52.0</td>\n",
              "      <td>0</td>\n",
              "      <td>63.0</td>\n",
              "      <td>1</td>\n",
              "      <td>Science</td>\n",
              "      <td>65.0</td>\n",
              "      <td>Sci&amp;Tech</td>\n",
              "      <td>1</td>\n",
              "      <td>86.00</td>\n",
              "      <td>1</td>\n",
              "      <td>56.09</td>\n",
              "      <td>NaN</td>\n",
              "      <td>0.0</td>\n",
              "      <td>0.0</td>\n",
              "      <td>1.0</td>\n",
              "      <td>0.0</td>\n",
              "      <td>0.0</td>\n",
              "      <td>1.0</td>\n",
              "    </tr>\n",
              "    <tr>\n",
              "      <th>182</th>\n",
              "      <td>0</td>\n",
              "      <td>52.0</td>\n",
              "      <td>1</td>\n",
              "      <td>65.0</td>\n",
              "      <td>1</td>\n",
              "      <td>Arts</td>\n",
              "      <td>57.0</td>\n",
              "      <td>Others</td>\n",
              "      <td>1</td>\n",
              "      <td>75.00</td>\n",
              "      <td>0</td>\n",
              "      <td>59.81</td>\n",
              "      <td>NaN</td>\n",
              "      <td>1.0</td>\n",
              "      <td>0.0</td>\n",
              "      <td>0.0</td>\n",
              "      <td>0.0</td>\n",
              "      <td>1.0</td>\n",
              "      <td>0.0</td>\n",
              "    </tr>\n",
              "  </tbody>\n",
              "</table>\n",
              "</div>\n",
              "    <div class=\"colab-df-buttons\">\n",
              "\n",
              "  <div class=\"colab-df-container\">\n",
              "    <button class=\"colab-df-convert\" onclick=\"convertToInteractive('df-76f9938f-81a8-46ad-baff-ed17356ef9c6')\"\n",
              "            title=\"Convert this dataframe to an interactive table.\"\n",
              "            style=\"display:none;\">\n",
              "\n",
              "  <svg xmlns=\"http://www.w3.org/2000/svg\" height=\"24px\" viewBox=\"0 -960 960 960\">\n",
              "    <path d=\"M120-120v-720h720v720H120Zm60-500h600v-160H180v160Zm220 220h160v-160H400v160Zm0 220h160v-160H400v160ZM180-400h160v-160H180v160Zm440 0h160v-160H620v160ZM180-180h160v-160H180v160Zm440 0h160v-160H620v160Z\"/>\n",
              "  </svg>\n",
              "    </button>\n",
              "\n",
              "  <style>\n",
              "    .colab-df-container {\n",
              "      display:flex;\n",
              "      gap: 12px;\n",
              "    }\n",
              "\n",
              "    .colab-df-convert {\n",
              "      background-color: #E8F0FE;\n",
              "      border: none;\n",
              "      border-radius: 50%;\n",
              "      cursor: pointer;\n",
              "      display: none;\n",
              "      fill: #1967D2;\n",
              "      height: 32px;\n",
              "      padding: 0 0 0 0;\n",
              "      width: 32px;\n",
              "    }\n",
              "\n",
              "    .colab-df-convert:hover {\n",
              "      background-color: #E2EBFA;\n",
              "      box-shadow: 0px 1px 2px rgba(60, 64, 67, 0.3), 0px 1px 3px 1px rgba(60, 64, 67, 0.15);\n",
              "      fill: #174EA6;\n",
              "    }\n",
              "\n",
              "    .colab-df-buttons div {\n",
              "      margin-bottom: 4px;\n",
              "    }\n",
              "\n",
              "    [theme=dark] .colab-df-convert {\n",
              "      background-color: #3B4455;\n",
              "      fill: #D2E3FC;\n",
              "    }\n",
              "\n",
              "    [theme=dark] .colab-df-convert:hover {\n",
              "      background-color: #434B5C;\n",
              "      box-shadow: 0px 1px 3px 1px rgba(0, 0, 0, 0.15);\n",
              "      filter: drop-shadow(0px 1px 2px rgba(0, 0, 0, 0.3));\n",
              "      fill: #FFFFFF;\n",
              "    }\n",
              "  </style>\n",
              "\n",
              "    <script>\n",
              "      const buttonEl =\n",
              "        document.querySelector('#df-76f9938f-81a8-46ad-baff-ed17356ef9c6 button.colab-df-convert');\n",
              "      buttonEl.style.display =\n",
              "        google.colab.kernel.accessAllowed ? 'block' : 'none';\n",
              "\n",
              "      async function convertToInteractive(key) {\n",
              "        const element = document.querySelector('#df-76f9938f-81a8-46ad-baff-ed17356ef9c6');\n",
              "        const dataTable =\n",
              "          await google.colab.kernel.invokeFunction('convertToInteractive',\n",
              "                                                    [key], {});\n",
              "        if (!dataTable) return;\n",
              "\n",
              "        const docLinkHtml = 'Like what you see? Visit the ' +\n",
              "          '<a target=\"_blank\" href=https://colab.research.google.com/notebooks/data_table.ipynb>data table notebook</a>'\n",
              "          + ' to learn more about interactive tables.';\n",
              "        element.innerHTML = '';\n",
              "        dataTable['output_type'] = 'display_data';\n",
              "        await google.colab.output.renderOutput(dataTable, element);\n",
              "        const docLink = document.createElement('div');\n",
              "        docLink.innerHTML = docLinkHtml;\n",
              "        element.appendChild(docLink);\n",
              "      }\n",
              "    </script>\n",
              "  </div>\n",
              "\n",
              "\n",
              "<div id=\"df-a0a8d199-4234-4d7b-98d6-d4ec90f757c6\">\n",
              "  <button class=\"colab-df-quickchart\" onclick=\"quickchart('df-a0a8d199-4234-4d7b-98d6-d4ec90f757c6')\"\n",
              "            title=\"Suggest charts\"\n",
              "            style=\"display:none;\">\n",
              "\n",
              "<svg xmlns=\"http://www.w3.org/2000/svg\" height=\"24px\"viewBox=\"0 0 24 24\"\n",
              "     width=\"24px\">\n",
              "    <g>\n",
              "        <path d=\"M19 3H5c-1.1 0-2 .9-2 2v14c0 1.1.9 2 2 2h14c1.1 0 2-.9 2-2V5c0-1.1-.9-2-2-2zM9 17H7v-7h2v7zm4 0h-2V7h2v10zm4 0h-2v-4h2v4z\"/>\n",
              "    </g>\n",
              "</svg>\n",
              "  </button>\n",
              "\n",
              "<style>\n",
              "  .colab-df-quickchart {\n",
              "      --bg-color: #E8F0FE;\n",
              "      --fill-color: #1967D2;\n",
              "      --hover-bg-color: #E2EBFA;\n",
              "      --hover-fill-color: #174EA6;\n",
              "      --disabled-fill-color: #AAA;\n",
              "      --disabled-bg-color: #DDD;\n",
              "  }\n",
              "\n",
              "  [theme=dark] .colab-df-quickchart {\n",
              "      --bg-color: #3B4455;\n",
              "      --fill-color: #D2E3FC;\n",
              "      --hover-bg-color: #434B5C;\n",
              "      --hover-fill-color: #FFFFFF;\n",
              "      --disabled-bg-color: #3B4455;\n",
              "      --disabled-fill-color: #666;\n",
              "  }\n",
              "\n",
              "  .colab-df-quickchart {\n",
              "    background-color: var(--bg-color);\n",
              "    border: none;\n",
              "    border-radius: 50%;\n",
              "    cursor: pointer;\n",
              "    display: none;\n",
              "    fill: var(--fill-color);\n",
              "    height: 32px;\n",
              "    padding: 0;\n",
              "    width: 32px;\n",
              "  }\n",
              "\n",
              "  .colab-df-quickchart:hover {\n",
              "    background-color: var(--hover-bg-color);\n",
              "    box-shadow: 0 1px 2px rgba(60, 64, 67, 0.3), 0 1px 3px 1px rgba(60, 64, 67, 0.15);\n",
              "    fill: var(--button-hover-fill-color);\n",
              "  }\n",
              "\n",
              "  .colab-df-quickchart-complete:disabled,\n",
              "  .colab-df-quickchart-complete:disabled:hover {\n",
              "    background-color: var(--disabled-bg-color);\n",
              "    fill: var(--disabled-fill-color);\n",
              "    box-shadow: none;\n",
              "  }\n",
              "\n",
              "  .colab-df-spinner {\n",
              "    border: 2px solid var(--fill-color);\n",
              "    border-color: transparent;\n",
              "    border-bottom-color: var(--fill-color);\n",
              "    animation:\n",
              "      spin 1s steps(1) infinite;\n",
              "  }\n",
              "\n",
              "  @keyframes spin {\n",
              "    0% {\n",
              "      border-color: transparent;\n",
              "      border-bottom-color: var(--fill-color);\n",
              "      border-left-color: var(--fill-color);\n",
              "    }\n",
              "    20% {\n",
              "      border-color: transparent;\n",
              "      border-left-color: var(--fill-color);\n",
              "      border-top-color: var(--fill-color);\n",
              "    }\n",
              "    30% {\n",
              "      border-color: transparent;\n",
              "      border-left-color: var(--fill-color);\n",
              "      border-top-color: var(--fill-color);\n",
              "      border-right-color: var(--fill-color);\n",
              "    }\n",
              "    40% {\n",
              "      border-color: transparent;\n",
              "      border-right-color: var(--fill-color);\n",
              "      border-top-color: var(--fill-color);\n",
              "    }\n",
              "    60% {\n",
              "      border-color: transparent;\n",
              "      border-right-color: var(--fill-color);\n",
              "    }\n",
              "    80% {\n",
              "      border-color: transparent;\n",
              "      border-right-color: var(--fill-color);\n",
              "      border-bottom-color: var(--fill-color);\n",
              "    }\n",
              "    90% {\n",
              "      border-color: transparent;\n",
              "      border-bottom-color: var(--fill-color);\n",
              "    }\n",
              "  }\n",
              "</style>\n",
              "\n",
              "  <script>\n",
              "    async function quickchart(key) {\n",
              "      const quickchartButtonEl =\n",
              "        document.querySelector('#' + key + ' button');\n",
              "      quickchartButtonEl.disabled = true;  // To prevent multiple clicks.\n",
              "      quickchartButtonEl.classList.add('colab-df-spinner');\n",
              "      try {\n",
              "        const charts = await google.colab.kernel.invokeFunction(\n",
              "            'suggestCharts', [key], {});\n",
              "      } catch (error) {\n",
              "        console.error('Error during call to suggestCharts:', error);\n",
              "      }\n",
              "      quickchartButtonEl.classList.remove('colab-df-spinner');\n",
              "      quickchartButtonEl.classList.add('colab-df-quickchart-complete');\n",
              "    }\n",
              "    (() => {\n",
              "      let quickchartButtonEl =\n",
              "        document.querySelector('#df-a0a8d199-4234-4d7b-98d6-d4ec90f757c6 button');\n",
              "      quickchartButtonEl.style.display =\n",
              "        google.colab.kernel.accessAllowed ? 'block' : 'none';\n",
              "    })();\n",
              "  </script>\n",
              "</div>\n",
              "\n",
              "    </div>\n",
              "  </div>\n"
            ],
            "application/vnd.google.colaboratory.intrinsic+json": {
              "type": "dataframe",
              "variable_name": "X_train",
              "summary": "{\n  \"name\": \"X_train\",\n  \"rows\": 150,\n  \"fields\": [\n    {\n      \"column\": \"gender\",\n      \"properties\": {\n        \"dtype\": \"number\",\n        \"std\": 0,\n        \"min\": 0,\n        \"max\": 1,\n        \"num_unique_values\": 2,\n        \"samples\": [\n          0,\n          1\n        ],\n        \"semantic_type\": \"\",\n        \"description\": \"\"\n      }\n    },\n    {\n      \"column\": \"ssc_p\",\n      \"properties\": {\n        \"dtype\": \"number\",\n        \"std\": 11.057661909049967,\n        \"min\": 40.89,\n        \"max\": 87.0,\n        \"num_unique_values\": 85,\n        \"samples\": [\n          59.6,\n          67.0\n        ],\n        \"semantic_type\": \"\",\n        \"description\": \"\"\n      }\n    },\n    {\n      \"column\": \"ssc_b\",\n      \"properties\": {\n        \"dtype\": \"number\",\n        \"std\": 0,\n        \"min\": 0,\n        \"max\": 1,\n        \"num_unique_values\": 2,\n        \"samples\": [\n          1,\n          0\n        ],\n        \"semantic_type\": \"\",\n        \"description\": \"\"\n      }\n    },\n    {\n      \"column\": \"hsc_p\",\n      \"properties\": {\n        \"dtype\": \"number\",\n        \"std\": 11.255943321957252,\n        \"min\": 37.0,\n        \"max\": 97.0,\n        \"num_unique_values\": 80,\n        \"samples\": [\n          66.8,\n          70.0\n        ],\n        \"semantic_type\": \"\",\n        \"description\": \"\"\n      }\n    },\n    {\n      \"column\": \"hsc_b\",\n      \"properties\": {\n        \"dtype\": \"number\",\n        \"std\": 0,\n        \"min\": 0,\n        \"max\": 1,\n        \"num_unique_values\": 2,\n        \"samples\": [\n          1,\n          0\n        ],\n        \"semantic_type\": \"\",\n        \"description\": \"\"\n      }\n    },\n    {\n      \"column\": \"hsc_s\",\n      \"properties\": {\n        \"dtype\": \"category\",\n        \"num_unique_values\": 3,\n        \"samples\": [\n          \"Commerce\",\n          \"Science\"\n        ],\n        \"semantic_type\": \"\",\n        \"description\": \"\"\n      }\n    },\n    {\n      \"column\": \"degree_p\",\n      \"properties\": {\n        \"dtype\": \"number\",\n        \"std\": 7.53327554451118,\n        \"min\": 50.0,\n        \"max\": 91.0,\n        \"num_unique_values\": 73,\n        \"samples\": [\n          67.5,\n          53.0\n        ],\n        \"semantic_type\": \"\",\n        \"description\": \"\"\n      }\n    },\n    {\n      \"column\": \"degree_t\",\n      \"properties\": {\n        \"dtype\": \"category\",\n        \"num_unique_values\": 3,\n        \"samples\": [\n          \"Others\",\n          \"Comm&Mgmt\"\n        ],\n        \"semantic_type\": \"\",\n        \"description\": \"\"\n      }\n    },\n    {\n      \"column\": \"workex\",\n      \"properties\": {\n        \"dtype\": \"number\",\n        \"std\": 0,\n        \"min\": 0,\n        \"max\": 1,\n        \"num_unique_values\": 2,\n        \"samples\": [\n          1,\n          0\n        ],\n        \"semantic_type\": \"\",\n        \"description\": \"\"\n      }\n    },\n    {\n      \"column\": \"etest_p\",\n      \"properties\": {\n        \"dtype\": \"number\",\n        \"std\": 13.114065922858664,\n        \"min\": 50.0,\n        \"max\": 97.0,\n        \"num_unique_values\": 81,\n        \"samples\": [\n          82.66,\n          88.0\n        ],\n        \"semantic_type\": \"\",\n        \"description\": \"\"\n      }\n    },\n    {\n      \"column\": \"specialisation\",\n      \"properties\": {\n        \"dtype\": \"number\",\n        \"std\": 0,\n        \"min\": 0,\n        \"max\": 1,\n        \"num_unique_values\": 2,\n        \"samples\": [\n          0,\n          1\n        ],\n        \"semantic_type\": \"\",\n        \"description\": \"\"\n      }\n    },\n    {\n      \"column\": \"mba_p\",\n      \"properties\": {\n        \"dtype\": \"number\",\n        \"std\": 5.686735569396701,\n        \"min\": 51.21,\n        \"max\": 76.18,\n        \"num_unique_values\": 146,\n        \"samples\": [\n          53.39,\n          61.29\n        ],\n        \"semantic_type\": \"\",\n        \"description\": \"\"\n      }\n    },\n    {\n      \"column\": \"salary\",\n      \"properties\": {\n        \"dtype\": \"number\",\n        \"std\": 97408.83359626078,\n        \"min\": 200000.0,\n        \"max\": 940000.0,\n        \"num_unique_values\": 35,\n        \"samples\": [\n          450000.0,\n          236000.0\n        ],\n        \"semantic_type\": \"\",\n        \"description\": \"\"\n      }\n    },\n    {\n      \"column\": \"hsc_s_Arts\",\n      \"properties\": {\n        \"dtype\": \"number\",\n        \"std\": 0.23828244477915847,\n        \"min\": 0.0,\n        \"max\": 1.0,\n        \"num_unique_values\": 2,\n        \"samples\": [\n          1.0,\n          0.0\n        ],\n        \"semantic_type\": \"\",\n        \"description\": \"\"\n      }\n    },\n    {\n      \"column\": \"hsc_s_Commerce\",\n      \"properties\": {\n        \"dtype\": \"number\",\n        \"std\": 0.5009610450724589,\n        \"min\": 0.0,\n        \"max\": 1.0,\n        \"num_unique_values\": 2,\n        \"samples\": [\n          0.0,\n          1.0\n        ],\n        \"semantic_type\": \"\",\n        \"description\": \"\"\n      }\n    },\n    {\n      \"column\": \"hsc_s_Science\",\n      \"properties\": {\n        \"dtype\": \"number\",\n        \"std\": 0.4940813000875429,\n        \"min\": 0.0,\n        \"max\": 1.0,\n        \"num_unique_values\": 2,\n        \"samples\": [\n          1.0,\n          0.0\n        ],\n        \"semantic_type\": \"\",\n        \"description\": \"\"\n      }\n    },\n    {\n      \"column\": \"degree_t_Comm&Mgmt\",\n      \"properties\": {\n        \"dtype\": \"number\",\n        \"std\": 0.47056536988797554,\n        \"min\": 0.0,\n        \"max\": 1.0,\n        \"num_unique_values\": 2,\n        \"samples\": [\n          1.0,\n          0.0\n        ],\n        \"semantic_type\": \"\",\n        \"description\": \"\"\n      }\n    },\n    {\n      \"column\": \"degree_t_Others\",\n      \"properties\": {\n        \"dtype\": \"number\",\n        \"std\": 0.2382824447791587,\n        \"min\": 0.0,\n        \"max\": 1.0,\n        \"num_unique_values\": 2,\n        \"samples\": [\n          0.0,\n          1.0\n        ],\n        \"semantic_type\": \"\",\n        \"description\": \"\"\n      }\n    },\n    {\n      \"column\": \"degree_t_Sci&Tech\",\n      \"properties\": {\n        \"dtype\": \"number\",\n        \"std\": 0.443698105640024,\n        \"min\": 0.0,\n        \"max\": 1.0,\n        \"num_unique_values\": 2,\n        \"samples\": [\n          1.0,\n          0.0\n        ],\n        \"semantic_type\": \"\",\n        \"description\": \"\"\n      }\n    }\n  ]\n}"
            }
          },
          "metadata": {},
          "execution_count": 22
        }
      ]
    },
    {
      "cell_type": "code",
      "source": [
        "degree_salary_means = X_train.groupby('degree_t')['salary'].mean()\n",
        "degree_salary_means"
      ],
      "metadata": {
        "colab": {
          "base_uri": "https://localhost:8080/",
          "height": 209
        },
        "id": "xr6uqP7-uYg-",
        "outputId": "c088b175-f177-4bc6-a3de-adf80c3cd1b8"
      },
      "execution_count": 23,
      "outputs": [
        {
          "output_type": "execute_result",
          "data": {
            "text/plain": [
              "degree_t\n",
              "Comm&Mgmt    284041.666667\n",
              "Others       300000.000000\n",
              "Sci&Tech     305793.103448\n",
              "Name: salary, dtype: float64"
            ],
            "text/html": [
              "<div>\n",
              "<style scoped>\n",
              "    .dataframe tbody tr th:only-of-type {\n",
              "        vertical-align: middle;\n",
              "    }\n",
              "\n",
              "    .dataframe tbody tr th {\n",
              "        vertical-align: top;\n",
              "    }\n",
              "\n",
              "    .dataframe thead th {\n",
              "        text-align: right;\n",
              "    }\n",
              "</style>\n",
              "<table border=\"1\" class=\"dataframe\">\n",
              "  <thead>\n",
              "    <tr style=\"text-align: right;\">\n",
              "      <th></th>\n",
              "      <th>salary</th>\n",
              "    </tr>\n",
              "    <tr>\n",
              "      <th>degree_t</th>\n",
              "      <th></th>\n",
              "    </tr>\n",
              "  </thead>\n",
              "  <tbody>\n",
              "    <tr>\n",
              "      <th>Comm&amp;Mgmt</th>\n",
              "      <td>284041.666667</td>\n",
              "    </tr>\n",
              "    <tr>\n",
              "      <th>Others</th>\n",
              "      <td>300000.000000</td>\n",
              "    </tr>\n",
              "    <tr>\n",
              "      <th>Sci&amp;Tech</th>\n",
              "      <td>305793.103448</td>\n",
              "    </tr>\n",
              "  </tbody>\n",
              "</table>\n",
              "</div><br><label><b>dtype:</b> float64</label>"
            ]
          },
          "metadata": {},
          "execution_count": 23
        }
      ]
    },
    {
      "cell_type": "code",
      "source": [],
      "metadata": {
        "id": "Z7lFuhgJzAqQ"
      },
      "execution_count": 23,
      "outputs": []
    },
    {
      "cell_type": "markdown",
      "source": [
        "To impute missing values in the salary column based on the degree_t column, we first calculate the mean salary for each unique degree_t category in the training data. Then, we apply these mean values to fill missing salary entries in both the training and test datasets by using the degree_t value as a reference. This ensures that missing salary values are replaced consistently with the corresponding category's average, preserving the relationship between degree_t and salary without data leakage."
      ],
      "metadata": {
        "id": "VKhhov-Nu4xc"
      }
    },
    {
      "cell_type": "code",
      "source": [
        "X_train.loc[(X_train['salary'].isnull()) & (X_train['degree_t'] == 'Comm&Mgmt'), 'salary'] = degree_salary_means['Comm&Mgmt']\n",
        "X_train.loc[(X_train['salary'].isnull()) & (X_train['degree_t'] == 'Others'), 'salary'] = degree_salary_means['Others']\n",
        "X_train.loc[(X_train['salary'].isnull()) & (X_train['degree_t'] == 'Sci&Tech'), 'salary'] = degree_salary_means['Sci&Tech']\n",
        "\n",
        ""
      ],
      "metadata": {
        "id": "0uDkDR_Nu5qG"
      },
      "execution_count": 24,
      "outputs": []
    },
    {
      "cell_type": "code",
      "source": [
        "X_test.loc[(X_test['salary'].isnull()) & (X_test['degree_t'] == 'Comm&Mgmt'), 'salary'] = degree_salary_means['Comm&Mgmt']\n",
        "X_test.loc[(X_test['salary'].isnull()) & (X_test['degree_t'] == 'Others'), 'salary'] = degree_salary_means['Others']\n",
        "X_test.loc[(X_test['salary'].isnull()) & (X_test['degree_t'] == 'Sci&Tech'), 'salary'] = degree_salary_means['Sci&Tech']"
      ],
      "metadata": {
        "id": "j6xLQS4SvKUG"
      },
      "execution_count": 25,
      "outputs": []
    },
    {
      "cell_type": "code",
      "source": [
        "print('Missing values in X_train: ', X_train.isna().sum().sum())\n",
        "print('Missing values in X_test: ', X_test.isna().sum().sum())\n"
      ],
      "metadata": {
        "colab": {
          "base_uri": "https://localhost:8080/"
        },
        "id": "UknJIbhwvTxH",
        "outputId": "70e88cc0-c99b-4c6e-b50a-76c81e39a361"
      },
      "execution_count": 26,
      "outputs": [
        {
          "output_type": "stream",
          "name": "stdout",
          "text": [
            "Missing values in X_train:  0\n",
            "Missing values in X_test:  0\n"
          ]
        }
      ]
    },
    {
      "cell_type": "code",
      "source": [
        "X_train.head()"
      ],
      "metadata": {
        "colab": {
          "base_uri": "https://localhost:8080/",
          "height": 226
        },
        "id": "QrXhQwNSwkdr",
        "outputId": "574083a9-0af6-4686-9e4b-91f0aa3c60e3"
      },
      "execution_count": 27,
      "outputs": [
        {
          "output_type": "execute_result",
          "data": {
            "text/plain": [
              "     gender  ssc_p  ssc_b  hsc_p  hsc_b     hsc_s  degree_p   degree_t  \\\n",
              "198       1   67.0      0   70.0      0  Commerce      65.0     Others   \n",
              "82        0   63.0      0   67.0      0  Commerce      74.0  Comm&Mgmt   \n",
              "65        0   54.0      1   47.0      1   Science      57.0  Comm&Mgmt   \n",
              "109       0   52.0      0   63.0      1   Science      65.0   Sci&Tech   \n",
              "182       0   52.0      1   65.0      1      Arts      57.0     Others   \n",
              "\n",
              "     workex  etest_p  specialisation  mba_p         salary  hsc_s_Arts  \\\n",
              "198       0    88.00               1  71.96  300000.000000         0.0   \n",
              "82        0    82.00               0  60.44  284041.666667         0.0   \n",
              "65        0    89.69               1  57.10  284041.666667         0.0   \n",
              "109       1    86.00               1  56.09  305793.103448         0.0   \n",
              "182       1    75.00               0  59.81  300000.000000         1.0   \n",
              "\n",
              "     hsc_s_Commerce  hsc_s_Science  degree_t_Comm&Mgmt  degree_t_Others  \\\n",
              "198             1.0            0.0                 0.0              1.0   \n",
              "82              1.0            0.0                 1.0              0.0   \n",
              "65              0.0            1.0                 1.0              0.0   \n",
              "109             0.0            1.0                 0.0              0.0   \n",
              "182             0.0            0.0                 0.0              1.0   \n",
              "\n",
              "     degree_t_Sci&Tech  \n",
              "198                0.0  \n",
              "82                 0.0  \n",
              "65                 0.0  \n",
              "109                1.0  \n",
              "182                0.0  "
            ],
            "text/html": [
              "\n",
              "  <div id=\"df-a927cf7c-1df2-4d4a-ba12-0a159fccb6d7\" class=\"colab-df-container\">\n",
              "    <div>\n",
              "<style scoped>\n",
              "    .dataframe tbody tr th:only-of-type {\n",
              "        vertical-align: middle;\n",
              "    }\n",
              "\n",
              "    .dataframe tbody tr th {\n",
              "        vertical-align: top;\n",
              "    }\n",
              "\n",
              "    .dataframe thead th {\n",
              "        text-align: right;\n",
              "    }\n",
              "</style>\n",
              "<table border=\"1\" class=\"dataframe\">\n",
              "  <thead>\n",
              "    <tr style=\"text-align: right;\">\n",
              "      <th></th>\n",
              "      <th>gender</th>\n",
              "      <th>ssc_p</th>\n",
              "      <th>ssc_b</th>\n",
              "      <th>hsc_p</th>\n",
              "      <th>hsc_b</th>\n",
              "      <th>hsc_s</th>\n",
              "      <th>degree_p</th>\n",
              "      <th>degree_t</th>\n",
              "      <th>workex</th>\n",
              "      <th>etest_p</th>\n",
              "      <th>specialisation</th>\n",
              "      <th>mba_p</th>\n",
              "      <th>salary</th>\n",
              "      <th>hsc_s_Arts</th>\n",
              "      <th>hsc_s_Commerce</th>\n",
              "      <th>hsc_s_Science</th>\n",
              "      <th>degree_t_Comm&amp;Mgmt</th>\n",
              "      <th>degree_t_Others</th>\n",
              "      <th>degree_t_Sci&amp;Tech</th>\n",
              "    </tr>\n",
              "  </thead>\n",
              "  <tbody>\n",
              "    <tr>\n",
              "      <th>198</th>\n",
              "      <td>1</td>\n",
              "      <td>67.0</td>\n",
              "      <td>0</td>\n",
              "      <td>70.0</td>\n",
              "      <td>0</td>\n",
              "      <td>Commerce</td>\n",
              "      <td>65.0</td>\n",
              "      <td>Others</td>\n",
              "      <td>0</td>\n",
              "      <td>88.00</td>\n",
              "      <td>1</td>\n",
              "      <td>71.96</td>\n",
              "      <td>300000.000000</td>\n",
              "      <td>0.0</td>\n",
              "      <td>1.0</td>\n",
              "      <td>0.0</td>\n",
              "      <td>0.0</td>\n",
              "      <td>1.0</td>\n",
              "      <td>0.0</td>\n",
              "    </tr>\n",
              "    <tr>\n",
              "      <th>82</th>\n",
              "      <td>0</td>\n",
              "      <td>63.0</td>\n",
              "      <td>0</td>\n",
              "      <td>67.0</td>\n",
              "      <td>0</td>\n",
              "      <td>Commerce</td>\n",
              "      <td>74.0</td>\n",
              "      <td>Comm&amp;Mgmt</td>\n",
              "      <td>0</td>\n",
              "      <td>82.00</td>\n",
              "      <td>0</td>\n",
              "      <td>60.44</td>\n",
              "      <td>284041.666667</td>\n",
              "      <td>0.0</td>\n",
              "      <td>1.0</td>\n",
              "      <td>0.0</td>\n",
              "      <td>1.0</td>\n",
              "      <td>0.0</td>\n",
              "      <td>0.0</td>\n",
              "    </tr>\n",
              "    <tr>\n",
              "      <th>65</th>\n",
              "      <td>0</td>\n",
              "      <td>54.0</td>\n",
              "      <td>1</td>\n",
              "      <td>47.0</td>\n",
              "      <td>1</td>\n",
              "      <td>Science</td>\n",
              "      <td>57.0</td>\n",
              "      <td>Comm&amp;Mgmt</td>\n",
              "      <td>0</td>\n",
              "      <td>89.69</td>\n",
              "      <td>1</td>\n",
              "      <td>57.10</td>\n",
              "      <td>284041.666667</td>\n",
              "      <td>0.0</td>\n",
              "      <td>0.0</td>\n",
              "      <td>1.0</td>\n",
              "      <td>1.0</td>\n",
              "      <td>0.0</td>\n",
              "      <td>0.0</td>\n",
              "    </tr>\n",
              "    <tr>\n",
              "      <th>109</th>\n",
              "      <td>0</td>\n",
              "      <td>52.0</td>\n",
              "      <td>0</td>\n",
              "      <td>63.0</td>\n",
              "      <td>1</td>\n",
              "      <td>Science</td>\n",
              "      <td>65.0</td>\n",
              "      <td>Sci&amp;Tech</td>\n",
              "      <td>1</td>\n",
              "      <td>86.00</td>\n",
              "      <td>1</td>\n",
              "      <td>56.09</td>\n",
              "      <td>305793.103448</td>\n",
              "      <td>0.0</td>\n",
              "      <td>0.0</td>\n",
              "      <td>1.0</td>\n",
              "      <td>0.0</td>\n",
              "      <td>0.0</td>\n",
              "      <td>1.0</td>\n",
              "    </tr>\n",
              "    <tr>\n",
              "      <th>182</th>\n",
              "      <td>0</td>\n",
              "      <td>52.0</td>\n",
              "      <td>1</td>\n",
              "      <td>65.0</td>\n",
              "      <td>1</td>\n",
              "      <td>Arts</td>\n",
              "      <td>57.0</td>\n",
              "      <td>Others</td>\n",
              "      <td>1</td>\n",
              "      <td>75.00</td>\n",
              "      <td>0</td>\n",
              "      <td>59.81</td>\n",
              "      <td>300000.000000</td>\n",
              "      <td>1.0</td>\n",
              "      <td>0.0</td>\n",
              "      <td>0.0</td>\n",
              "      <td>0.0</td>\n",
              "      <td>1.0</td>\n",
              "      <td>0.0</td>\n",
              "    </tr>\n",
              "  </tbody>\n",
              "</table>\n",
              "</div>\n",
              "    <div class=\"colab-df-buttons\">\n",
              "\n",
              "  <div class=\"colab-df-container\">\n",
              "    <button class=\"colab-df-convert\" onclick=\"convertToInteractive('df-a927cf7c-1df2-4d4a-ba12-0a159fccb6d7')\"\n",
              "            title=\"Convert this dataframe to an interactive table.\"\n",
              "            style=\"display:none;\">\n",
              "\n",
              "  <svg xmlns=\"http://www.w3.org/2000/svg\" height=\"24px\" viewBox=\"0 -960 960 960\">\n",
              "    <path d=\"M120-120v-720h720v720H120Zm60-500h600v-160H180v160Zm220 220h160v-160H400v160Zm0 220h160v-160H400v160ZM180-400h160v-160H180v160Zm440 0h160v-160H620v160ZM180-180h160v-160H180v160Zm440 0h160v-160H620v160Z\"/>\n",
              "  </svg>\n",
              "    </button>\n",
              "\n",
              "  <style>\n",
              "    .colab-df-container {\n",
              "      display:flex;\n",
              "      gap: 12px;\n",
              "    }\n",
              "\n",
              "    .colab-df-convert {\n",
              "      background-color: #E8F0FE;\n",
              "      border: none;\n",
              "      border-radius: 50%;\n",
              "      cursor: pointer;\n",
              "      display: none;\n",
              "      fill: #1967D2;\n",
              "      height: 32px;\n",
              "      padding: 0 0 0 0;\n",
              "      width: 32px;\n",
              "    }\n",
              "\n",
              "    .colab-df-convert:hover {\n",
              "      background-color: #E2EBFA;\n",
              "      box-shadow: 0px 1px 2px rgba(60, 64, 67, 0.3), 0px 1px 3px 1px rgba(60, 64, 67, 0.15);\n",
              "      fill: #174EA6;\n",
              "    }\n",
              "\n",
              "    .colab-df-buttons div {\n",
              "      margin-bottom: 4px;\n",
              "    }\n",
              "\n",
              "    [theme=dark] .colab-df-convert {\n",
              "      background-color: #3B4455;\n",
              "      fill: #D2E3FC;\n",
              "    }\n",
              "\n",
              "    [theme=dark] .colab-df-convert:hover {\n",
              "      background-color: #434B5C;\n",
              "      box-shadow: 0px 1px 3px 1px rgba(0, 0, 0, 0.15);\n",
              "      filter: drop-shadow(0px 1px 2px rgba(0, 0, 0, 0.3));\n",
              "      fill: #FFFFFF;\n",
              "    }\n",
              "  </style>\n",
              "\n",
              "    <script>\n",
              "      const buttonEl =\n",
              "        document.querySelector('#df-a927cf7c-1df2-4d4a-ba12-0a159fccb6d7 button.colab-df-convert');\n",
              "      buttonEl.style.display =\n",
              "        google.colab.kernel.accessAllowed ? 'block' : 'none';\n",
              "\n",
              "      async function convertToInteractive(key) {\n",
              "        const element = document.querySelector('#df-a927cf7c-1df2-4d4a-ba12-0a159fccb6d7');\n",
              "        const dataTable =\n",
              "          await google.colab.kernel.invokeFunction('convertToInteractive',\n",
              "                                                    [key], {});\n",
              "        if (!dataTable) return;\n",
              "\n",
              "        const docLinkHtml = 'Like what you see? Visit the ' +\n",
              "          '<a target=\"_blank\" href=https://colab.research.google.com/notebooks/data_table.ipynb>data table notebook</a>'\n",
              "          + ' to learn more about interactive tables.';\n",
              "        element.innerHTML = '';\n",
              "        dataTable['output_type'] = 'display_data';\n",
              "        await google.colab.output.renderOutput(dataTable, element);\n",
              "        const docLink = document.createElement('div');\n",
              "        docLink.innerHTML = docLinkHtml;\n",
              "        element.appendChild(docLink);\n",
              "      }\n",
              "    </script>\n",
              "  </div>\n",
              "\n",
              "\n",
              "<div id=\"df-bc15a518-755c-427c-af0a-6e3401ab270b\">\n",
              "  <button class=\"colab-df-quickchart\" onclick=\"quickchart('df-bc15a518-755c-427c-af0a-6e3401ab270b')\"\n",
              "            title=\"Suggest charts\"\n",
              "            style=\"display:none;\">\n",
              "\n",
              "<svg xmlns=\"http://www.w3.org/2000/svg\" height=\"24px\"viewBox=\"0 0 24 24\"\n",
              "     width=\"24px\">\n",
              "    <g>\n",
              "        <path d=\"M19 3H5c-1.1 0-2 .9-2 2v14c0 1.1.9 2 2 2h14c1.1 0 2-.9 2-2V5c0-1.1-.9-2-2-2zM9 17H7v-7h2v7zm4 0h-2V7h2v10zm4 0h-2v-4h2v4z\"/>\n",
              "    </g>\n",
              "</svg>\n",
              "  </button>\n",
              "\n",
              "<style>\n",
              "  .colab-df-quickchart {\n",
              "      --bg-color: #E8F0FE;\n",
              "      --fill-color: #1967D2;\n",
              "      --hover-bg-color: #E2EBFA;\n",
              "      --hover-fill-color: #174EA6;\n",
              "      --disabled-fill-color: #AAA;\n",
              "      --disabled-bg-color: #DDD;\n",
              "  }\n",
              "\n",
              "  [theme=dark] .colab-df-quickchart {\n",
              "      --bg-color: #3B4455;\n",
              "      --fill-color: #D2E3FC;\n",
              "      --hover-bg-color: #434B5C;\n",
              "      --hover-fill-color: #FFFFFF;\n",
              "      --disabled-bg-color: #3B4455;\n",
              "      --disabled-fill-color: #666;\n",
              "  }\n",
              "\n",
              "  .colab-df-quickchart {\n",
              "    background-color: var(--bg-color);\n",
              "    border: none;\n",
              "    border-radius: 50%;\n",
              "    cursor: pointer;\n",
              "    display: none;\n",
              "    fill: var(--fill-color);\n",
              "    height: 32px;\n",
              "    padding: 0;\n",
              "    width: 32px;\n",
              "  }\n",
              "\n",
              "  .colab-df-quickchart:hover {\n",
              "    background-color: var(--hover-bg-color);\n",
              "    box-shadow: 0 1px 2px rgba(60, 64, 67, 0.3), 0 1px 3px 1px rgba(60, 64, 67, 0.15);\n",
              "    fill: var(--button-hover-fill-color);\n",
              "  }\n",
              "\n",
              "  .colab-df-quickchart-complete:disabled,\n",
              "  .colab-df-quickchart-complete:disabled:hover {\n",
              "    background-color: var(--disabled-bg-color);\n",
              "    fill: var(--disabled-fill-color);\n",
              "    box-shadow: none;\n",
              "  }\n",
              "\n",
              "  .colab-df-spinner {\n",
              "    border: 2px solid var(--fill-color);\n",
              "    border-color: transparent;\n",
              "    border-bottom-color: var(--fill-color);\n",
              "    animation:\n",
              "      spin 1s steps(1) infinite;\n",
              "  }\n",
              "\n",
              "  @keyframes spin {\n",
              "    0% {\n",
              "      border-color: transparent;\n",
              "      border-bottom-color: var(--fill-color);\n",
              "      border-left-color: var(--fill-color);\n",
              "    }\n",
              "    20% {\n",
              "      border-color: transparent;\n",
              "      border-left-color: var(--fill-color);\n",
              "      border-top-color: var(--fill-color);\n",
              "    }\n",
              "    30% {\n",
              "      border-color: transparent;\n",
              "      border-left-color: var(--fill-color);\n",
              "      border-top-color: var(--fill-color);\n",
              "      border-right-color: var(--fill-color);\n",
              "    }\n",
              "    40% {\n",
              "      border-color: transparent;\n",
              "      border-right-color: var(--fill-color);\n",
              "      border-top-color: var(--fill-color);\n",
              "    }\n",
              "    60% {\n",
              "      border-color: transparent;\n",
              "      border-right-color: var(--fill-color);\n",
              "    }\n",
              "    80% {\n",
              "      border-color: transparent;\n",
              "      border-right-color: var(--fill-color);\n",
              "      border-bottom-color: var(--fill-color);\n",
              "    }\n",
              "    90% {\n",
              "      border-color: transparent;\n",
              "      border-bottom-color: var(--fill-color);\n",
              "    }\n",
              "  }\n",
              "</style>\n",
              "\n",
              "  <script>\n",
              "    async function quickchart(key) {\n",
              "      const quickchartButtonEl =\n",
              "        document.querySelector('#' + key + ' button');\n",
              "      quickchartButtonEl.disabled = true;  // To prevent multiple clicks.\n",
              "      quickchartButtonEl.classList.add('colab-df-spinner');\n",
              "      try {\n",
              "        const charts = await google.colab.kernel.invokeFunction(\n",
              "            'suggestCharts', [key], {});\n",
              "      } catch (error) {\n",
              "        console.error('Error during call to suggestCharts:', error);\n",
              "      }\n",
              "      quickchartButtonEl.classList.remove('colab-df-spinner');\n",
              "      quickchartButtonEl.classList.add('colab-df-quickchart-complete');\n",
              "    }\n",
              "    (() => {\n",
              "      let quickchartButtonEl =\n",
              "        document.querySelector('#df-bc15a518-755c-427c-af0a-6e3401ab270b button');\n",
              "      quickchartButtonEl.style.display =\n",
              "        google.colab.kernel.accessAllowed ? 'block' : 'none';\n",
              "    })();\n",
              "  </script>\n",
              "</div>\n",
              "\n",
              "    </div>\n",
              "  </div>\n"
            ],
            "application/vnd.google.colaboratory.intrinsic+json": {
              "type": "dataframe",
              "variable_name": "X_train",
              "summary": "{\n  \"name\": \"X_train\",\n  \"rows\": 150,\n  \"fields\": [\n    {\n      \"column\": \"gender\",\n      \"properties\": {\n        \"dtype\": \"number\",\n        \"std\": 0,\n        \"min\": 0,\n        \"max\": 1,\n        \"num_unique_values\": 2,\n        \"samples\": [\n          0,\n          1\n        ],\n        \"semantic_type\": \"\",\n        \"description\": \"\"\n      }\n    },\n    {\n      \"column\": \"ssc_p\",\n      \"properties\": {\n        \"dtype\": \"number\",\n        \"std\": 11.057661909049967,\n        \"min\": 40.89,\n        \"max\": 87.0,\n        \"num_unique_values\": 85,\n        \"samples\": [\n          59.6,\n          67.0\n        ],\n        \"semantic_type\": \"\",\n        \"description\": \"\"\n      }\n    },\n    {\n      \"column\": \"ssc_b\",\n      \"properties\": {\n        \"dtype\": \"number\",\n        \"std\": 0,\n        \"min\": 0,\n        \"max\": 1,\n        \"num_unique_values\": 2,\n        \"samples\": [\n          1,\n          0\n        ],\n        \"semantic_type\": \"\",\n        \"description\": \"\"\n      }\n    },\n    {\n      \"column\": \"hsc_p\",\n      \"properties\": {\n        \"dtype\": \"number\",\n        \"std\": 11.255943321957252,\n        \"min\": 37.0,\n        \"max\": 97.0,\n        \"num_unique_values\": 80,\n        \"samples\": [\n          66.8,\n          70.0\n        ],\n        \"semantic_type\": \"\",\n        \"description\": \"\"\n      }\n    },\n    {\n      \"column\": \"hsc_b\",\n      \"properties\": {\n        \"dtype\": \"number\",\n        \"std\": 0,\n        \"min\": 0,\n        \"max\": 1,\n        \"num_unique_values\": 2,\n        \"samples\": [\n          1,\n          0\n        ],\n        \"semantic_type\": \"\",\n        \"description\": \"\"\n      }\n    },\n    {\n      \"column\": \"hsc_s\",\n      \"properties\": {\n        \"dtype\": \"category\",\n        \"num_unique_values\": 3,\n        \"samples\": [\n          \"Commerce\",\n          \"Science\"\n        ],\n        \"semantic_type\": \"\",\n        \"description\": \"\"\n      }\n    },\n    {\n      \"column\": \"degree_p\",\n      \"properties\": {\n        \"dtype\": \"number\",\n        \"std\": 7.53327554451118,\n        \"min\": 50.0,\n        \"max\": 91.0,\n        \"num_unique_values\": 73,\n        \"samples\": [\n          67.5,\n          53.0\n        ],\n        \"semantic_type\": \"\",\n        \"description\": \"\"\n      }\n    },\n    {\n      \"column\": \"degree_t\",\n      \"properties\": {\n        \"dtype\": \"category\",\n        \"num_unique_values\": 3,\n        \"samples\": [\n          \"Others\",\n          \"Comm&Mgmt\"\n        ],\n        \"semantic_type\": \"\",\n        \"description\": \"\"\n      }\n    },\n    {\n      \"column\": \"workex\",\n      \"properties\": {\n        \"dtype\": \"number\",\n        \"std\": 0,\n        \"min\": 0,\n        \"max\": 1,\n        \"num_unique_values\": 2,\n        \"samples\": [\n          1,\n          0\n        ],\n        \"semantic_type\": \"\",\n        \"description\": \"\"\n      }\n    },\n    {\n      \"column\": \"etest_p\",\n      \"properties\": {\n        \"dtype\": \"number\",\n        \"std\": 13.114065922858664,\n        \"min\": 50.0,\n        \"max\": 97.0,\n        \"num_unique_values\": 81,\n        \"samples\": [\n          82.66,\n          88.0\n        ],\n        \"semantic_type\": \"\",\n        \"description\": \"\"\n      }\n    },\n    {\n      \"column\": \"specialisation\",\n      \"properties\": {\n        \"dtype\": \"number\",\n        \"std\": 0,\n        \"min\": 0,\n        \"max\": 1,\n        \"num_unique_values\": 2,\n        \"samples\": [\n          0,\n          1\n        ],\n        \"semantic_type\": \"\",\n        \"description\": \"\"\n      }\n    },\n    {\n      \"column\": \"mba_p\",\n      \"properties\": {\n        \"dtype\": \"number\",\n        \"std\": 5.686735569396701,\n        \"min\": 51.21,\n        \"max\": 76.18,\n        \"num_unique_values\": 146,\n        \"samples\": [\n          53.39,\n          61.29\n        ],\n        \"semantic_type\": \"\",\n        \"description\": \"\"\n      }\n    },\n    {\n      \"column\": \"salary\",\n      \"properties\": {\n        \"dtype\": \"number\",\n        \"std\": 81167.00414191216,\n        \"min\": 200000.0,\n        \"max\": 940000.0,\n        \"num_unique_values\": 37,\n        \"samples\": [\n          940000.0,\n          216000.0\n        ],\n        \"semantic_type\": \"\",\n        \"description\": \"\"\n      }\n    },\n    {\n      \"column\": \"hsc_s_Arts\",\n      \"properties\": {\n        \"dtype\": \"number\",\n        \"std\": 0.23828244477915847,\n        \"min\": 0.0,\n        \"max\": 1.0,\n        \"num_unique_values\": 2,\n        \"samples\": [\n          1.0,\n          0.0\n        ],\n        \"semantic_type\": \"\",\n        \"description\": \"\"\n      }\n    },\n    {\n      \"column\": \"hsc_s_Commerce\",\n      \"properties\": {\n        \"dtype\": \"number\",\n        \"std\": 0.5009610450724589,\n        \"min\": 0.0,\n        \"max\": 1.0,\n        \"num_unique_values\": 2,\n        \"samples\": [\n          0.0,\n          1.0\n        ],\n        \"semantic_type\": \"\",\n        \"description\": \"\"\n      }\n    },\n    {\n      \"column\": \"hsc_s_Science\",\n      \"properties\": {\n        \"dtype\": \"number\",\n        \"std\": 0.4940813000875429,\n        \"min\": 0.0,\n        \"max\": 1.0,\n        \"num_unique_values\": 2,\n        \"samples\": [\n          1.0,\n          0.0\n        ],\n        \"semantic_type\": \"\",\n        \"description\": \"\"\n      }\n    },\n    {\n      \"column\": \"degree_t_Comm&Mgmt\",\n      \"properties\": {\n        \"dtype\": \"number\",\n        \"std\": 0.47056536988797554,\n        \"min\": 0.0,\n        \"max\": 1.0,\n        \"num_unique_values\": 2,\n        \"samples\": [\n          1.0,\n          0.0\n        ],\n        \"semantic_type\": \"\",\n        \"description\": \"\"\n      }\n    },\n    {\n      \"column\": \"degree_t_Others\",\n      \"properties\": {\n        \"dtype\": \"number\",\n        \"std\": 0.2382824447791587,\n        \"min\": 0.0,\n        \"max\": 1.0,\n        \"num_unique_values\": 2,\n        \"samples\": [\n          0.0,\n          1.0\n        ],\n        \"semantic_type\": \"\",\n        \"description\": \"\"\n      }\n    },\n    {\n      \"column\": \"degree_t_Sci&Tech\",\n      \"properties\": {\n        \"dtype\": \"number\",\n        \"std\": 0.443698105640024,\n        \"min\": 0.0,\n        \"max\": 1.0,\n        \"num_unique_values\": 2,\n        \"samples\": [\n          1.0,\n          0.0\n        ],\n        \"semantic_type\": \"\",\n        \"description\": \"\"\n      }\n    }\n  ]\n}"
            }
          },
          "metadata": {},
          "execution_count": 27
        }
      ]
    },
    {
      "cell_type": "code",
      "source": [
        "X_train.drop(columns=columns_to_encode, inplace=True)\n",
        "X_test.drop(columns=columns_to_encode, inplace=True)"
      ],
      "metadata": {
        "id": "VmxX8jqozCk8"
      },
      "execution_count": 28,
      "outputs": []
    },
    {
      "cell_type": "markdown",
      "source": [
        "Implementing SMOTE (Synthetic Minority Over-sampling Technique) solely in the training dataset without missing values is essential for effectively addressing class imbalance while maintaining data integrity. By generating synthetic samples for the minority class in the training data, SMOTE helps balance class distribution, which enhances the model's ability to learn from underrepresented classes. Importantly, applying SMOTE only to the training set prevents data leakage, ensuring that the test dataset remains untouched and unbiased, allowing for a more accurate evaluation of the model's performance on unseen data. Additionally, working with a complete dataset free of missing values during this process ensures the reliability of the synthetic samples generated. Overall, this approach leads to a robust and valid model evaluation while addressing the challenges of class imbalance."
      ],
      "metadata": {
        "id": "LfXgIBXawQEm"
      }
    },
    {
      "cell_type": "code",
      "source": [
        "# Import the SMOTE (Synthetic Minority Over-sampling Technique) from imbalanced-learn library\n",
        "from imblearn.over_sampling import SMOTE\n",
        "\n",
        "# Initialize SMOTE with a fixed random state for reproducibility of results\n",
        "smote = SMOTE(random_state=42)\n",
        "\n",
        "# Apply SMOTE to the training dataset (X_train, y_train)\n",
        "# This generates synthetic samples for the minority class to balance the class distribution\n",
        "X_train_resampled, y_train_resampled = smote.fit_resample(X_train, y_train)\n",
        "\n",
        "# X_train_resampled now contains the balanced feature set, and y_train_resampled contains the corresponding balanced target labels"
      ],
      "metadata": {
        "id": "yl7Hzp2fwQ2P"
      },
      "execution_count": 29,
      "outputs": []
    },
    {
      "cell_type": "code",
      "source": [
        "\n",
        "# Import the StandardScaler from scikit-learn\n",
        "from sklearn.preprocessing import StandardScaler\n",
        "\n",
        "# Initialize the StandardScaler to scale the features\n",
        "std_sc = StandardScaler()\n",
        "\n",
        "# Fit the StandardScaler to the resampled training data (X_train_resampled) and transform it\n",
        "# This scales the data so that each feature has zero mean and unit variance\n",
        "X_train_std_sc = std_sc.fit_transform(X_train_resampled)\n",
        "\n",
        "# Apply the same scaling to the test data (X_test)\n",
        "# Note that we only use the 'transform' method here to ensure that the test data is scaled\n",
        "# based on the statistics (mean and standard deviation) of the training data\n",
        "X_test_std_sc = std_sc.transform(X_test)"
      ],
      "metadata": {
        "id": "pFD6HmxFxWP-"
      },
      "execution_count": 30,
      "outputs": []
    },
    {
      "cell_type": "code",
      "source": [
        "\n",
        "y_train_resampled.value_counts()"
      ],
      "metadata": {
        "colab": {
          "base_uri": "https://localhost:8080/",
          "height": 178
        },
        "id": "V9ALjCfU1zO5",
        "outputId": "df44b6d3-e471-4e38-f7a7-a3e66781b237"
      },
      "execution_count": 31,
      "outputs": [
        {
          "output_type": "execute_result",
          "data": {
            "text/plain": [
              "status\n",
              "0    104\n",
              "1    104\n",
              "Name: count, dtype: int64"
            ],
            "text/html": [
              "<div>\n",
              "<style scoped>\n",
              "    .dataframe tbody tr th:only-of-type {\n",
              "        vertical-align: middle;\n",
              "    }\n",
              "\n",
              "    .dataframe tbody tr th {\n",
              "        vertical-align: top;\n",
              "    }\n",
              "\n",
              "    .dataframe thead th {\n",
              "        text-align: right;\n",
              "    }\n",
              "</style>\n",
              "<table border=\"1\" class=\"dataframe\">\n",
              "  <thead>\n",
              "    <tr style=\"text-align: right;\">\n",
              "      <th></th>\n",
              "      <th>count</th>\n",
              "    </tr>\n",
              "    <tr>\n",
              "      <th>status</th>\n",
              "      <th></th>\n",
              "    </tr>\n",
              "  </thead>\n",
              "  <tbody>\n",
              "    <tr>\n",
              "      <th>0</th>\n",
              "      <td>104</td>\n",
              "    </tr>\n",
              "    <tr>\n",
              "      <th>1</th>\n",
              "      <td>104</td>\n",
              "    </tr>\n",
              "  </tbody>\n",
              "</table>\n",
              "</div><br><label><b>dtype:</b> int64</label>"
            ]
          },
          "metadata": {},
          "execution_count": 31
        }
      ]
    },
    {
      "cell_type": "code",
      "source": [
        "# Plot distribution of target variable after SMOTE\n",
        "plt.figure(figsize=(8, 5))\n",
        "sns.countplot(x=y_train_resampled, hue=y_train_resampled, palette='Set2', edgecolor='black', dodge=False, legend=False)\n",
        "plt.title(\"Distribution of Target Variable After SMOTE\", fontsize=16)\n",
        "plt.xlabel(\"Placement Status\", fontsize=14)\n",
        "plt.ylabel(\"Count\", fontsize=14)\n",
        "plt.xticks(fontsize=12)\n",
        "plt.yticks(fontsize=12)\n",
        "plt.grid(axis='y', linestyle='--', alpha=0.7)\n",
        "plt.show()"
      ],
      "metadata": {
        "colab": {
          "base_uri": "https://localhost:8080/",
          "height": 498
        },
        "id": "3ySygSUoz99O",
        "outputId": "97635b62-fd6b-4406-ed14-1a25bce4e946"
      },
      "execution_count": 32,
      "outputs": [
        {
          "output_type": "display_data",
          "data": {
            "text/plain": [
              "<Figure size 800x500 with 1 Axes>"
            ],
            "image/png": "[encoded data removed]"
          },
          "metadata": {}
        }
      ]
    },
    {
      "cell_type": "markdown",
      "source": [
        "# **Model Selection**"
      ],
      "metadata": {
        "id": "WKyx6s1y3f3k"
      }
    },
    {
      "cell_type": "markdown",
      "source": [
        "For a binary classification task, especially with imbalanced data, the best three models to test would be:"
      ],
      "metadata": {
        "id": "RQVWvoC93q06"
      }
    },
    {
      "cell_type": "markdown",
      "source": [
        "**1. Random Forest Classifier:**"
      ],
      "metadata": {
        "id": "8sN-MWDb5D1W"
      }
    },
    {
      "cell_type": "code",
      "source": [
        "# Define the parameter grid for Random Forest hyperparameter tuning\n",
        "rf_param_grid = {\n",
        "    'n_estimators': [100, 200, 500],        # Number of trees in the forest\n",
        "    'max_depth': [None, 10, 20],             # Maximum depth of each tree\n",
        "    'max_features': ['sqrt', 'log2', None]   # Number of features to consider at each split\n",
        "}\n",
        "\n",
        "# Perform GridSearchCV to find the best Random Forest model\n",
        "rf_gs = GridSearchCV(RandomForestClassifier(random_state=42), rf_param_grid, cv=5, scoring='f1')\n",
        "rf_gs.fit(X_train_std_sc, y_train_resampled)\n",
        "\n",
        ""
      ],
      "metadata": {
        "colab": {
          "base_uri": "https://localhost:8080/",
          "height": 135
        },
        "id": "ALbfb2TI5IgH",
        "outputId": "f61c57f7-af23-4282-c38a-1ccc69a8f4fb"
      },
      "execution_count": 33,
      "outputs": [
        {
          "output_type": "execute_result",
          "data": {
            "text/plain": [
              "GridSearchCV(cv=5, estimator=RandomForestClassifier(random_state=42),\n",
              "             param_grid={'max_depth': [None, 10, 20],\n",
              "                         'max_features': ['sqrt', 'log2', None],\n",
              "                         'n_estimators': [100, 200, 500]},\n",
              "             scoring='f1')"
            ],
            "text/html": [
              "<style>#sk-container-id-1 {\n",
              "  /* Definition of color scheme common for light and dark mode */\n",
              "  --sklearn-color-text: black;\n",
              "  --sklearn-color-line: gray;\n",
              "  /* Definition of color scheme for unfitted estimators */\n",
              "  --sklearn-color-unfitted-level-0: #fff5e6;\n",
              "  --sklearn-color-unfitted-level-1: #f6e4d2;\n",
              "  --sklearn-color-unfitted-level-2: #ffe0b3;\n",
              "  --sklearn-color-unfitted-level-3: chocolate;\n",
              "  /* Definition of color scheme for fitted estimators */\n",
              "  --sklearn-color-fitted-level-0: #f0f8ff;\n",
              "  --sklearn-color-fitted-level-1: #d4ebff;\n",
              "  --sklearn-color-fitted-level-2: #b3dbfd;\n",
              "  --sklearn-color-fitted-level-3: cornflowerblue;\n",
              "\n",
              "  /* Specific color for light theme */\n",
              "  --sklearn-color-text-on-default-background: var(--sg-text-color, var(--theme-code-foreground, var(--jp-content-font-color1, black)));\n",
              "  --sklearn-color-background: var(--sg-background-color, var(--theme-background, var(--jp-layout-color0, white)));\n",
              "  --sklearn-color-border-box: var(--sg-text-color, var(--theme-code-foreground, var(--jp-content-font-color1, black)));\n",
              "  --sklearn-color-icon: #696969;\n",
              "\n",
              "  @media (prefers-color-scheme: dark) {\n",
              "    /* Redefinition of color scheme for dark theme */\n",
              "    --sklearn-color-text-on-default-background: var(--sg-text-color, var(--theme-code-foreground, var(--jp-content-font-color1, white)));\n",
              "    --sklearn-color-background: var(--sg-background-color, var(--theme-background, var(--jp-layout-color0, #111)));\n",
              "    --sklearn-color-border-box: var(--sg-text-color, var(--theme-code-foreground, var(--jp-content-font-color1, white)));\n",
              "    --sklearn-color-icon: #878787;\n",
              "  }\n",
              "}\n",
              "\n",
              "#sk-container-id-1 {\n",
              "  color: var(--sklearn-color-text);\n",
              "}\n",
              "\n",
              "#sk-container-id-1 pre {\n",
              "  padding: 0;\n",
              "}\n",
              "\n",
              "#sk-container-id-1 input.sk-hidden--visually {\n",
              "  border: 0;\n",
              "  clip: rect(1px 1px 1px 1px);\n",
              "  clip: rect(1px, 1px, 1px, 1px);\n",
              "  height: 1px;\n",
              "  margin: -1px;\n",
              "  overflow: hidden;\n",
              "  padding: 0;\n",
              "  position: absolute;\n",
              "  width: 1px;\n",
              "}\n",
              "\n",
              "#sk-container-id-1 div.sk-dashed-wrapped {\n",
              "  border: 1px dashed var(--sklearn-color-line);\n",
              "  margin: 0 0.4em 0.5em 0.4em;\n",
              "  box-sizing: border-box;\n",
              "  padding-bottom: 0.4em;\n",
              "  background-color: var(--sklearn-color-background);\n",
              "}\n",
              "\n",
              "#sk-container-id-1 div.sk-container {\n",
              "  /* jupyter's `normalize.less` sets `[hidden] { display: none; }`\n",
              "     but bootstrap.min.css set `[hidden] { display: none !important; }`\n",
              "     so we also need the `!important` here to be able to override the\n",
              "     default hidden behavior on the sphinx rendered scikit-learn.org.\n",
              "     See: https://github.com/scikit-learn/scikit-learn/issues/21755 */\n",
              "  display: inline-block !important;\n",
              "  position: relative;\n",
              "}\n",
              "\n",
              "#sk-container-id-1 div.sk-text-repr-fallback {\n",
              "  display: none;\n",
              "}\n",
              "\n",
              "div.sk-parallel-item,\n",
              "div.sk-serial,\n",
              "div.sk-item {\n",
              "  /* draw centered vertical line to link estimators */\n",
              "  background-image: linear-gradient(var(--sklearn-color-text-on-default-background), var(--sklearn-color-text-on-default-background));\n",
              "  background-size: 2px 100%;\n",
              "  background-repeat: no-repeat;\n",
              "  background-position: center center;\n",
              "}\n",
              "\n",
              "/* Parallel-specific style estimator block */\n",
              "\n",
              "#sk-container-id-1 div.sk-parallel-item::after {\n",
              "  content: \"\";\n",
              "  width: 100%;\n",
              "  border-bottom: 2px solid var(--sklearn-color-text-on-default-background);\n",
              "  flex-grow: 1;\n",
              "}\n",
              "\n",
              "#sk-container-id-1 div.sk-parallel {\n",
              "  display: flex;\n",
              "  align-items: stretch;\n",
              "  justify-content: center;\n",
              "  background-color: var(--sklearn-color-background);\n",
              "  position: relative;\n",
              "}\n",
              "\n",
              "#sk-container-id-1 div.sk-parallel-item {\n",
              "  display: flex;\n",
              "  flex-direction: column;\n",
              "}\n",
              "\n",
              "#sk-container-id-1 div.sk-parallel-item:first-child::after {\n",
              "  align-self: flex-end;\n",
              "  width: 50%;\n",
              "}\n",
              "\n",
              "#sk-container-id-1 div.sk-parallel-item:last-child::after {\n",
              "  align-self: flex-start;\n",
              "  width: 50%;\n",
              "}\n",
              "\n",
              "#sk-container-id-1 div.sk-parallel-item:only-child::after {\n",
              "  width: 0;\n",
              "}\n",
              "\n",
              "/* Serial-specific style estimator block */\n",
              "\n",
              "#sk-container-id-1 div.sk-serial {\n",
              "  display: flex;\n",
              "  flex-direction: column;\n",
              "  align-items: center;\n",
              "  background-color: var(--sklearn-color-background);\n",
              "  padding-right: 1em;\n",
              "  padding-left: 1em;\n",
              "}\n",
              "\n",
              "\n",
              "/* Toggleable style: style used for estimator/Pipeline/ColumnTransformer box that is\n",
              "clickable and can be expanded/collapsed.\n",
              "- Pipeline and ColumnTransformer use this feature and define the default style\n",
              "- Estimators will overwrite some part of the style using the `sk-estimator` class\n",
              "*/\n",
              "\n",
              "/* Pipeline and ColumnTransformer style (default) */\n",
              "\n",
              "#sk-container-id-1 div.sk-toggleable {\n",
              "  /* Default theme specific background. It is overwritten whether we have a\n",
              "  specific estimator or a Pipeline/ColumnTransformer */\n",
              "  background-color: var(--sklearn-color-background);\n",
              "}\n",
              "\n",
              "/* Toggleable label */\n",
              "#sk-container-id-1 label.sk-toggleable__label {\n",
              "  cursor: pointer;\n",
              "  display: block;\n",
              "  width: 100%;\n",
              "  margin-bottom: 0;\n",
              "  padding: 0.5em;\n",
              "  box-sizing: border-box;\n",
              "  text-align: center;\n",
              "}\n",
              "\n",
              "#sk-container-id-1 label.sk-toggleable__label-arrow:before {\n",
              "  /* Arrow on the left of the label */\n",
              "  content: \"▸\";\n",
              "  float: left;\n",
              "  margin-right: 0.25em;\n",
              "  color: var(--sklearn-color-icon);\n",
              "}\n",
              "\n",
              "#sk-container-id-1 label.sk-toggleable__label-arrow:hover:before {\n",
              "  color: var(--sklearn-color-text);\n",
              "}\n",
              "\n",
              "/* Toggleable content - dropdown */\n",
              "\n",
              "#sk-container-id-1 div.sk-toggleable__content {\n",
              "  max-height: 0;\n",
              "  max-width: 0;\n",
              "  overflow: hidden;\n",
              "  text-align: left;\n",
              "  /* unfitted */\n",
              "  background-color: var(--sklearn-color-unfitted-level-0);\n",
              "}\n",
              "\n",
              "#sk-container-id-1 div.sk-toggleable__content.fitted {\n",
              "  /* fitted */\n",
              "  background-color: var(--sklearn-color-fitted-level-0);\n",
              "}\n",
              "\n",
              "#sk-container-id-1 div.sk-toggleable__content pre {\n",
              "  margin: 0.2em;\n",
              "  border-radius: 0.25em;\n",
              "  color: var(--sklearn-color-text);\n",
              "  /* unfitted */\n",
              "  background-color: var(--sklearn-color-unfitted-level-0);\n",
              "}\n",
              "\n",
              "#sk-container-id-1 div.sk-toggleable__content.fitted pre {\n",
              "  /* unfitted */\n",
              "  background-color: var(--sklearn-color-fitted-level-0);\n",
              "}\n",
              "\n",
              "#sk-container-id-1 input.sk-toggleable__control:checked~div.sk-toggleable__content {\n",
              "  /* Expand drop-down */\n",
              "  max-height: 200px;\n",
              "  max-width: 100%;\n",
              "  overflow: auto;\n",
              "}\n",
              "\n",
              "#sk-container-id-1 input.sk-toggleable__control:checked~label.sk-toggleable__label-arrow:before {\n",
              "  content: \"▾\";\n",
              "}\n",
              "\n",
              "/* Pipeline/ColumnTransformer-specific style */\n",
              "\n",
              "#sk-container-id-1 div.sk-label input.sk-toggleable__control:checked~label.sk-toggleable__label {\n",
              "  color: var(--sklearn-color-text);\n",
              "  background-color: var(--sklearn-color-unfitted-level-2);\n",
              "}\n",
              "\n",
              "#sk-container-id-1 div.sk-label.fitted input.sk-toggleable__control:checked~label.sk-toggleable__label {\n",
              "  background-color: var(--sklearn-color-fitted-level-2);\n",
              "}\n",
              "\n",
              "/* Estimator-specific style */\n",
              "\n",
              "/* Colorize estimator box */\n",
              "#sk-container-id-1 div.sk-estimator input.sk-toggleable__control:checked~label.sk-toggleable__label {\n",
              "  /* unfitted */\n",
              "  background-color: var(--sklearn-color-unfitted-level-2);\n",
              "}\n",
              "\n",
              "#sk-container-id-1 div.sk-estimator.fitted input.sk-toggleable__control:checked~label.sk-toggleable__label {\n",
              "  /* fitted */\n",
              "  background-color: var(--sklearn-color-fitted-level-2);\n",
              "}\n",
              "\n",
              "#sk-container-id-1 div.sk-label label.sk-toggleable__label,\n",
              "#sk-container-id-1 div.sk-label label {\n",
              "  /* The background is the default theme color */\n",
              "  color: var(--sklearn-color-text-on-default-background);\n",
              "}\n",
              "\n",
              "/* On hover, darken the color of the background */\n",
              "#sk-container-id-1 div.sk-label:hover label.sk-toggleable__label {\n",
              "  color: var(--sklearn-color-text);\n",
              "  background-color: var(--sklearn-color-unfitted-level-2);\n",
              "}\n",
              "\n",
              "/* Label box, darken color on hover, fitted */\n",
              "#sk-container-id-1 div.sk-label.fitted:hover label.sk-toggleable__label.fitted {\n",
              "  color: var(--sklearn-color-text);\n",
              "  background-color: var(--sklearn-color-fitted-level-2);\n",
              "}\n",
              "\n",
              "/* Estimator label */\n",
              "\n",
              "#sk-container-id-1 div.sk-label label {\n",
              "  font-family: monospace;\n",
              "  font-weight: bold;\n",
              "  display: inline-block;\n",
              "  line-height: 1.2em;\n",
              "}\n",
              "\n",
              "#sk-container-id-1 div.sk-label-container {\n",
              "  text-align: center;\n",
              "}\n",
              "\n",
              "/* Estimator-specific */\n",
              "#sk-container-id-1 div.sk-estimator {\n",
              "  font-family: monospace;\n",
              "  border: 1px dotted var(--sklearn-color-border-box);\n",
              "  border-radius: 0.25em;\n",
              "  box-sizing: border-box;\n",
              "  margin-bottom: 0.5em;\n",
              "  /* unfitted */\n",
              "  background-color: var(--sklearn-color-unfitted-level-0);\n",
              "}\n",
              "\n",
              "#sk-container-id-1 div.sk-estimator.fitted {\n",
              "  /* fitted */\n",
              "  background-color: var(--sklearn-color-fitted-level-0);\n",
              "}\n",
              "\n",
              "/* on hover */\n",
              "#sk-container-id-1 div.sk-estimator:hover {\n",
              "  /* unfitted */\n",
              "  background-color: var(--sklearn-color-unfitted-level-2);\n",
              "}\n",
              "\n",
              "#sk-container-id-1 div.sk-estimator.fitted:hover {\n",
              "  /* fitted */\n",
              "  background-color: var(--sklearn-color-fitted-level-2);\n",
              "}\n",
              "\n",
              "/* Specification for estimator info (e.g. \"i\" and \"?\") */\n",
              "\n",
              "/* Common style for \"i\" and \"?\" */\n",
              "\n",
              ".sk-estimator-doc-link,\n",
              "a:link.sk-estimator-doc-link,\n",
              "a:visited.sk-estimator-doc-link {\n",
              "  float: right;\n",
              "  font-size: smaller;\n",
              "  line-height: 1em;\n",
              "  font-family: monospace;\n",
              "  background-color: var(--sklearn-color-background);\n",
              "  border-radius: 1em;\n",
              "  height: 1em;\n",
              "  width: 1em;\n",
              "  text-decoration: none !important;\n",
              "  margin-left: 1ex;\n",
              "  /* unfitted */\n",
              "  border: var(--sklearn-color-unfitted-level-1) 1pt solid;\n",
              "  color: var(--sklearn-color-unfitted-level-1);\n",
              "}\n",
              "\n",
              ".sk-estimator-doc-link.fitted,\n",
              "a:link.sk-estimator-doc-link.fitted,\n",
              "a:visited.sk-estimator-doc-link.fitted {\n",
              "  /* fitted */\n",
              "  border: var(--sklearn-color-fitted-level-1) 1pt solid;\n",
              "  color: var(--sklearn-color-fitted-level-1);\n",
              "}\n",
              "\n",
              "/* On hover */\n",
              "div.sk-estimator:hover .sk-estimator-doc-link:hover,\n",
              ".sk-estimator-doc-link:hover,\n",
              "div.sk-label-container:hover .sk-estimator-doc-link:hover,\n",
              ".sk-estimator-doc-link:hover {\n",
              "  /* unfitted */\n",
              "  background-color: var(--sklearn-color-unfitted-level-3);\n",
              "  color: var(--sklearn-color-background);\n",
              "  text-decoration: none;\n",
              "}\n",
              "\n",
              "div.sk-estimator.fitted:hover .sk-estimator-doc-link.fitted:hover,\n",
              ".sk-estimator-doc-link.fitted:hover,\n",
              "div.sk-label-container:hover .sk-estimator-doc-link.fitted:hover,\n",
              ".sk-estimator-doc-link.fitted:hover {\n",
              "  /* fitted */\n",
              "  background-color: var(--sklearn-color-fitted-level-3);\n",
              "  color: var(--sklearn-color-background);\n",
              "  text-decoration: none;\n",
              "}\n",
              "\n",
              "/* Span, style for the box shown on hovering the info icon */\n",
              ".sk-estimator-doc-link span {\n",
              "  display: none;\n",
              "  z-index: 9999;\n",
              "  position: relative;\n",
              "  font-weight: normal;\n",
              "  right: .2ex;\n",
              "  padding: .5ex;\n",
              "  margin: .5ex;\n",
              "  width: min-content;\n",
              "  min-width: 20ex;\n",
              "  max-width: 50ex;\n",
              "  color: var(--sklearn-color-text);\n",
              "  box-shadow: 2pt 2pt 4pt #999;\n",
              "  /* unfitted */\n",
              "  background: var(--sklearn-color-unfitted-level-0);\n",
              "  border: .5pt solid var(--sklearn-color-unfitted-level-3);\n",
              "}\n",
              "\n",
              ".sk-estimator-doc-link.fitted span {\n",
              "  /* fitted */\n",
              "  background: var(--sklearn-color-fitted-level-0);\n",
              "  border: var(--sklearn-color-fitted-level-3);\n",
              "}\n",
              "\n",
              ".sk-estimator-doc-link:hover span {\n",
              "  display: block;\n",
              "}\n",
              "\n",
              "/* \"?\"-specific style due to the `<a>` HTML tag */\n",
              "\n",
              "#sk-container-id-1 a.estimator_doc_link {\n",
              "  float: right;\n",
              "  font-size: 1rem;\n",
              "  line-height: 1em;\n",
              "  font-family: monospace;\n",
              "  background-color: var(--sklearn-color-background);\n",
              "  border-radius: 1rem;\n",
              "  height: 1rem;\n",
              "  width: 1rem;\n",
              "  text-decoration: none;\n",
              "  /* unfitted */\n",
              "  color: var(--sklearn-color-unfitted-level-1);\n",
              "  border: var(--sklearn-color-unfitted-level-1) 1pt solid;\n",
              "}\n",
              "\n",
              "#sk-container-id-1 a.estimator_doc_link.fitted {\n",
              "  /* fitted */\n",
              "  border: var(--sklearn-color-fitted-level-1) 1pt solid;\n",
              "  color: var(--sklearn-color-fitted-level-1);\n",
              "}\n",
              "\n",
              "/* On hover */\n",
              "#sk-container-id-1 a.estimator_doc_link:hover {\n",
              "  /* unfitted */\n",
              "  background-color: var(--sklearn-color-unfitted-level-3);\n",
              "  color: var(--sklearn-color-background);\n",
              "  text-decoration: none;\n",
              "}\n",
              "\n",
              "#sk-container-id-1 a.estimator_doc_link.fitted:hover {\n",
              "  /* fitted */\n",
              "  background-color: var(--sklearn-color-fitted-level-3);\n",
              "}\n",
              "</style><div id=\"sk-container-id-1\" class=\"sk-top-container\"><div class=\"sk-text-repr-fallback\"><pre>GridSearchCV(cv=5, estimator=RandomForestClassifier(random_state=42),\n",
              "             param_grid={&#x27;max_depth&#x27;: [None, 10, 20],\n",
              "                         &#x27;max_features&#x27;: [&#x27;sqrt&#x27;, &#x27;log2&#x27;, None],\n",
              "                         &#x27;n_estimators&#x27;: [100, 200, 500]},\n",
              "             scoring=&#x27;f1&#x27;)</pre><b>In a Jupyter environment, please rerun this cell to show the HTML representation or trust the notebook. <br />On GitHub, the HTML representation is unable to render, please try loading this page with nbviewer.org.</b></div><div class=\"sk-container\" hidden><div class=\"sk-item sk-dashed-wrapped\"><div class=\"sk-label-container\"><div class=\"sk-label fitted sk-toggleable\"><input class=\"sk-toggleable__control sk-hidden--visually\" id=\"sk-estimator-id-1\" type=\"checkbox\" ><label for=\"sk-estimator-id-1\" class=\"sk-toggleable__label fitted sk-toggleable__label-arrow fitted\">&nbsp;&nbsp;GridSearchCV<a class=\"sk-estimator-doc-link fitted\" rel=\"noreferrer\" target=\"_blank\" href=\"https://scikit-learn.org/1.5/modules/generated/sklearn.model_selection.GridSearchCV.html\">?<span>Documentation for GridSearchCV</span></a><span class=\"sk-estimator-doc-link fitted\">i<span>Fitted</span></span></label><div class=\"sk-toggleable__content fitted\"><pre>GridSearchCV(cv=5, estimator=RandomForestClassifier(random_state=42),\n",
              "             param_grid={&#x27;max_depth&#x27;: [None, 10, 20],\n",
              "                         &#x27;max_features&#x27;: [&#x27;sqrt&#x27;, &#x27;log2&#x27;, None],\n",
              "                         &#x27;n_estimators&#x27;: [100, 200, 500]},\n",
              "             scoring=&#x27;f1&#x27;)</pre></div> </div></div><div class=\"sk-parallel\"><div class=\"sk-parallel-item\"><div class=\"sk-item\"><div class=\"sk-label-container\"><div class=\"sk-label fitted sk-toggleable\"><input class=\"sk-toggleable__control sk-hidden--visually\" id=\"sk-estimator-id-2\" type=\"checkbox\" ><label for=\"sk-estimator-id-2\" class=\"sk-toggleable__label fitted sk-toggleable__label-arrow fitted\">best_estimator_: RandomForestClassifier</label><div class=\"sk-toggleable__content fitted\"><pre>RandomForestClassifier(n_estimators=500, random_state=42)</pre></div> </div></div><div class=\"sk-serial\"><div class=\"sk-item\"><div class=\"sk-estimator fitted sk-toggleable\"><input class=\"sk-toggleable__control sk-hidden--visually\" id=\"sk-estimator-id-3\" type=\"checkbox\" ><label for=\"sk-estimator-id-3\" class=\"sk-toggleable__label fitted sk-toggleable__label-arrow fitted\">&nbsp;RandomForestClassifier<a class=\"sk-estimator-doc-link fitted\" rel=\"noreferrer\" target=\"_blank\" href=\"https://scikit-learn.org/1.5/modules/generated/sklearn.ensemble.RandomForestClassifier.html\">?<span>Documentation for RandomForestClassifier</span></a></label><div class=\"sk-toggleable__content fitted\"><pre>RandomForestClassifier(n_estimators=500, random_state=42)</pre></div> </div></div></div></div></div></div></div></div></div>"
            ]
          },
          "metadata": {},
          "execution_count": 33
        }
      ]
    },
    {
      "cell_type": "code",
      "source": [
        "# Get the best model and its parameters\n",
        "best_rf_model = rf_gs.best_estimator_\n",
        "print(f\"Best Parameters: {rf_gs.best_params_}\")\n",
        "print(f\"Best F1 Score: {rf_gs.best_score_}\")\n",
        "print(f\"Best Estimator: {rf_gs.best_estimator_}\")"
      ],
      "metadata": {
        "colab": {
          "base_uri": "https://localhost:8080/"
        },
        "id": "LARU2IDS5UuA",
        "outputId": "26702ad2-9f4b-400a-9434-46d880686822"
      },
      "execution_count": 34,
      "outputs": [
        {
          "output_type": "stream",
          "name": "stdout",
          "text": [
            "Best Parameters: {'max_depth': None, 'max_features': 'sqrt', 'n_estimators': 500}\n",
            "Best F1 Score: 0.9584337233376667\n",
            "Best Estimator: RandomForestClassifier(n_estimators=500, random_state=42)\n"
          ]
        }
      ]
    },
    {
      "cell_type": "code",
      "source": [
        "# Make predictions on test data using the best model\n",
        "rf_predictions = best_rf_model.predict(X_test_std_sc)\n"
      ],
      "metadata": {
        "id": "cY1PGmXT6Diu"
      },
      "execution_count": 63,
      "outputs": []
    },
    {
      "cell_type": "code",
      "source": [
        "# 3. Confusion Matrix for test data\n",
        "rf_cm = confusion_matrix(y_test, rf_predictions)\n",
        "\n",
        "# Plotting confusion matrix using seaborn heatmap\n",
        "plt.figure(figsize=(8, 6))\n",
        "sns.heatmap(rf_cm, annot=True, fmt='d', cmap='Blues', cbar=False)\n",
        "plt.title('Random Forest Classifier - Confusion Matrix')\n",
        "plt.xlabel('Predicted Label')\n",
        "plt.ylabel('True Label')\n",
        "plt.show()\n",
        "\n",
        "# Classification report for test data\n",
        "rf_class_report = classification_report(y_test, rf_predictions)\n",
        "print('Classification Report (Test Data):')\n",
        "print(rf_class_report)\n"
      ],
      "metadata": {
        "colab": {
          "base_uri": "https://localhost:8080/",
          "height": 749
        },
        "id": "hzZg361U6HSZ",
        "outputId": "b4b07480-c948-4d07-b899-9629f51b72ba"
      },
      "execution_count": 64,
      "outputs": [
        {
          "output_type": "display_data",
          "data": {
            "text/plain": [
              "<Figure size 800x600 with 1 Axes>"
            ],
            "image/png": "[encoded data removed]"
          },
          "metadata": {}
        },
        {
          "output_type": "stream",
          "name": "stdout",
          "text": [
            "Classification Report (Test Data):\n",
            "              precision    recall  f1-score   support\n",
            "\n",
            "           0       0.94      0.71      0.81        21\n",
            "           1       0.88      0.98      0.92        44\n",
            "\n",
            "    accuracy                           0.89        65\n",
            "   macro avg       0.91      0.85      0.87        65\n",
            "weighted avg       0.90      0.89      0.89        65\n",
            "\n"
          ]
        }
      ]
    },
    {
      "cell_type": "code",
      "source": [
        "# Performance Metrics for Training Data (on resampled data)\n",
        "train_metrics_rf = {\n",
        "    'Precision': precision_score(y_train_resampled, best_rf_model.predict(X_train_std_sc)),\n",
        "    'Recall': recall_score(y_train_resampled, best_rf_model.predict(X_train_std_sc)),\n",
        "    'F1 Score': f1_score(y_train_resampled, best_rf_model.predict(X_train_std_sc)),\n",
        "    'Accuracy': accuracy_score(y_train_resampled, best_rf_model.predict(X_train_std_sc))\n",
        "}\n",
        "print(\"\\nTraining Metrics:\")\n",
        "for metric, value in train_metrics_rf.items():\n",
        "    print(f\"{metric}: {value:.4f}\")"
      ],
      "metadata": {
        "colab": {
          "base_uri": "https://localhost:8080/"
        },
        "id": "xnG97UpY6bib",
        "outputId": "193a99fd-123e-4a38-8fc9-2af508c6f88e"
      },
      "execution_count": 65,
      "outputs": [
        {
          "output_type": "stream",
          "name": "stdout",
          "text": [
            "\n",
            "Training Metrics:\n",
            "Precision: 1.0000\n",
            "Recall: 1.0000\n",
            "F1 Score: 1.0000\n",
            "Accuracy: 1.0000\n"
          ]
        }
      ]
    },
    {
      "cell_type": "code",
      "source": [
        "# Performance Metrics for Test Data\n",
        "test_metrics_rf = {\n",
        "    'Precision': precision_score(y_test, rf_predictions),\n",
        "    'Recall': recall_score(y_test, rf_predictions),\n",
        "    'F1 Score': f1_score(y_test, rf_predictions),\n",
        "    'Accuracy': accuracy_score(y_test, rf_predictions)\n",
        "}\n",
        "\n",
        "print(\"\\nTesting Metrics:\")\n",
        "for metric, value in test_metrics_rf.items():\n",
        "    print(f\"{metric}: {value:.4f}\")"
      ],
      "metadata": {
        "colab": {
          "base_uri": "https://localhost:8080/"
        },
        "id": "zm5uVPo9AxWu",
        "outputId": "15e307c9-02a3-4378-a3e6-c5f8685a60a4"
      },
      "execution_count": 66,
      "outputs": [
        {
          "output_type": "stream",
          "name": "stdout",
          "text": [
            "\n",
            "Testing Metrics:\n",
            "Precision: 0.8776\n",
            "Recall: 0.9773\n",
            "F1 Score: 0.9247\n",
            "Accuracy: 0.8923\n"
          ]
        }
      ]
    },
    {
      "cell_type": "markdown",
      "source": [
        "**2. XGBoost (Gradient Boosting)**"
      ],
      "metadata": {
        "id": "8NvOiPrXF1t_"
      }
    },
    {
      "cell_type": "code",
      "source": [
        "# Define the hyperparameter grid for XGBoost and run GridSearchCV\n",
        "xgb_grid = {\n",
        "    'n_estimators': [100, 200, 300],     # Number of boosting rounds\n",
        "    'max_depth': [3, 5, 7],              # Maximum depth of a tree\n",
        "    'learning_rate': [0.01, 0.1, 0.2],   # Step size shrinkage to prevent overfitting\n",
        "    'subsample': [0.8, 1.0]              # Fraction of samples to use for each boosting round\n",
        "}\n",
        "\n",
        "# Perform GridSearchCV to find the best model using F1 score\n",
        "xgb_search = GridSearchCV(estimator=XGBClassifier(random_state=42, use_label_encoder=False, eval_metric='logloss'),\n",
        "                          param_grid=xgb_grid,\n",
        "                          cv=5,\n",
        "                          scoring='f1')"
      ],
      "metadata": {
        "id": "vnwG-Og7F5Li"
      },
      "execution_count": 39,
      "outputs": []
    },
    {
      "cell_type": "code",
      "source": [
        "# Fit the model with training data\n",
        "xgb_search.fit(X_train_std_sc, y_train_resampled)\n",
        "\n",
        "# Extract the best XGBoost model\n",
        "best_xgb_model = xgb_search.best_estimator_\n",
        "\n",
        "# Make predictions on test data using the best model\n",
        "xgb_predictions = best_xgb_model.predict(X_test_std_sc)\n"
      ],
      "metadata": {
        "id": "yQ-PLp_PHpAo"
      },
      "execution_count": 44,
      "outputs": []
    },
    {
      "cell_type": "code",
      "source": [
        "# Confusion Matrix for test data\n",
        "xgb_cm = confusion_matrix(y_test, xgb_predictions)\n",
        "\n",
        "# Plotting confusion matrix using seaborn heatmap\n",
        "plt.figure(figsize=(8, 6))\n",
        "sns.heatmap(xgb_cm, annot=True, fmt='d', cmap='Oranges', cbar=False)\n",
        "plt.title('XGBoost Classifier - Confusion Matrix')\n",
        "plt.xlabel('Predicted Label')\n",
        "plt.ylabel('True Label')\n",
        "plt.show()"
      ],
      "metadata": {
        "colab": {
          "base_uri": "https://localhost:8080/",
          "height": 564
        },
        "id": "y7zhinteHwpR",
        "outputId": "fbe5868c-77d7-415a-9fde-b22c3549f331"
      },
      "execution_count": 45,
      "outputs": [
        {
          "output_type": "display_data",
          "data": {
            "text/plain": [
              "<Figure size 800x600 with 1 Axes>"
            ],
            "image/png": "[encoded data removed]"
          },
          "metadata": {}
        }
      ]
    },
    {
      "cell_type": "code",
      "source": [
        "# Classification report for test data\n",
        "xgb_class_report = classification_report(y_test, xgb_predictions)\n",
        "print('Classification Report (Test Data):')\n",
        "print(xgb_class_report)\n"
      ],
      "metadata": {
        "colab": {
          "base_uri": "https://localhost:8080/"
        },
        "id": "rzE23z7jhH3y",
        "outputId": "1c99789e-a173-4c8a-fe68-dbb713e6e959"
      },
      "execution_count": 52,
      "outputs": [
        {
          "output_type": "stream",
          "name": "stdout",
          "text": [
            "Classification Report (Test Data):\n",
            "              precision    recall  f1-score   support\n",
            "\n",
            "           0       0.90      0.86      0.88        21\n",
            "           1       0.93      0.95      0.94        44\n",
            "\n",
            "    accuracy                           0.92        65\n",
            "   macro avg       0.92      0.91      0.91        65\n",
            "weighted avg       0.92      0.92      0.92        65\n",
            "\n"
          ]
        }
      ]
    },
    {
      "cell_type": "code",
      "source": [
        "# Performance Metrics for Training Data (on resampled data)\n",
        "train_metrics_xgb = {\n",
        "    'Precision': precision_score(y_train_resampled, best_xgb_model.predict(X_train_std_sc)),\n",
        "    'Recall': recall_score(y_train_resampled, best_xgb_model.predict(X_train_std_sc)),\n",
        "    'F1 Score': f1_score(y_train_resampled, best_xgb_model.predict(X_train_std_sc)),\n",
        "    'Accuracy': accuracy_score(y_train_resampled, best_xgb_model.predict(X_train_std_sc))\n",
        "}\n",
        "\n",
        "print(\"\\nTraining Metrics:\")\n",
        "for metric, value in train_metrics_xgb.items():\n",
        "    print(f\"{metric}: {value:.4f}\")"
      ],
      "metadata": {
        "colab": {
          "base_uri": "https://localhost:8080/"
        },
        "id": "exeDlG5dijQH",
        "outputId": "48245073-c8a1-4d84-fa33-a6833f57ca75"
      },
      "execution_count": 53,
      "outputs": [
        {
          "output_type": "stream",
          "name": "stdout",
          "text": [
            "\n",
            "Training Metrics:\n",
            "Precision: 1.0000\n",
            "Recall: 1.0000\n",
            "F1 Score: 1.0000\n",
            "Accuracy: 1.0000\n"
          ]
        }
      ]
    },
    {
      "cell_type": "code",
      "source": [
        "# Performance Metrics for Test Data\n",
        "test_metrics_xgb = {\n",
        "    'Precision': precision_score(y_test, xgb_predictions),\n",
        "    'Recall': recall_score(y_test, xgb_predictions),\n",
        "    'F1 Score': f1_score(y_test, xgb_predictions),\n",
        "    'Accuracy': accuracy_score(y_test, xgb_predictions)\n",
        "}\n",
        "print(\"\\nTesting Metrics:\")\n",
        "for metric, value in test_metrics_xgb.items():\n",
        "    print(f\"{metric}: {value:.4f}\")"
      ],
      "metadata": {
        "colab": {
          "base_uri": "https://localhost:8080/"
        },
        "id": "qhmp6cE7h7HB",
        "outputId": "6acce008-f7d6-43ad-e1f8-0951890634c9"
      },
      "execution_count": 51,
      "outputs": [
        {
          "output_type": "stream",
          "name": "stdout",
          "text": [
            "\n",
            "Testing Metrics:\n",
            "Precision: 0.9333\n",
            "Recall: 0.9545\n",
            "F1 Score: 0.9438\n",
            "Accuracy: 0.9231\n"
          ]
        }
      ]
    },
    {
      "cell_type": "markdown",
      "source": [
        "**3. Logistic Regression**"
      ],
      "metadata": {
        "id": "eNnJ92ZCjCIF"
      }
    },
    {
      "cell_type": "code",
      "source": [
        " # Define the hyperparameter grid for Logistic Regression and run GridSearchCV\n",
        "logreg_param_grid = {\n",
        "    'C': [0.01, 0.1, 1, 10, 100],  # Inverse of regularization strength\n",
        "    'penalty': ['l2'],             # Regularization term (l2 is common for Logistic Regression)\n",
        "    'solver': ['lbfgs', 'liblinear']  # Solver for optimization\n",
        "}\n",
        "\n",
        "# Perform GridSearchCV to find the best Logistic Regression model using F1 score\n",
        "logreg_search = GridSearchCV(estimator=LogisticRegression(random_state=42, max_iter=1000),\n",
        "                             param_grid=logreg_param_grid,\n",
        "                             cv=5,\n",
        "                             scoring='f1')\n",
        "\n",
        "# Fit the model with training data\n",
        "logreg_search.fit(X_train_std_sc, y_train_resampled)\n",
        "\n",
        "# Extract the best Logistic Regression model\n",
        "best_logreg_model = logreg_search.best_estimator_"
      ],
      "metadata": {
        "id": "wiPvA9Y4jLRx"
      },
      "execution_count": 54,
      "outputs": []
    },
    {
      "cell_type": "code",
      "source": [
        "# Make predictions on test data using the best model\n",
        "logreg_predictions = best_logreg_model.predict(X_test_std_sc)"
      ],
      "metadata": {
        "id": "ixNrXVfmjVSz"
      },
      "execution_count": 55,
      "outputs": []
    },
    {
      "cell_type": "code",
      "source": [
        "# Confusion Matrix for test data\n",
        "logreg_cm = confusion_matrix(y_test, logreg_predictions)\n",
        "# Plotting confusion matrix using seaborn heatmap\n",
        "plt.figure(figsize=(8, 6))\n",
        "sns.heatmap(logreg_cm, annot=True, fmt='d', cmap='Blues', cbar=False)\n",
        "plt.title('Logistic Regression - Confusion Matrix')\n",
        "plt.xlabel('Predicted Label')\n",
        "plt.ylabel('True Label')\n",
        "plt.show()"
      ],
      "metadata": {
        "colab": {
          "base_uri": "https://localhost:8080/",
          "height": 564
        },
        "id": "ZtVOZ1W1jY2E",
        "outputId": "0c87f177-1939-4b2c-9cdc-ffe5b9d7c3d2"
      },
      "execution_count": 57,
      "outputs": [
        {
          "output_type": "display_data",
          "data": {
            "text/plain": [
              "<Figure size 800x600 with 1 Axes>"
            ],
            "image/png": "[encoded data removed]"
          },
          "metadata": {}
        }
      ]
    },
    {
      "cell_type": "code",
      "source": [
        "# Classification report for test data\n",
        "logreg_class_report = classification_report(y_test, logreg_predictions)\n",
        "print('Classification Report (Test Data):')\n",
        "print(logreg_class_report)"
      ],
      "metadata": {
        "colab": {
          "base_uri": "https://localhost:8080/"
        },
        "id": "1xXOP6dqjbht",
        "outputId": "0d4e5a39-e83e-421b-d25a-97f7f9d7ee9d"
      },
      "execution_count": 58,
      "outputs": [
        {
          "output_type": "stream",
          "name": "stdout",
          "text": [
            "Classification Report (Test Data):\n",
            "              precision    recall  f1-score   support\n",
            "\n",
            "           0       0.71      0.57      0.63        21\n",
            "           1       0.81      0.89      0.85        44\n",
            "\n",
            "    accuracy                           0.78        65\n",
            "   macro avg       0.76      0.73      0.74        65\n",
            "weighted avg       0.78      0.78      0.78        65\n",
            "\n"
          ]
        }
      ]
    },
    {
      "cell_type": "code",
      "source": [
        "# Performance Metrics for Training Data (on resampled data)\n",
        "train_metrics_logreg = {\n",
        "    'Precision': precision_score(y_train_resampled, best_logreg_model.predict(X_train_std_sc)),\n",
        "    'Recall': recall_score(y_train_resampled, best_logreg_model.predict(X_train_std_sc)),\n",
        "    'F1 Score': f1_score(y_train_resampled, best_logreg_model.predict(X_train_std_sc)),\n",
        "    'Accuracy': accuracy_score(y_train_resampled, best_logreg_model.predict(X_train_std_sc))\n",
        "}\n",
        "print(\"\\nTraining Metrics:\")\n",
        "for metric, value in train_metrics_logreg.items():\n",
        "    print(f\"{metric}: {value:.4f}\")"
      ],
      "metadata": {
        "colab": {
          "base_uri": "https://localhost:8080/"
        },
        "id": "bv2atphhjh44",
        "outputId": "e5eb2d83-69d5-4d18-d9c0-d77e4a2a2777"
      },
      "execution_count": 59,
      "outputs": [
        {
          "output_type": "stream",
          "name": "stdout",
          "text": [
            "\n",
            "Training Metrics:\n",
            "Precision: 0.9151\n",
            "Recall: 0.9327\n",
            "F1 Score: 0.9238\n",
            "Accuracy: 0.9231\n"
          ]
        }
      ]
    },
    {
      "cell_type": "code",
      "source": [
        "# Performance Metrics for Test Data\n",
        "test_metrics_logreg = {\n",
        "    'Precision': precision_score(y_test, logreg_predictions),\n",
        "    'Recall': recall_score(y_test, logreg_predictions),\n",
        "    'F1 Score': f1_score(y_test, logreg_predictions),\n",
        "    'Accuracy': accuracy_score(y_test, logreg_predictions)\n",
        "}\n",
        "print(\"\\nTesting Metrics:\")\n",
        "for metric, value in test_metrics_logreg.items():\n",
        "    print(f\"{metric}: {value:.4f}\")\n"
      ],
      "metadata": {
        "colab": {
          "base_uri": "https://localhost:8080/"
        },
        "id": "7-KnAvTMjrS9",
        "outputId": "4301da97-55f6-4e9a-8bf2-153b8c0dbd96"
      },
      "execution_count": 60,
      "outputs": [
        {
          "output_type": "stream",
          "name": "stdout",
          "text": [
            "\n",
            "Testing Metrics:\n",
            "Precision: 0.8125\n",
            "Recall: 0.8864\n",
            "F1 Score: 0.8478\n",
            "Accuracy: 0.7846\n"
          ]
        }
      ]
    },
    {
      "cell_type": "markdown",
      "source": [
        "**Voting Classifier**"
      ],
      "metadata": {
        "id": "zIOTdewn-_ar"
      }
    },
    {
      "cell_type": "code",
      "source": [
        "# Initialize the base classifiers with new names\n",
        "log_reg = LogisticRegression(C=1, penalty='l2', random_state=42)  # Logistic Regression\n",
        "svm_clf = SVC(C=10, degree=2, kernel='linear', random_state=42)  # Support Vector Classifier\n",
        "rf_clf = RandomForestClassifier(max_depth=None, max_features='sqrt', n_estimators=500, random_state=42)  # Random Forest\n",
        "xgboost_clf = XGBClassifier(learning_rate=0.01, max_depth=6, n_estimators=500, random_state=42)  # XGBoost\n",
        "\n",
        "# Initialize the Voting Classifier with the above base models\n",
        "voting_classifier = VotingClassifier(estimators=[('log_reg', log_reg), ('svm_clf', svm_clf), ('rf_clf', rf_clf), ('xgboost_clf', xgboost_clf)], voting='hard')"
      ],
      "metadata": {
        "id": "vEWXOMSoDD9E"
      },
      "execution_count": 79,
      "outputs": []
    },
    {
      "cell_type": "code",
      "source": [
        "\n",
        "# Fit the Voting Classifier on the resampled training data\n",
        "voting_classifier.fit(X_train_std_sc, y_train_resampled)\n",
        "\n",
        "# Make predictions on the test set\n",
        "y_pred_voting = voting_classifier.predict(X_test_std_sc)  # Corrected variable name\n",
        "\n",
        "# Generate and plot the confusion matrix\n",
        "cm_voting = confusion_matrix(y_test, y_pred_voting)\n",
        "sns.heatmap(cm_voting, annot=True, fmt='d')  # annot=True to show the values in the heatmap\n",
        "plt.xlabel('Predicted')\n",
        "plt.ylabel('Actual')\n",
        "plt.title('Confusion Matrix')\n",
        "plt.show()\n",
        "\n",
        "# Print the classification report to evaluate the model's performance\n",
        "print(classification_report(y_test, y_pred_voting))"
      ],
      "metadata": {
        "colab": {
          "base_uri": "https://localhost:8080/",
          "height": 638
        },
        "id": "mDsvGjwKDYon",
        "outputId": "31e69df3-f138-47cc-98f9-bd4cadab9bf1"
      },
      "execution_count": 81,
      "outputs": [
        {
          "output_type": "display_data",
          "data": {
            "text/plain": [
              "<Figure size 640x480 with 2 Axes>"
            ],
            "image/png": "[encoded data removed]"
          },
          "metadata": {}
        },
        {
          "output_type": "stream",
          "name": "stdout",
          "text": [
            "              precision    recall  f1-score   support\n",
            "\n",
            "           0       0.78      0.86      0.82        21\n",
            "           1       0.93      0.89      0.91        44\n",
            "\n",
            "    accuracy                           0.88        65\n",
            "   macro avg       0.86      0.87      0.86        65\n",
            "weighted avg       0.88      0.88      0.88        65\n",
            "\n"
          ]
        }
      ]
    },
    {
      "cell_type": "code",
      "source": [
        "# Calculate performance metrics for the testing set\n",
        "voting_precision = precision_score(y_test, y_pred_voting)\n",
        "voting_recall = recall_score(y_test, y_pred_voting)\n",
        "voting_f1 = f1_score(y_test, y_pred_voting)\n",
        "voting_accuracy = accuracy_score(y_test, y_pred_voting)\n",
        "\n",
        "# Display testing metrics\n",
        "print('Testing metrics:')\n",
        "print('Precision: ', voting_precision)\n",
        "print('Recall: ', voting_recall)\n",
        "print('F1 Score: ', voting_f1)\n",
        "print('Accuracy: ', voting_accuracy)"
      ],
      "metadata": {
        "colab": {
          "base_uri": "https://localhost:8080/"
        },
        "id": "WHJssPR8ECAX",
        "outputId": "69e511a6-caae-40fc-93ce-2d6cc0963516"
      },
      "execution_count": 84,
      "outputs": [
        {
          "output_type": "stream",
          "name": "stdout",
          "text": [
            "Testing metrics:\n",
            "Precision:  0.9285714285714286\n",
            "Recall:  0.8863636363636364\n",
            "F1 Score:  0.9069767441860465\n",
            "Accuracy:  0.8769230769230769\n"
          ]
        }
      ]
    },
    {
      "cell_type": "code",
      "source": [
        "# Print the training metrics (on resampled data)\n",
        "train_precision = precision_score(y_train_resampled, voting_classifier.predict(X_train_std_sc))\n",
        "train_recall = recall_score(y_train_resampled, voting_classifier.predict(X_train_std_sc))\n",
        "train_f1 = f1_score(y_train_resampled, voting_classifier.predict(X_train_std_sc))\n",
        "train_accuracy = accuracy_score(y_train_resampled, voting_classifier.predict(X_train_std_sc))\n",
        "\n",
        "# Display training metrics\n",
        "print('Training metrics:')\n",
        "print('Precision: ', train_precision)\n",
        "print('Recall: ', train_recall)\n",
        "print('F1 Score: ', train_f1)\n",
        "print('Accuracy: ', train_accuracy)\n",
        "print('_' * 50)"
      ],
      "metadata": {
        "colab": {
          "base_uri": "https://localhost:8080/"
        },
        "id": "lppaYeO6EQ22",
        "outputId": "3c612f21-6711-4954-c660-4a1f0e5e5160"
      },
      "execution_count": 85,
      "outputs": [
        {
          "output_type": "stream",
          "name": "stdout",
          "text": [
            "Training metrics:\n",
            "Precision:  1.0\n",
            "Recall:  0.9519230769230769\n",
            "F1 Score:  0.9753694581280788\n",
            "Accuracy:  0.9759615384615384\n",
            "__________________________________________________\n"
          ]
        }
      ]
    },
    {
      "cell_type": "code",
      "source": [
        "\n",
        "# Prepare the data for each model\n",
        "metrics_data_rf = {\n",
        "    'Metric': ['Precision', 'Recall', 'F1 Score', 'Accuracy'],\n",
        "    'Score': [test_metrics_rf['Precision'], test_metrics_rf['Recall'], test_metrics_rf['F1 Score'], test_metrics_rf['Accuracy']]\n",
        "}\n",
        "\n",
        "metrics_data_xgb = {\n",
        "    'Metric': ['Precision', 'Recall', 'F1 Score', 'Accuracy'],\n",
        "    'Score': [test_metrics_xgb['Precision'], test_metrics_xgb['Recall'], test_metrics_xgb['F1 Score'], test_metrics_xgb['Accuracy']]\n",
        "}\n",
        "\n",
        "metrics_data_logreg = {\n",
        "    'Metric': ['Precision', 'Recall', 'F1 Score', 'Accuracy'],\n",
        "    'Score': [test_metrics_logreg['Precision'], test_metrics_logreg['Recall'], test_metrics_logreg['F1 Score'], test_metrics_logreg['Accuracy']]\n",
        "}\n",
        "\n",
        "metrics_data_voting = {\n",
        "    'Metric': ['Precision', 'Recall', 'F1 Score', 'Accuracy'],\n",
        "    'Score': [voting_precision, voting_recall, voting_f1, voting_accuracy]\n",
        "}\n",
        "\n",
        "# Convert to DataFrame for each model\n",
        "df_rf = pd.DataFrame(metrics_data_rf)\n",
        "df_xgb = pd.DataFrame(metrics_data_xgb)\n",
        "df_logreg = pd.DataFrame(metrics_data_logreg)\n",
        "df_voting = pd.DataFrame(metrics_data_voting)\n",
        "\n",
        "# Plotting histograms\n",
        "fig, axes = plt.subplots(1, 4, figsize=(18, 6))  # One row, three columns for the three models\n",
        "\n",
        "# Random Forest Histogram\n",
        "sns.barplot(x='Metric', y='Score', data=df_rf, ax=axes[0], palette='Blues_d')\n",
        "axes[0].set_title(\"Random Forest Performance\", fontsize=16)\n",
        "axes[0].set_xlabel(\"Metrics\", fontsize=12)\n",
        "axes[0].set_ylabel(\"Score\", fontsize=12)\n",
        "axes[0].set_ylim(0, 1)  # Ensure consistent scale for all models\n",
        "\n",
        "# XGBoost Histogram\n",
        "sns.barplot(x='Metric', y='Score', data=df_xgb, ax=axes[1], palette='Greens_d')\n",
        "axes[1].set_title(\"XGBoost Performance\", fontsize=16)\n",
        "axes[1].set_xlabel(\"Metrics\", fontsize=12)\n",
        "axes[1].set_ylabel(\"Score\", fontsize=12)\n",
        "axes[1].set_ylim(0, 1)  # Ensure consistent scale for all models\n",
        "\n",
        "# Logistic Regression Histogram\n",
        "sns.barplot(x='Metric', y='Score', data=df_logreg, ax=axes[2], palette='Reds_d')\n",
        "axes[2].set_title(\"Logistic Regression Performance\", fontsize=16)\n",
        "axes[2].set_xlabel(\"Metrics\", fontsize=12)\n",
        "axes[2].set_ylabel(\"Score\", fontsize=12)\n",
        "axes[2].set_ylim(0, 1)  # Ensure consistent scale for all models\n",
        "\n",
        "# Voting Classifier Histogram\n",
        "sns.barplot(x='Metric', y='Score', data=df_voting, ax=axes[3], palette='Purples_d')\n",
        "axes[3].set_title(\"Voting Classifier Performance\", fontsize=16)\n",
        "axes[3].set_xlabel(\"Metrics\", fontsize=12)\n",
        "axes[3].set_ylabel(\"Score\", fontsize=12)\n",
        "axes[3].set_ylim(0, 1)  # Ensure consistent scale for all models\n",
        "\n",
        "# Adjust layout to prevent overlapping\n",
        "plt.tight_layout()\n",
        "plt.show()\n"
      ],
      "metadata": {
        "colab": {
          "base_uri": "https://localhost:8080/",
          "height": 509
        },
        "id": "P2ZISRf_mRMw",
        "outputId": "3bccb0c0-8542-407a-d9aa-c14756370e66"
      },
      "execution_count": 87,
      "outputs": [
        {
          "output_type": "display_data",
          "data": {
            "text/plain": [
              "<Figure size 1800x600 with 4 Axes>"
            ],
            "image/png": "[encoded data removed]"
          },
          "metadata": {}
        }
      ]
    },
    {
      "cell_type": "code",
      "source": [
        "\n",
        "# F1 Scores for each model (using the F1 Scores from the previous model evaluation)\n",
        "f1_scores = {\n",
        "    'Random Forest': test_metrics_rf['F1 Score'],\n",
        "    'XGBoost': test_metrics_xgb['F1 Score'],\n",
        "    'Logistic Regression': test_metrics_logreg['F1 Score'],\n",
        "    'Voting Classifier': voting_f1\n",
        "}\n",
        "\n",
        "# Convert to DataFrame for easy plotting\n",
        "df_f1 = pd.DataFrame(list(f1_scores.items()), columns=['Model', 'F1 Score'])\n",
        "\n",
        "# Plotting the F1 Score comparison\n",
        "plt.figure(figsize=(8, 6))\n",
        "sns.barplot(x='Model', y='F1 Score', data=df_f1, palette='viridis')\n",
        "\n",
        "# Customize the plot\n",
        "plt.title('Comparison of F1 Score Across Models', fontsize=16)\n",
        "plt.xlabel('Model', fontsize=12)\n",
        "plt.ylabel('F1 Score', fontsize=12)\n",
        "plt.ylim(0, 1)  # Ensuring consistent scale (0 to 1)\n",
        "plt.show()\n"
      ],
      "metadata": {
        "colab": {
          "base_uri": "https://localhost:8080/",
          "height": 570
        },
        "id": "BZEl4yAExUMz",
        "outputId": "223a31e8-d83e-4daa-b406-3ecc1c68e652"
      },
      "execution_count": 90,
      "outputs": [
        {
          "output_type": "display_data",
          "data": {
            "text/plain": [
              "<Figure size 800x600 with 1 Axes>"
            ],
            "image/png": "[encoded data removed]"
          },
          "metadata": {}
        }
      ]
    },
    {
      "cell_type": "code",
      "source": [],
      "metadata": {
        "id": "FqefET44yQQ6"
      },
      "execution_count": null,
      "outputs": []
    }
  ]
}